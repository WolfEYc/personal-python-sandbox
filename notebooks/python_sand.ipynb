{
 "cells": [
  {
   "cell_type": "code",
   "execution_count": 95,
   "metadata": {},
   "outputs": [
    {
     "data": {
      "text/plain": [
       "<itertools.islice at 0x117218950>"
      ]
     },
     "execution_count": 95,
     "metadata": {},
     "output_type": "execute_result"
    }
   ],
   "source": [
    "from itertools import islice\n",
    "\n",
    "a = map(lambda x: x - 1, range(10))\n",
    "slice_of_a = islice(a, 5)\n",
    "slice_of_a"
   ]
  },
  {
   "cell_type": "code",
   "execution_count": 96,
   "metadata": {},
   "outputs": [
    {
     "data": {
      "text/plain": [
       "[-1, 0, 1, 2, 3]"
      ]
     },
     "execution_count": 96,
     "metadata": {},
     "output_type": "execute_result"
    }
   ],
   "source": [
    "list(slice_of_a)"
   ]
  },
  {
   "cell_type": "code",
   "execution_count": 97,
   "metadata": {},
   "outputs": [
    {
     "data": {
      "text/html": [
       "<div><style>\n",
       ".dataframe > thead > tr,\n",
       ".dataframe > tbody > tr {\n",
       "  text-align: right;\n",
       "  white-space: pre-wrap;\n",
       "}\n",
       "</style>\n",
       "<small>shape: (10, 1)</small><table border=\"1\" class=\"dataframe\"><thead><tr><th>a</th></tr><tr><td>i64</td></tr></thead><tbody><tr><td>1</td></tr><tr><td>2</td></tr><tr><td>3</td></tr><tr><td>4</td></tr><tr><td>5</td></tr><tr><td>6</td></tr><tr><td>7</td></tr><tr><td>8</td></tr><tr><td>9</td></tr><tr><td>10</td></tr></tbody></table></div>"
      ],
      "text/plain": [
       "shape: (10, 1)\n",
       "┌─────┐\n",
       "│ a   │\n",
       "│ --- │\n",
       "│ i64 │\n",
       "╞═════╡\n",
       "│ 1   │\n",
       "│ 2   │\n",
       "│ 3   │\n",
       "│ 4   │\n",
       "│ …   │\n",
       "│ 7   │\n",
       "│ 8   │\n",
       "│ 9   │\n",
       "│ 10  │\n",
       "└─────┘"
      ]
     },
     "execution_count": 97,
     "metadata": {},
     "output_type": "execute_result"
    }
   ],
   "source": [
    "import polars as pl\n",
    "\n",
    "df = pl.DataFrame({\"a\": [1, 2, 3, 4, 5, 6, 7, 8, 9, 10]})\n",
    "df"
   ]
  },
  {
   "cell_type": "code",
   "execution_count": 98,
   "metadata": {},
   "outputs": [
    {
     "data": {
      "text/html": [
       "<div><style>\n",
       ".dataframe > thead > tr,\n",
       ".dataframe > tbody > tr {\n",
       "  text-align: right;\n",
       "  white-space: pre-wrap;\n",
       "}\n",
       "</style>\n",
       "<small>shape: (5, 1)</small><table border=\"1\" class=\"dataframe\"><thead><tr><th>a</th></tr><tr><td>null</td></tr></thead><tbody><tr><td>null</td></tr><tr><td>null</td></tr><tr><td>null</td></tr><tr><td>null</td></tr><tr><td>null</td></tr></tbody></table></div>"
      ],
      "text/plain": [
       "shape: (5, 1)\n",
       "┌──────┐\n",
       "│ a    │\n",
       "│ ---  │\n",
       "│ null │\n",
       "╞══════╡\n",
       "│ null │\n",
       "│ null │\n",
       "│ null │\n",
       "│ null │\n",
       "│ null │\n",
       "└──────┘"
      ]
     },
     "execution_count": 98,
     "metadata": {},
     "output_type": "execute_result"
    }
   ],
   "source": [
    "df2 = pl.DataFrame({\"a\": [None, None, None, None, None]}, schema={\"a\": pl.Null})\n",
    "df2"
   ]
  },
  {
   "cell_type": "code",
   "execution_count": 99,
   "metadata": {},
   "outputs": [
    {
     "data": {
      "text/html": [
       "<div><style>\n",
       ".dataframe > thead > tr,\n",
       ".dataframe > tbody > tr {\n",
       "  text-align: right;\n",
       "  white-space: pre-wrap;\n",
       "}\n",
       "</style>\n",
       "<small>shape: (15, 1)</small><table border=\"1\" class=\"dataframe\"><thead><tr><th>a</th></tr><tr><td>i64</td></tr></thead><tbody><tr><td>null</td></tr><tr><td>null</td></tr><tr><td>null</td></tr><tr><td>null</td></tr><tr><td>null</td></tr><tr><td>1</td></tr><tr><td>2</td></tr><tr><td>3</td></tr><tr><td>4</td></tr><tr><td>5</td></tr><tr><td>6</td></tr><tr><td>7</td></tr><tr><td>8</td></tr><tr><td>9</td></tr><tr><td>10</td></tr></tbody></table></div>"
      ],
      "text/plain": [
       "shape: (15, 1)\n",
       "┌──────┐\n",
       "│ a    │\n",
       "│ ---  │\n",
       "│ i64  │\n",
       "╞══════╡\n",
       "│ null │\n",
       "│ null │\n",
       "│ null │\n",
       "│ null │\n",
       "│ …    │\n",
       "│ 7    │\n",
       "│ 8    │\n",
       "│ 9    │\n",
       "│ 10   │\n",
       "└──────┘"
      ]
     },
     "execution_count": 99,
     "metadata": {},
     "output_type": "execute_result"
    }
   ],
   "source": [
    "df3 = pl.concat([df2, df], how=\"diagonal_relaxed\")\n",
    "df3"
   ]
  },
  {
   "cell_type": "code",
   "execution_count": 100,
   "metadata": {},
   "outputs": [],
   "source": [
    "def get_join_table(\n",
    "    left: pl.LazyFrame,\n",
    "    right: pl.LazyFrame,\n",
    "    left_on: set[str],\n",
    "    right_pkey: str,\n",
    ") -> pl.LazyFrame:\n",
    "    left_on = left_on.intersection(left.columns)\n",
    "    left_join_table = left.select(left_on)\n",
    "    joins = map(\n",
    "        lambda x: left_join_table.join(\n",
    "            right, left_on=x, right_on=right_pkey, how=\"inner\"\n",
    "        ),\n",
    "        left_on,\n",
    "    )\n",
    "\n",
    "    left_join_table = pl.concat(joins)\n",
    "\n",
    "    return left_join_table"
   ]
  },
  {
   "cell_type": "code",
   "execution_count": 101,
   "metadata": {},
   "outputs": [
    {
     "data": {
      "text/html": [
       "<div><style>\n",
       ".dataframe > thead > tr,\n",
       ".dataframe > tbody > tr {\n",
       "  text-align: right;\n",
       "  white-space: pre-wrap;\n",
       "}\n",
       "</style>\n",
       "<small>shape: (14, 5)</small><table border=\"1\" class=\"dataframe\"><thead><tr><th>a</th><th>aa</th><th>borrow</th><th>b</th><th>b_right</th></tr><tr><td>i64</td><td>i64</td><td>str</td><td>str</td><td>str</td></tr></thead><tbody><tr><td>1</td><td>11</td><td>&quot;38393939&quot;</td><td>&quot;cat&quot;</td><td>&quot;eeeeee&quot;</td></tr><tr><td>1</td><td>11</td><td>&quot;38393939&quot;</td><td>&quot;dog&quot;</td><td>&quot;eeeeee&quot;</td></tr><tr><td>2</td><td>22</td><td>&quot;43243434&quot;</td><td>&quot;bean&quot;</td><td>&quot;000000&quot;</td></tr><tr><td>2</td><td>22</td><td>&quot;43243434&quot;</td><td>&quot;soup&quot;</td><td>&quot;000000&quot;</td></tr><tr><td>3</td><td>33</td><td>&quot;barto&quot;</td><td>&quot;cat&quot;</td><td>null</td></tr><tr><td>3</td><td>33</td><td>&quot;barto&quot;</td><td>&quot;dog&quot;</td><td>null</td></tr><tr><td>4</td><td>4</td><td>&quot;beano&quot;</td><td>&quot;bean&quot;</td><td>&quot;bean&quot;</td></tr><tr><td>5</td><td>5</td><td>&quot;super&quot;</td><td>&quot;soup&quot;</td><td>&quot;soup&quot;</td></tr><tr><td>6</td><td>6</td><td>&quot;blyat&quot;</td><td>&quot;cat&quot;</td><td>&quot;cat&quot;</td></tr><tr><td>7</td><td>7</td><td>&quot;blyat&quot;</td><td>&quot;dog&quot;</td><td>&quot;dog&quot;</td></tr><tr><td>8</td><td>8</td><td>&quot;blyat&quot;</td><td>&quot;bean&quot;</td><td>&quot;bean&quot;</td></tr><tr><td>9</td><td>9</td><td>&quot;blyat&quot;</td><td>&quot;soup&quot;</td><td>&quot;soup&quot;</td></tr><tr><td>10</td><td>10</td><td>&quot;blyat&quot;</td><td>&quot;cat&quot;</td><td>&quot;cat&quot;</td></tr><tr><td>11</td><td>null</td><td>&quot;blyat&quot;</td><td>&quot;eeeeee&quot;</td><td>null</td></tr></tbody></table></div>"
      ],
      "text/plain": [
       "shape: (14, 5)\n",
       "┌─────┬──────┬──────────┬────────┬─────────┐\n",
       "│ a   ┆ aa   ┆ borrow   ┆ b      ┆ b_right │\n",
       "│ --- ┆ ---  ┆ ---      ┆ ---    ┆ ---     │\n",
       "│ i64 ┆ i64  ┆ str      ┆ str    ┆ str     │\n",
       "╞═════╪══════╪══════════╪════════╪═════════╡\n",
       "│ 1   ┆ 11   ┆ 38393939 ┆ cat    ┆ eeeeee  │\n",
       "│ 1   ┆ 11   ┆ 38393939 ┆ dog    ┆ eeeeee  │\n",
       "│ 2   ┆ 22   ┆ 43243434 ┆ bean   ┆ 000000  │\n",
       "│ 2   ┆ 22   ┆ 43243434 ┆ soup   ┆ 000000  │\n",
       "│ …   ┆ …    ┆ …        ┆ …      ┆ …       │\n",
       "│ 8   ┆ 8    ┆ blyat    ┆ bean   ┆ bean    │\n",
       "│ 9   ┆ 9    ┆ blyat    ┆ soup   ┆ soup    │\n",
       "│ 10  ┆ 10   ┆ blyat    ┆ cat    ┆ cat     │\n",
       "│ 11  ┆ null ┆ blyat    ┆ eeeeee ┆ null    │\n",
       "└─────┴──────┴──────────┴────────┴─────────┘"
      ]
     },
     "execution_count": 101,
     "metadata": {},
     "output_type": "execute_result"
    }
   ],
   "source": [
    "df1 = pl.LazyFrame(\n",
    "    {\n",
    "        \"a\": [1, 2, 3, 4, 5, 6, 7, 8, 9, 10, 11],\n",
    "        \"aa\": [11, 22, 33, 4, 5, 6, 7, 8, 9, 10, None],\n",
    "        \"borrow\": [\n",
    "            \"38393939\",\n",
    "            \"43243434\",\n",
    "            \"barto\",\n",
    "            \"beano\",\n",
    "            \"super\",\n",
    "            \"blyat\",\n",
    "            \"blyat\",\n",
    "            \"blyat\",\n",
    "            \"blyat\",\n",
    "            \"blyat\",\n",
    "            \"blyat\",\n",
    "        ],\n",
    "    }\n",
    ")\n",
    "\n",
    "df2 = pl.LazyFrame(\n",
    "    {\n",
    "        \"bean\": [1, 1, 2, 2, 3, 3, 4, 5, 6, 7, 8, 9, 10, 11, 22],\n",
    "        \"b\": [\n",
    "            \"cat\",\n",
    "            \"dog\",\n",
    "            \"bean\",\n",
    "            \"soup\",\n",
    "            \"cat\",\n",
    "            \"dog\",\n",
    "            \"bean\",\n",
    "            \"soup\",\n",
    "            \"cat\",\n",
    "            \"dog\",\n",
    "            \"bean\",\n",
    "            \"soup\",\n",
    "            \"cat\",\n",
    "            \"eeeeee\",\n",
    "            \"000000\",\n",
    "        ],\n",
    "    },\n",
    ")\n",
    "\n",
    "# df2 = df2.group_by(\"bean\").agg(\"b\")\n",
    "\n",
    "df3 = df1.join(df2, left_on=\"a\", right_on=\"bean\", how=\"left\")\n",
    "df3 = df3.join(df2, left_on=\"aa\", right_on=\"bean\", how=\"left\")\n",
    "df3.collect()"
   ]
  },
  {
   "cell_type": "code",
   "execution_count": 102,
   "metadata": {},
   "outputs": [
    {
     "ename": "ColumnNotFoundError",
     "evalue": "unable to find column \"bean\"; valid columns: [\"aa\", \"a\", \"b\"]\n\nError originated just after this operation:\nUNION\n  PLAN 0:\n    INNER JOIN:\n    LEFT PLAN ON: [col(\"aa\")]\n       SELECT [col(\"aa\"), col(\"a\")] FROM\n        DF [\"a\", \"aa\", \"borrow\"]; PROJECT */3 COLUMNS; SELECTION: \"None\"\n    RIGHT PLAN ON: [col(\"bean\")]\n      DF [\"bean\", \"b\"]; PROJECT */2 COLUMNS; SELECTION: \"None\"\n    END INNER JOIN\n  PLAN 1:\n    INNER JOIN:\n    LEFT PLAN ON: [col(\"a\")]\n       SELECT [col(\"aa\"), col(\"a\")] FROM\n        DF [\"a\", \"aa\", \"borrow\"]; PROJECT */3 COLUMNS; SELECTION: \"None\"\n    RIGHT PLAN ON: [col(\"bean\")]\n      DF [\"bean\", \"b\"]; PROJECT */2 COLUMNS; SELECTION: \"None\"\n    END INNER JOIN\nEND UNION",
     "output_type": "error",
     "traceback": [
      "\u001b[0;31m---------------------------------------------------------------------------\u001b[0m",
      "\u001b[0;31mColumnNotFoundError\u001b[0m                       Traceback (most recent call last)",
      "Cell \u001b[0;32mIn[102], line 2\u001b[0m\n\u001b[1;32m      1\u001b[0m join_table \u001b[38;5;241m=\u001b[39m get_join_table(df1, df2, {\u001b[38;5;124m\"\u001b[39m\u001b[38;5;124ma\u001b[39m\u001b[38;5;124m\"\u001b[39m, \u001b[38;5;124m\"\u001b[39m\u001b[38;5;124maa\u001b[39m\u001b[38;5;124m\"\u001b[39m}, \u001b[38;5;124m\"\u001b[39m\u001b[38;5;124mbean\u001b[39m\u001b[38;5;124m\"\u001b[39m)\n\u001b[0;32m----> 2\u001b[0m \u001b[43mjoin_table\u001b[49m\u001b[38;5;241;43m.\u001b[39;49m\u001b[43mcollect\u001b[49m\u001b[43m(\u001b[49m\u001b[43m)\u001b[49m\n",
      "File \u001b[0;32m~/Library/Caches/pypoetry/virtualenvs/sandbox-hjO1OKQq-py3.12/lib/python3.12/site-packages/polars/utils/deprecation.py:100\u001b[0m, in \u001b[0;36mdeprecate_renamed_parameter.<locals>.decorate.<locals>.wrapper\u001b[0;34m(*args, **kwargs)\u001b[0m\n\u001b[1;32m     95\u001b[0m \u001b[38;5;129m@wraps\u001b[39m(function)\n\u001b[1;32m     96\u001b[0m \u001b[38;5;28;01mdef\u001b[39;00m \u001b[38;5;21mwrapper\u001b[39m(\u001b[38;5;241m*\u001b[39margs: P\u001b[38;5;241m.\u001b[39margs, \u001b[38;5;241m*\u001b[39m\u001b[38;5;241m*\u001b[39mkwargs: P\u001b[38;5;241m.\u001b[39mkwargs) \u001b[38;5;241m-\u001b[39m\u001b[38;5;241m>\u001b[39m T:\n\u001b[1;32m     97\u001b[0m     _rename_keyword_argument(\n\u001b[1;32m     98\u001b[0m         old_name, new_name, kwargs, function\u001b[38;5;241m.\u001b[39m\u001b[38;5;18m__name__\u001b[39m, version\n\u001b[1;32m     99\u001b[0m     )\n\u001b[0;32m--> 100\u001b[0m     \u001b[38;5;28;01mreturn\u001b[39;00m \u001b[43mfunction\u001b[49m\u001b[43m(\u001b[49m\u001b[38;5;241;43m*\u001b[39;49m\u001b[43margs\u001b[49m\u001b[43m,\u001b[49m\u001b[43m \u001b[49m\u001b[38;5;241;43m*\u001b[39;49m\u001b[38;5;241;43m*\u001b[39;49m\u001b[43mkwargs\u001b[49m\u001b[43m)\u001b[49m\n",
      "File \u001b[0;32m~/Library/Caches/pypoetry/virtualenvs/sandbox-hjO1OKQq-py3.12/lib/python3.12/site-packages/polars/lazyframe/frame.py:1788\u001b[0m, in \u001b[0;36mLazyFrame.collect\u001b[0;34m(self, type_coercion, predicate_pushdown, projection_pushdown, simplify_expression, slice_pushdown, comm_subplan_elim, comm_subexpr_elim, no_optimization, streaming, _eager)\u001b[0m\n\u001b[1;32m   1775\u001b[0m     comm_subplan_elim \u001b[38;5;241m=\u001b[39m \u001b[38;5;28;01mFalse\u001b[39;00m\n\u001b[1;32m   1777\u001b[0m ldf \u001b[38;5;241m=\u001b[39m \u001b[38;5;28mself\u001b[39m\u001b[38;5;241m.\u001b[39m_ldf\u001b[38;5;241m.\u001b[39moptimization_toggle(\n\u001b[1;32m   1778\u001b[0m     type_coercion,\n\u001b[1;32m   1779\u001b[0m     predicate_pushdown,\n\u001b[0;32m   (...)\u001b[0m\n\u001b[1;32m   1786\u001b[0m     _eager,\n\u001b[1;32m   1787\u001b[0m )\n\u001b[0;32m-> 1788\u001b[0m \u001b[38;5;28;01mreturn\u001b[39;00m wrap_df(\u001b[43mldf\u001b[49m\u001b[38;5;241;43m.\u001b[39;49m\u001b[43mcollect\u001b[49m\u001b[43m(\u001b[49m\u001b[43m)\u001b[49m)\n",
      "\u001b[0;31mColumnNotFoundError\u001b[0m: unable to find column \"bean\"; valid columns: [\"aa\", \"a\", \"b\"]\n\nError originated just after this operation:\nUNION\n  PLAN 0:\n    INNER JOIN:\n    LEFT PLAN ON: [col(\"aa\")]\n       SELECT [col(\"aa\"), col(\"a\")] FROM\n        DF [\"a\", \"aa\", \"borrow\"]; PROJECT */3 COLUMNS; SELECTION: \"None\"\n    RIGHT PLAN ON: [col(\"bean\")]\n      DF [\"bean\", \"b\"]; PROJECT */2 COLUMNS; SELECTION: \"None\"\n    END INNER JOIN\n  PLAN 1:\n    INNER JOIN:\n    LEFT PLAN ON: [col(\"a\")]\n       SELECT [col(\"aa\"), col(\"a\")] FROM\n        DF [\"a\", \"aa\", \"borrow\"]; PROJECT */3 COLUMNS; SELECTION: \"None\"\n    RIGHT PLAN ON: [col(\"bean\")]\n      DF [\"bean\", \"b\"]; PROJECT */2 COLUMNS; SELECTION: \"None\"\n    END INNER JOIN\nEND UNION"
     ]
    }
   ],
   "source": [
    "join_table = get_join_table(df1, df2, {\"a\", \"aa\"}, \"bean\")\n",
    "join_table.collect()"
   ]
  },
  {
   "cell_type": "code",
   "execution_count": null,
   "metadata": {},
   "outputs": [
    {
     "data": {
      "text/html": [
       "<div><style>\n",
       ".dataframe > thead > tr,\n",
       ".dataframe > tbody > tr {\n",
       "  text-align: right;\n",
       "  white-space: pre-wrap;\n",
       "}\n",
       "</style>\n",
       "<small>shape: (11, 4)</small><table border=\"1\" class=\"dataframe\"><thead><tr><th>a</th><th>aa</th><th>borrow</th><th>b</th></tr><tr><td>i64</td><td>i64</td><td>str</td><td>list[str]</td></tr></thead><tbody><tr><td>1</td><td>11</td><td>&quot;38393939&quot;</td><td>[&quot;eeeeee&quot;, &quot;cat&quot;, &quot;dog&quot;]</td></tr><tr><td>2</td><td>22</td><td>&quot;43243434&quot;</td><td>[&quot;000000&quot;, &quot;bean&quot;, &quot;soup&quot;]</td></tr><tr><td>3</td><td>33</td><td>&quot;barto&quot;</td><td>[null, &quot;cat&quot;, &quot;dog&quot;]</td></tr><tr><td>4</td><td>4</td><td>&quot;beano&quot;</td><td>[&quot;bean&quot;, &quot;bean&quot;]</td></tr><tr><td>5</td><td>5</td><td>&quot;super&quot;</td><td>[&quot;soup&quot;, &quot;soup&quot;]</td></tr><tr><td>6</td><td>6</td><td>&quot;blyat&quot;</td><td>[&quot;cat&quot;, &quot;cat&quot;]</td></tr><tr><td>7</td><td>7</td><td>&quot;blyat&quot;</td><td>[&quot;dog&quot;, &quot;dog&quot;]</td></tr><tr><td>8</td><td>8</td><td>&quot;blyat&quot;</td><td>[&quot;bean&quot;, &quot;bean&quot;]</td></tr><tr><td>9</td><td>9</td><td>&quot;blyat&quot;</td><td>[&quot;soup&quot;, &quot;soup&quot;]</td></tr><tr><td>10</td><td>10</td><td>&quot;blyat&quot;</td><td>[&quot;cat&quot;, &quot;cat&quot;]</td></tr><tr><td>11</td><td>null</td><td>&quot;blyat&quot;</td><td>[null, &quot;eeeeee&quot;]</td></tr></tbody></table></div>"
      ],
      "text/plain": [
       "shape: (11, 4)\n",
       "┌─────┬──────┬──────────┬────────────────────────────┐\n",
       "│ a   ┆ aa   ┆ borrow   ┆ b                          │\n",
       "│ --- ┆ ---  ┆ ---      ┆ ---                        │\n",
       "│ i64 ┆ i64  ┆ str      ┆ list[str]                  │\n",
       "╞═════╪══════╪══════════╪════════════════════════════╡\n",
       "│ 1   ┆ 11   ┆ 38393939 ┆ [\"eeeeee\", \"cat\", \"dog\"]   │\n",
       "│ 2   ┆ 22   ┆ 43243434 ┆ [\"000000\", \"bean\", \"soup\"] │\n",
       "│ 3   ┆ 33   ┆ barto    ┆ [null, \"cat\", \"dog\"]       │\n",
       "│ 4   ┆ 4    ┆ beano    ┆ [\"bean\", \"bean\"]           │\n",
       "│ …   ┆ …    ┆ …        ┆ …                          │\n",
       "│ 8   ┆ 8    ┆ blyat    ┆ [\"bean\", \"bean\"]           │\n",
       "│ 9   ┆ 9    ┆ blyat    ┆ [\"soup\", \"soup\"]           │\n",
       "│ 10  ┆ 10   ┆ blyat    ┆ [\"cat\", \"cat\"]             │\n",
       "│ 11  ┆ null ┆ blyat    ┆ [null, \"eeeeee\"]           │\n",
       "└─────┴──────┴──────────┴────────────────────────────┘"
      ]
     },
     "execution_count": 85,
     "metadata": {},
     "output_type": "execute_result"
    }
   ],
   "source": [
    "join_table = join_table.group_by(\"a\").agg(\"b\")\n",
    "df1 = df1.join(join_table, on=\"a\", how=\"left\")\n",
    "df1.collect()"
   ]
  }
 ],
 "metadata": {
  "kernelspec": {
   "display_name": "sandbox-hjO1OKQq-py3.12",
   "language": "python",
   "name": "python3"
  },
  "language_info": {
   "codemirror_mode": {
    "name": "ipython",
    "version": 3
   },
   "file_extension": ".py",
   "mimetype": "text/x-python",
   "name": "python",
   "nbconvert_exporter": "python",
   "pygments_lexer": "ipython3",
   "version": "3.12.1"
  }
 },
 "nbformat": 4,
 "nbformat_minor": 2
}
