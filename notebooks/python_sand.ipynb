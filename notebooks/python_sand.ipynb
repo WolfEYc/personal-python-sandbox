{
 "cells": [
  {
   "cell_type": "code",
   "execution_count": 1,
   "metadata": {},
   "outputs": [
    {
     "data": {
      "text/plain": [
       "<itertools.islice at 0x7f41702e0f40>"
      ]
     },
     "execution_count": 1,
     "metadata": {},
     "output_type": "execute_result"
    }
   ],
   "source": [
    "from itertools import islice\n",
    "\n",
    "a = map(lambda x: x - 1, range(10))\n",
    "slice_of_a = islice(a, 5)\n",
    "slice_of_a"
   ]
  },
  {
   "cell_type": "code",
   "execution_count": 2,
   "metadata": {},
   "outputs": [
    {
     "data": {
      "text/plain": [
       "[-1, 0, 1, 2, 3]"
      ]
     },
     "execution_count": 2,
     "metadata": {},
     "output_type": "execute_result"
    }
   ],
   "source": [
    "list(slice_of_a)"
   ]
  },
  {
   "cell_type": "code",
   "execution_count": 3,
   "metadata": {},
   "outputs": [
    {
     "data": {
      "text/html": [
       "<div><style>\n",
       ".dataframe > thead > tr,\n",
       ".dataframe > tbody > tr {\n",
       "  text-align: right;\n",
       "  white-space: pre-wrap;\n",
       "}\n",
       "</style>\n",
       "<small>shape: (10, 1)</small><table border=\"1\" class=\"dataframe\"><thead><tr><th>a</th></tr><tr><td>i64</td></tr></thead><tbody><tr><td>1</td></tr><tr><td>2</td></tr><tr><td>3</td></tr><tr><td>4</td></tr><tr><td>5</td></tr><tr><td>6</td></tr><tr><td>7</td></tr><tr><td>8</td></tr><tr><td>9</td></tr><tr><td>10</td></tr></tbody></table></div>"
      ],
      "text/plain": [
       "shape: (10, 1)\n",
       "┌─────┐\n",
       "│ a   │\n",
       "│ --- │\n",
       "│ i64 │\n",
       "╞═════╡\n",
       "│ 1   │\n",
       "│ 2   │\n",
       "│ 3   │\n",
       "│ 4   │\n",
       "│ …   │\n",
       "│ 7   │\n",
       "│ 8   │\n",
       "│ 9   │\n",
       "│ 10  │\n",
       "└─────┘"
      ]
     },
     "execution_count": 3,
     "metadata": {},
     "output_type": "execute_result"
    }
   ],
   "source": [
    "import polars as pl\n",
    "\n",
    "df = pl.DataFrame({\"a\": [1, 2, 3, 4, 5, 6, 7, 8, 9, 10]})\n",
    "df"
   ]
  },
  {
   "cell_type": "code",
   "execution_count": 4,
   "metadata": {},
   "outputs": [
    {
     "data": {
      "text/html": [
       "<div><style>\n",
       ".dataframe > thead > tr,\n",
       ".dataframe > tbody > tr {\n",
       "  text-align: right;\n",
       "  white-space: pre-wrap;\n",
       "}\n",
       "</style>\n",
       "<small>shape: (5, 1)</small><table border=\"1\" class=\"dataframe\"><thead><tr><th>a</th></tr><tr><td>null</td></tr></thead><tbody><tr><td>null</td></tr><tr><td>null</td></tr><tr><td>null</td></tr><tr><td>null</td></tr><tr><td>null</td></tr></tbody></table></div>"
      ],
      "text/plain": [
       "shape: (5, 1)\n",
       "┌──────┐\n",
       "│ a    │\n",
       "│ ---  │\n",
       "│ null │\n",
       "╞══════╡\n",
       "│ null │\n",
       "│ null │\n",
       "│ null │\n",
       "│ null │\n",
       "│ null │\n",
       "└──────┘"
      ]
     },
     "execution_count": 4,
     "metadata": {},
     "output_type": "execute_result"
    }
   ],
   "source": [
    "df2 = pl.DataFrame({\"a\": [None, None, None, None, None]}, schema={\"a\": pl.Null})\n",
    "df2"
   ]
  },
  {
   "cell_type": "code",
   "execution_count": 5,
   "metadata": {},
   "outputs": [
    {
     "data": {
      "text/html": [
       "<div><style>\n",
       ".dataframe > thead > tr,\n",
       ".dataframe > tbody > tr {\n",
       "  text-align: right;\n",
       "  white-space: pre-wrap;\n",
       "}\n",
       "</style>\n",
       "<small>shape: (15, 1)</small><table border=\"1\" class=\"dataframe\"><thead><tr><th>a</th></tr><tr><td>i64</td></tr></thead><tbody><tr><td>null</td></tr><tr><td>null</td></tr><tr><td>null</td></tr><tr><td>null</td></tr><tr><td>null</td></tr><tr><td>1</td></tr><tr><td>2</td></tr><tr><td>3</td></tr><tr><td>4</td></tr><tr><td>5</td></tr><tr><td>6</td></tr><tr><td>7</td></tr><tr><td>8</td></tr><tr><td>9</td></tr><tr><td>10</td></tr></tbody></table></div>"
      ],
      "text/plain": [
       "shape: (15, 1)\n",
       "┌──────┐\n",
       "│ a    │\n",
       "│ ---  │\n",
       "│ i64  │\n",
       "╞══════╡\n",
       "│ null │\n",
       "│ null │\n",
       "│ null │\n",
       "│ null │\n",
       "│ …    │\n",
       "│ 7    │\n",
       "│ 8    │\n",
       "│ 9    │\n",
       "│ 10   │\n",
       "└──────┘"
      ]
     },
     "execution_count": 5,
     "metadata": {},
     "output_type": "execute_result"
    }
   ],
   "source": [
    "df3 = pl.concat([df2, df], how=\"diagonal_relaxed\")\n",
    "df3"
   ]
  },
  {
   "cell_type": "code",
   "execution_count": 6,
   "metadata": {},
   "outputs": [],
   "source": [
    "def get_join_table(\n",
    "    left: pl.LazyFrame,\n",
    "    right: pl.LazyFrame,\n",
    "    left_on: set[str],\n",
    "    right_pkey: str,\n",
    ") -> pl.LazyFrame:\n",
    "    left_on = left_on.intersection(left.columns)\n",
    "    left_join_table = left.select(left_on)\n",
    "    joins = map(\n",
    "        lambda x: left_join_table.join(\n",
    "            right, left_on=x, right_on=right_pkey, how=\"inner\"\n",
    "        ),\n",
    "        left_on,\n",
    "    )\n",
    "\n",
    "    left_join_table = pl.concat(joins)\n",
    "\n",
    "    return left_join_table"
   ]
  },
  {
   "cell_type": "code",
   "execution_count": 7,
   "metadata": {},
   "outputs": [
    {
     "data": {
      "text/html": [
       "<div><style>\n",
       ".dataframe > thead > tr,\n",
       ".dataframe > tbody > tr {\n",
       "  text-align: right;\n",
       "  white-space: pre-wrap;\n",
       "}\n",
       "</style>\n",
       "<small>shape: (14, 5)</small><table border=\"1\" class=\"dataframe\"><thead><tr><th>a</th><th>aa</th><th>borrow</th><th>b</th><th>b_right</th></tr><tr><td>i64</td><td>i64</td><td>str</td><td>str</td><td>str</td></tr></thead><tbody><tr><td>1</td><td>11</td><td>&quot;38393939&quot;</td><td>&quot;cat&quot;</td><td>&quot;eeeeee&quot;</td></tr><tr><td>1</td><td>11</td><td>&quot;38393939&quot;</td><td>&quot;dog&quot;</td><td>&quot;eeeeee&quot;</td></tr><tr><td>2</td><td>22</td><td>&quot;43243434&quot;</td><td>&quot;bean&quot;</td><td>&quot;000000&quot;</td></tr><tr><td>2</td><td>22</td><td>&quot;43243434&quot;</td><td>&quot;soup&quot;</td><td>&quot;000000&quot;</td></tr><tr><td>3</td><td>33</td><td>&quot;barto&quot;</td><td>&quot;cat&quot;</td><td>null</td></tr><tr><td>3</td><td>33</td><td>&quot;barto&quot;</td><td>&quot;dog&quot;</td><td>null</td></tr><tr><td>4</td><td>4</td><td>&quot;beano&quot;</td><td>&quot;bean&quot;</td><td>&quot;bean&quot;</td></tr><tr><td>5</td><td>5</td><td>&quot;super&quot;</td><td>&quot;soup&quot;</td><td>&quot;soup&quot;</td></tr><tr><td>6</td><td>6</td><td>&quot;blyat&quot;</td><td>&quot;cat&quot;</td><td>&quot;cat&quot;</td></tr><tr><td>7</td><td>7</td><td>&quot;blyat&quot;</td><td>&quot;dog&quot;</td><td>&quot;dog&quot;</td></tr><tr><td>8</td><td>8</td><td>&quot;blyat&quot;</td><td>&quot;bean&quot;</td><td>&quot;bean&quot;</td></tr><tr><td>9</td><td>9</td><td>&quot;blyat&quot;</td><td>&quot;soup&quot;</td><td>&quot;soup&quot;</td></tr><tr><td>10</td><td>10</td><td>&quot;blyat&quot;</td><td>&quot;cat&quot;</td><td>&quot;cat&quot;</td></tr><tr><td>11</td><td>null</td><td>&quot;blyat&quot;</td><td>&quot;eeeeee&quot;</td><td>null</td></tr></tbody></table></div>"
      ],
      "text/plain": [
       "shape: (14, 5)\n",
       "┌─────┬──────┬──────────┬────────┬─────────┐\n",
       "│ a   ┆ aa   ┆ borrow   ┆ b      ┆ b_right │\n",
       "│ --- ┆ ---  ┆ ---      ┆ ---    ┆ ---     │\n",
       "│ i64 ┆ i64  ┆ str      ┆ str    ┆ str     │\n",
       "╞═════╪══════╪══════════╪════════╪═════════╡\n",
       "│ 1   ┆ 11   ┆ 38393939 ┆ cat    ┆ eeeeee  │\n",
       "│ 1   ┆ 11   ┆ 38393939 ┆ dog    ┆ eeeeee  │\n",
       "│ 2   ┆ 22   ┆ 43243434 ┆ bean   ┆ 000000  │\n",
       "│ 2   ┆ 22   ┆ 43243434 ┆ soup   ┆ 000000  │\n",
       "│ …   ┆ …    ┆ …        ┆ …      ┆ …       │\n",
       "│ 8   ┆ 8    ┆ blyat    ┆ bean   ┆ bean    │\n",
       "│ 9   ┆ 9    ┆ blyat    ┆ soup   ┆ soup    │\n",
       "│ 10  ┆ 10   ┆ blyat    ┆ cat    ┆ cat     │\n",
       "│ 11  ┆ null ┆ blyat    ┆ eeeeee ┆ null    │\n",
       "└─────┴──────┴──────────┴────────┴─────────┘"
      ]
     },
     "execution_count": 7,
     "metadata": {},
     "output_type": "execute_result"
    }
   ],
   "source": [
    "df1 = pl.LazyFrame(\n",
    "    {\n",
    "        \"a\": [1, 2, 3, 4, 5, 6, 7, 8, 9, 10, 11],\n",
    "        \"aa\": [11, 22, 33, 4, 5, 6, 7, 8, 9, 10, None],\n",
    "        \"borrow\": [\n",
    "            \"38393939\",\n",
    "            \"43243434\",\n",
    "            \"barto\",\n",
    "            \"beano\",\n",
    "            \"super\",\n",
    "            \"blyat\",\n",
    "            \"blyat\",\n",
    "            \"blyat\",\n",
    "            \"blyat\",\n",
    "            \"blyat\",\n",
    "            \"blyat\",\n",
    "        ],\n",
    "    }\n",
    ")\n",
    "\n",
    "df2 = pl.LazyFrame(\n",
    "    {\n",
    "        \"bean\": [1, 1, 2, 2, 3, 3, 4, 5, 6, 7, 8, 9, 10, 11, 22],\n",
    "        \"b\": [\n",
    "            \"cat\",\n",
    "            \"dog\",\n",
    "            \"bean\",\n",
    "            \"soup\",\n",
    "            \"cat\",\n",
    "            \"dog\",\n",
    "            \"bean\",\n",
    "            \"soup\",\n",
    "            \"cat\",\n",
    "            \"dog\",\n",
    "            \"bean\",\n",
    "            \"soup\",\n",
    "            \"cat\",\n",
    "            \"eeeeee\",\n",
    "            \"000000\",\n",
    "        ],\n",
    "    },\n",
    ")\n",
    "\n",
    "# df2 = df2.group_by(\"bean\").agg(\"b\")\n",
    "\n",
    "df3 = df1.join(df2, left_on=\"a\", right_on=\"bean\", how=\"left\")\n",
    "df3 = df3.join(df2, left_on=\"aa\", right_on=\"bean\", how=\"left\")\n",
    "df3.collect()"
   ]
  },
  {
   "cell_type": "code",
   "execution_count": 8,
   "metadata": {},
   "outputs": [
    {
     "data": {
      "text/html": [
       "<div><style>\n",
       ".dataframe > thead > tr,\n",
       ".dataframe > tbody > tr {\n",
       "  text-align: right;\n",
       "  white-space: pre-wrap;\n",
       "}\n",
       "</style>\n",
       "<small>shape: (23, 3)</small><table border=\"1\" class=\"dataframe\"><thead><tr><th>aa</th><th>a</th><th>b</th></tr><tr><td>i64</td><td>i64</td><td>str</td></tr></thead><tbody><tr><td>4</td><td>4</td><td>&quot;bean&quot;</td></tr><tr><td>5</td><td>5</td><td>&quot;soup&quot;</td></tr><tr><td>6</td><td>6</td><td>&quot;cat&quot;</td></tr><tr><td>7</td><td>7</td><td>&quot;dog&quot;</td></tr><tr><td>8</td><td>8</td><td>&quot;bean&quot;</td></tr><tr><td>9</td><td>9</td><td>&quot;soup&quot;</td></tr><tr><td>10</td><td>10</td><td>&quot;cat&quot;</td></tr><tr><td>11</td><td>1</td><td>&quot;eeeeee&quot;</td></tr><tr><td>22</td><td>2</td><td>&quot;000000&quot;</td></tr><tr><td>11</td><td>1</td><td>&quot;cat&quot;</td></tr><tr><td>11</td><td>1</td><td>&quot;dog&quot;</td></tr><tr><td>22</td><td>2</td><td>&quot;bean&quot;</td></tr><tr><td>22</td><td>2</td><td>&quot;soup&quot;</td></tr><tr><td>33</td><td>3</td><td>&quot;cat&quot;</td></tr><tr><td>33</td><td>3</td><td>&quot;dog&quot;</td></tr><tr><td>4</td><td>4</td><td>&quot;bean&quot;</td></tr><tr><td>5</td><td>5</td><td>&quot;soup&quot;</td></tr><tr><td>6</td><td>6</td><td>&quot;cat&quot;</td></tr><tr><td>7</td><td>7</td><td>&quot;dog&quot;</td></tr><tr><td>8</td><td>8</td><td>&quot;bean&quot;</td></tr><tr><td>9</td><td>9</td><td>&quot;soup&quot;</td></tr><tr><td>10</td><td>10</td><td>&quot;cat&quot;</td></tr><tr><td>null</td><td>11</td><td>&quot;eeeeee&quot;</td></tr></tbody></table></div>"
      ],
      "text/plain": [
       "shape: (23, 3)\n",
       "┌──────┬─────┬────────┐\n",
       "│ aa   ┆ a   ┆ b      │\n",
       "│ ---  ┆ --- ┆ ---    │\n",
       "│ i64  ┆ i64 ┆ str    │\n",
       "╞══════╪═════╪════════╡\n",
       "│ 4    ┆ 4   ┆ bean   │\n",
       "│ 5    ┆ 5   ┆ soup   │\n",
       "│ 6    ┆ 6   ┆ cat    │\n",
       "│ 7    ┆ 7   ┆ dog    │\n",
       "│ …    ┆ …   ┆ …      │\n",
       "│ 8    ┆ 8   ┆ bean   │\n",
       "│ 9    ┆ 9   ┆ soup   │\n",
       "│ 10   ┆ 10  ┆ cat    │\n",
       "│ null ┆ 11  ┆ eeeeee │\n",
       "└──────┴─────┴────────┘"
      ]
     },
     "execution_count": 8,
     "metadata": {},
     "output_type": "execute_result"
    }
   ],
   "source": [
    "join_table = get_join_table(df1, df2, {\"a\", \"aa\"}, \"bean\")\n",
    "join_table.collect()"
   ]
  },
  {
   "cell_type": "code",
   "execution_count": 9,
   "metadata": {},
   "outputs": [
    {
     "data": {
      "text/html": [
       "<div><style>\n",
       ".dataframe > thead > tr,\n",
       ".dataframe > tbody > tr {\n",
       "  text-align: right;\n",
       "  white-space: pre-wrap;\n",
       "}\n",
       "</style>\n",
       "<small>shape: (11, 4)</small><table border=\"1\" class=\"dataframe\"><thead><tr><th>a</th><th>aa</th><th>borrow</th><th>b</th></tr><tr><td>i64</td><td>i64</td><td>str</td><td>list[str]</td></tr></thead><tbody><tr><td>1</td><td>11</td><td>&quot;38393939&quot;</td><td>[&quot;eeeeee&quot;, &quot;cat&quot;, &quot;dog&quot;]</td></tr><tr><td>2</td><td>22</td><td>&quot;43243434&quot;</td><td>[&quot;000000&quot;, &quot;bean&quot;, &quot;soup&quot;]</td></tr><tr><td>3</td><td>33</td><td>&quot;barto&quot;</td><td>[&quot;cat&quot;, &quot;dog&quot;]</td></tr><tr><td>4</td><td>4</td><td>&quot;beano&quot;</td><td>[&quot;bean&quot;, &quot;bean&quot;]</td></tr><tr><td>5</td><td>5</td><td>&quot;super&quot;</td><td>[&quot;soup&quot;, &quot;soup&quot;]</td></tr><tr><td>6</td><td>6</td><td>&quot;blyat&quot;</td><td>[&quot;cat&quot;, &quot;cat&quot;]</td></tr><tr><td>7</td><td>7</td><td>&quot;blyat&quot;</td><td>[&quot;dog&quot;, &quot;dog&quot;]</td></tr><tr><td>8</td><td>8</td><td>&quot;blyat&quot;</td><td>[&quot;bean&quot;, &quot;bean&quot;]</td></tr><tr><td>9</td><td>9</td><td>&quot;blyat&quot;</td><td>[&quot;soup&quot;, &quot;soup&quot;]</td></tr><tr><td>10</td><td>10</td><td>&quot;blyat&quot;</td><td>[&quot;cat&quot;, &quot;cat&quot;]</td></tr><tr><td>11</td><td>null</td><td>&quot;blyat&quot;</td><td>[&quot;eeeeee&quot;]</td></tr></tbody></table></div>"
      ],
      "text/plain": [
       "shape: (11, 4)\n",
       "┌─────┬──────┬──────────┬────────────────────────────┐\n",
       "│ a   ┆ aa   ┆ borrow   ┆ b                          │\n",
       "│ --- ┆ ---  ┆ ---      ┆ ---                        │\n",
       "│ i64 ┆ i64  ┆ str      ┆ list[str]                  │\n",
       "╞═════╪══════╪══════════╪════════════════════════════╡\n",
       "│ 1   ┆ 11   ┆ 38393939 ┆ [\"eeeeee\", \"cat\", \"dog\"]   │\n",
       "│ 2   ┆ 22   ┆ 43243434 ┆ [\"000000\", \"bean\", \"soup\"] │\n",
       "│ 3   ┆ 33   ┆ barto    ┆ [\"cat\", \"dog\"]             │\n",
       "│ 4   ┆ 4    ┆ beano    ┆ [\"bean\", \"bean\"]           │\n",
       "│ …   ┆ …    ┆ …        ┆ …                          │\n",
       "│ 8   ┆ 8    ┆ blyat    ┆ [\"bean\", \"bean\"]           │\n",
       "│ 9   ┆ 9    ┆ blyat    ┆ [\"soup\", \"soup\"]           │\n",
       "│ 10  ┆ 10   ┆ blyat    ┆ [\"cat\", \"cat\"]             │\n",
       "│ 11  ┆ null ┆ blyat    ┆ [\"eeeeee\"]                 │\n",
       "└─────┴──────┴──────────┴────────────────────────────┘"
      ]
     },
     "execution_count": 9,
     "metadata": {},
     "output_type": "execute_result"
    }
   ],
   "source": [
    "join_table = join_table.group_by(\"a\").agg(\"b\")\n",
    "df1 = df1.join(join_table, on=\"a\", how=\"left\")\n",
    "df1.collect()"
   ]
  },
  {
   "cell_type": "code",
   "execution_count": 10,
   "metadata": {},
   "outputs": [],
   "source": [
    "from typing import NamedTuple\n",
    "\n",
    "\n",
    "class BallSack(NamedTuple):\n",
    "    balls: int\n",
    "    smoothness: float\n",
    "\n",
    "    def spicyness(self):\n",
    "        return self.balls * self.smoothness * temp\n",
    "\n",
    "\n",
    "ballsack = BallSack(smoothness=0.9, balls=2)\n",
    "temp = 69.420"
   ]
  },
  {
   "cell_type": "code",
   "execution_count": 11,
   "metadata": {},
   "outputs": [
    {
     "data": {
      "text/plain": [
       "124.956"
      ]
     },
     "execution_count": 11,
     "metadata": {},
     "output_type": "execute_result"
    }
   ],
   "source": [
    "ballsack.spicyness()"
   ]
  },
  {
   "cell_type": "code",
   "execution_count": 12,
   "metadata": {},
   "outputs": [
    {
     "data": {
      "text/plain": [
       "124.956"
      ]
     },
     "execution_count": 12,
     "metadata": {},
     "output_type": "execute_result"
    }
   ],
   "source": [
    "BallSack.spicyness(ballsack)"
   ]
  },
  {
   "cell_type": "code",
   "execution_count": 13,
   "metadata": {},
   "outputs": [],
   "source": [
    "ballsacks = [BallSack(2, 0.9), BallSack(14, 0.7), BallSack(3, 0.69)]"
   ]
  },
  {
   "cell_type": "code",
   "execution_count": 14,
   "metadata": {},
   "outputs": [
    {
     "data": {
      "text/plain": [
       "[124.956, 680.3159999999999, 143.6994]"
      ]
     },
     "execution_count": 14,
     "metadata": {},
     "output_type": "execute_result"
    }
   ],
   "source": [
    "spicynesses = map(BallSack.spicyness, ballsacks)\n",
    "list(spicynesses)"
   ]
  },
  {
   "cell_type": "code",
   "execution_count": 15,
   "metadata": {},
   "outputs": [
    {
     "data": {
      "text/plain": [
       "[124.956, 680.3159999999999, 143.6994]"
      ]
     },
     "execution_count": 15,
     "metadata": {},
     "output_type": "execute_result"
    }
   ],
   "source": [
    "spicynesses = map(lambda x: x.spicyness(), ballsacks)\n",
    "list(spicynesses)"
   ]
  },
  {
   "cell_type": "code",
   "execution_count": 16,
   "metadata": {},
   "outputs": [],
   "source": [
    "from pydantic import BaseModel\n",
    "\n",
    "\n",
    "class Bingo(BaseModel):\n",
    "    wins: int\n",
    "    losses: int\n",
    "    happyness: float\n",
    "    chart_name: str\n",
    "\n",
    "\n",
    "class Bongo(BaseModel):\n",
    "    owner_name: str\n",
    "    owner_id: int\n",
    "    weight: float\n",
    "    length: float\n",
    "    width: float\n",
    "    depth: float\n",
    "\n",
    "\n",
    "class MyJsonData(BaseModel):\n",
    "    bingos: list[Bingo]\n",
    "    bongos: list[Bongo]"
   ]
  },
  {
   "cell_type": "code",
   "execution_count": 17,
   "metadata": {},
   "outputs": [
    {
     "data": {
      "text/plain": [
       "MyJsonData(bingos=[Bingo(wins=12, losses=9, happyness=0.8, chart_name='super_bingo'), Bingo(wins=34, losses=93, happyness=0.039, chart_name='loser_bingo'), Bingo(wins=123, losses=0, happyness=1.0, chart_name='cheater_bingo'), Bingo(wins=1343, losses=99393, happyness=0.3, chart_name='addict_bingo')], bongos=[Bongo(owner_name='isaac', owner_id=837483, weight=3948.0, length=384.0, width=3483.34, depth=9893.38), Bongo(owner_name='joe', owner_id=3748743, weight=34.0, length=384.234, width=3483.0, depth=8377.38)])"
      ]
     },
     "execution_count": 17,
     "metadata": {},
     "output_type": "execute_result"
    }
   ],
   "source": [
    "with open(\"my_json_data.json\") as file:\n",
    "    file_str = file.read()\n",
    "\n",
    "data = MyJsonData.model_validate_json(file_str)\n",
    "data"
   ]
  },
  {
   "cell_type": "code",
   "execution_count": 18,
   "metadata": {},
   "outputs": [
    {
     "data": {
      "text/plain": [
       "[Bingo(wins=12, losses=9, happyness=0.8, chart_name='super_bingo'),\n",
       " Bingo(wins=34, losses=93, happyness=0.039, chart_name='loser_bingo'),\n",
       " Bingo(wins=123, losses=0, happyness=1.0, chart_name='cheater_bingo'),\n",
       " Bingo(wins=1343, losses=99393, happyness=0.3, chart_name='addict_bingo')]"
      ]
     },
     "execution_count": 18,
     "metadata": {},
     "output_type": "execute_result"
    }
   ],
   "source": [
    "data.bingos"
   ]
  },
  {
   "cell_type": "code",
   "execution_count": 19,
   "metadata": {},
   "outputs": [
    {
     "data": {
      "text/plain": [
       "[Bongo(owner_name='isaac', owner_id=837483, weight=3948.0, length=384.0, width=3483.34, depth=9893.38),\n",
       " Bongo(owner_name='joe', owner_id=3748743, weight=34.0, length=384.234, width=3483.0, depth=8377.38)]"
      ]
     },
     "execution_count": 19,
     "metadata": {},
     "output_type": "execute_result"
    }
   ],
   "source": [
    "data.bongos"
   ]
  },
  {
   "cell_type": "code",
   "execution_count": 20,
   "metadata": {},
   "outputs": [
    {
     "data": {
      "text/plain": [
       "{'bingos': [{'id': 6969,\n",
       "   'wins': 12,\n",
       "   'losses': 9,\n",
       "   'happyness': 0.8,\n",
       "   'chart_name': 'super_bingo'},\n",
       "  {'id': 69420,\n",
       "   'wins': 34,\n",
       "   'losses': 93,\n",
       "   'happyness': 0.039,\n",
       "   'chart_name': 'loser_bingo'},\n",
       "  {'id': 1234,\n",
       "   'wins': 123,\n",
       "   'losses': 0,\n",
       "   'happyness': 1,\n",
       "   'chart_name': 'cheater_bingo'},\n",
       "  {'id': 420420,\n",
       "   'wins': 1343,\n",
       "   'losses': 99393,\n",
       "   'happyness': 0.3,\n",
       "   'chart_name': 'addict_bingo'}],\n",
       " 'bongos': [{'bingo_ids': [6969, 420420],\n",
       "   'owner_name': 'isaac',\n",
       "   'owner_id': 837483,\n",
       "   'weight': 3948,\n",
       "   'length': 384,\n",
       "   'width': 3483.34,\n",
       "   'depth': 9893.38},\n",
       "  {'bingo_ids': [1234, 69420],\n",
       "   'owner_name': 'joe',\n",
       "   'owner_id': 3748743,\n",
       "   'weight': 34,\n",
       "   'length': 384.234,\n",
       "   'width': 3483,\n",
       "   'depth': 8377.38}]}"
      ]
     },
     "execution_count": 20,
     "metadata": {},
     "output_type": "execute_result"
    }
   ],
   "source": [
    "import json\n",
    "\n",
    "json_obj = json.loads(file_str)\n",
    "json_obj"
   ]
  },
  {
   "cell_type": "code",
   "execution_count": 21,
   "metadata": {},
   "outputs": [
    {
     "data": {
      "text/plain": [
       "101007"
      ]
     },
     "execution_count": 21,
     "metadata": {},
     "output_type": "execute_result"
    }
   ],
   "source": [
    "num_games_for_each = map(lambda x: x[\"losses\"] + x[\"wins\"], json_obj[\"bingos\"])\n",
    "sum_games = sum(num_games_for_each)\n",
    "sum_games"
   ]
  },
  {
   "cell_type": "code",
   "execution_count": 22,
   "metadata": {},
   "outputs": [
    {
     "data": {
      "text/plain": [
       "101007"
      ]
     },
     "execution_count": 22,
     "metadata": {},
     "output_type": "execute_result"
    }
   ],
   "source": [
    "num_games_for_each = map(lambda x: x.losses + x.wins, data.bingos)\n",
    "sum_games = sum(num_games_for_each)\n",
    "sum_games"
   ]
  },
  {
   "cell_type": "code",
   "execution_count": 23,
   "metadata": {},
   "outputs": [
    {
     "data": {
      "text/html": [
       "<div><style>\n",
       ".dataframe > thead > tr,\n",
       ".dataframe > tbody > tr {\n",
       "  text-align: right;\n",
       "  white-space: pre-wrap;\n",
       "}\n",
       "</style>\n",
       "<small>shape: (4, 5)</small><table border=\"1\" class=\"dataframe\"><thead><tr><th>id</th><th>wins</th><th>losses</th><th>happyness</th><th>chart_name</th></tr><tr><td>i64</td><td>i64</td><td>i64</td><td>f64</td><td>str</td></tr></thead><tbody><tr><td>6969</td><td>12</td><td>9</td><td>0.8</td><td>&quot;super_bingo&quot;</td></tr><tr><td>69420</td><td>34</td><td>93</td><td>0.039</td><td>&quot;loser_bingo&quot;</td></tr><tr><td>1234</td><td>123</td><td>0</td><td>1.0</td><td>&quot;cheater_bingo&quot;</td></tr><tr><td>420420</td><td>1343</td><td>99393</td><td>0.3</td><td>&quot;addict_bingo&quot;</td></tr></tbody></table></div>"
      ],
      "text/plain": [
       "shape: (4, 5)\n",
       "┌────────┬──────┬────────┬───────────┬───────────────┐\n",
       "│ id     ┆ wins ┆ losses ┆ happyness ┆ chart_name    │\n",
       "│ ---    ┆ ---  ┆ ---    ┆ ---       ┆ ---           │\n",
       "│ i64    ┆ i64  ┆ i64    ┆ f64       ┆ str           │\n",
       "╞════════╪══════╪════════╪═══════════╪═══════════════╡\n",
       "│ 6969   ┆ 12   ┆ 9      ┆ 0.8       ┆ super_bingo   │\n",
       "│ 69420  ┆ 34   ┆ 93     ┆ 0.039     ┆ loser_bingo   │\n",
       "│ 1234   ┆ 123  ┆ 0      ┆ 1.0       ┆ cheater_bingo │\n",
       "│ 420420 ┆ 1343 ┆ 99393  ┆ 0.3       ┆ addict_bingo  │\n",
       "└────────┴──────┴────────┴───────────┴───────────────┘"
      ]
     },
     "execution_count": 23,
     "metadata": {},
     "output_type": "execute_result"
    }
   ],
   "source": [
    "bingos = pl.LazyFrame(json_obj[\"bingos\"])\n",
    "bingos.collect()"
   ]
  },
  {
   "cell_type": "code",
   "execution_count": 24,
   "metadata": {},
   "outputs": [
    {
     "data": {
      "text/html": [
       "<div><style>\n",
       ".dataframe > thead > tr,\n",
       ".dataframe > tbody > tr {\n",
       "  text-align: right;\n",
       "  white-space: pre-wrap;\n",
       "}\n",
       "</style>\n",
       "<small>shape: (2, 7)</small><table border=\"1\" class=\"dataframe\"><thead><tr><th>bingo_ids</th><th>owner_name</th><th>owner_id</th><th>weight</th><th>length</th><th>width</th><th>depth</th></tr><tr><td>list[i64]</td><td>str</td><td>i64</td><td>i64</td><td>f64</td><td>f64</td><td>f64</td></tr></thead><tbody><tr><td>[6969, 420420]</td><td>&quot;isaac&quot;</td><td>837483</td><td>3948</td><td>384.0</td><td>3483.34</td><td>9893.38</td></tr><tr><td>[1234, 69420]</td><td>&quot;joe&quot;</td><td>3748743</td><td>34</td><td>384.234</td><td>3483.0</td><td>8377.38</td></tr></tbody></table></div>"
      ],
      "text/plain": [
       "shape: (2, 7)\n",
       "┌────────────────┬────────────┬──────────┬────────┬─────────┬─────────┬─────────┐\n",
       "│ bingo_ids      ┆ owner_name ┆ owner_id ┆ weight ┆ length  ┆ width   ┆ depth   │\n",
       "│ ---            ┆ ---        ┆ ---      ┆ ---    ┆ ---     ┆ ---     ┆ ---     │\n",
       "│ list[i64]      ┆ str        ┆ i64      ┆ i64    ┆ f64     ┆ f64     ┆ f64     │\n",
       "╞════════════════╪════════════╪══════════╪════════╪═════════╪═════════╪═════════╡\n",
       "│ [6969, 420420] ┆ isaac      ┆ 837483   ┆ 3948   ┆ 384.0   ┆ 3483.34 ┆ 9893.38 │\n",
       "│ [1234, 69420]  ┆ joe        ┆ 3748743  ┆ 34     ┆ 384.234 ┆ 3483.0  ┆ 8377.38 │\n",
       "└────────────────┴────────────┴──────────┴────────┴─────────┴─────────┴─────────┘"
      ]
     },
     "execution_count": 24,
     "metadata": {},
     "output_type": "execute_result"
    }
   ],
   "source": [
    "bongos = pl.LazyFrame(json_obj[\"bongos\"])\n",
    "bongos.collect()"
   ]
  },
  {
   "cell_type": "code",
   "execution_count": 25,
   "metadata": {},
   "outputs": [
    {
     "data": {
      "text/html": [
       "<div><style>\n",
       ".dataframe > thead > tr,\n",
       ".dataframe > tbody > tr {\n",
       "  text-align: right;\n",
       "  white-space: pre-wrap;\n",
       "}\n",
       "</style>\n",
       "<small>shape: (4, 2)</small><table border=\"1\" class=\"dataframe\"><thead><tr><th>bingo_ids</th><th>owner_id</th></tr><tr><td>i64</td><td>i64</td></tr></thead><tbody><tr><td>6969</td><td>837483</td></tr><tr><td>420420</td><td>837483</td></tr><tr><td>1234</td><td>3748743</td></tr><tr><td>69420</td><td>3748743</td></tr></tbody></table></div>"
      ],
      "text/plain": [
       "shape: (4, 2)\n",
       "┌───────────┬──────────┐\n",
       "│ bingo_ids ┆ owner_id │\n",
       "│ ---       ┆ ---      │\n",
       "│ i64       ┆ i64      │\n",
       "╞═══════════╪══════════╡\n",
       "│ 6969      ┆ 837483   │\n",
       "│ 420420    ┆ 837483   │\n",
       "│ 1234      ┆ 3748743  │\n",
       "│ 69420     ┆ 3748743  │\n",
       "└───────────┴──────────┘"
      ]
     },
     "execution_count": 25,
     "metadata": {},
     "output_type": "execute_result"
    }
   ],
   "source": [
    "bongos_join_table = bongos.select(\"bingo_ids\", \"owner_id\").explode(\"bingo_ids\")\n",
    "bongos_join_table.collect()"
   ]
  },
  {
   "cell_type": "code",
   "execution_count": 26,
   "metadata": {},
   "outputs": [
    {
     "data": {
      "text/html": [
       "<div><style>\n",
       ".dataframe > thead > tr,\n",
       ".dataframe > tbody > tr {\n",
       "  text-align: right;\n",
       "  white-space: pre-wrap;\n",
       "}\n",
       "</style>\n",
       "<small>shape: (4, 6)</small><table border=\"1\" class=\"dataframe\"><thead><tr><th>id</th><th>wins</th><th>losses</th><th>happyness</th><th>chart_name</th><th>owner_id</th></tr><tr><td>i64</td><td>i64</td><td>i64</td><td>f64</td><td>str</td><td>i64</td></tr></thead><tbody><tr><td>6969</td><td>12</td><td>9</td><td>0.8</td><td>&quot;super_bingo&quot;</td><td>837483</td></tr><tr><td>420420</td><td>1343</td><td>99393</td><td>0.3</td><td>&quot;addict_bingo&quot;</td><td>837483</td></tr><tr><td>1234</td><td>123</td><td>0</td><td>1.0</td><td>&quot;cheater_bingo&quot;</td><td>3748743</td></tr><tr><td>69420</td><td>34</td><td>93</td><td>0.039</td><td>&quot;loser_bingo&quot;</td><td>3748743</td></tr></tbody></table></div>"
      ],
      "text/plain": [
       "shape: (4, 6)\n",
       "┌────────┬──────┬────────┬───────────┬───────────────┬──────────┐\n",
       "│ id     ┆ wins ┆ losses ┆ happyness ┆ chart_name    ┆ owner_id │\n",
       "│ ---    ┆ ---  ┆ ---    ┆ ---       ┆ ---           ┆ ---      │\n",
       "│ i64    ┆ i64  ┆ i64    ┆ f64       ┆ str           ┆ i64      │\n",
       "╞════════╪══════╪════════╪═══════════╪═══════════════╪══════════╡\n",
       "│ 6969   ┆ 12   ┆ 9      ┆ 0.8       ┆ super_bingo   ┆ 837483   │\n",
       "│ 420420 ┆ 1343 ┆ 99393  ┆ 0.3       ┆ addict_bingo  ┆ 837483   │\n",
       "│ 1234   ┆ 123  ┆ 0      ┆ 1.0       ┆ cheater_bingo ┆ 3748743  │\n",
       "│ 69420  ┆ 34   ┆ 93     ┆ 0.039     ┆ loser_bingo   ┆ 3748743  │\n",
       "└────────┴──────┴────────┴───────────┴───────────────┴──────────┘"
      ]
     },
     "execution_count": 26,
     "metadata": {},
     "output_type": "execute_result"
    }
   ],
   "source": [
    "bingos_to_bongos = bingos.join(bongos_join_table, left_on=\"id\", right_on=\"bingo_ids\")\n",
    "bingos_to_bongos.collect()"
   ]
  },
  {
   "cell_type": "code",
   "execution_count": 27,
   "metadata": {},
   "outputs": [
    {
     "data": {
      "text/html": [
       "<div><style>\n",
       ".dataframe > thead > tr,\n",
       ".dataframe > tbody > tr {\n",
       "  text-align: right;\n",
       "  white-space: pre-wrap;\n",
       "}\n",
       "</style>\n",
       "<small>shape: (2, 2)</small><table border=\"1\" class=\"dataframe\"><thead><tr><th>owner_id</th><th>bingos</th></tr><tr><td>i64</td><td>list[struct[5]]</td></tr></thead><tbody><tr><td>837483</td><td>[{6969,12,9,0.8,&quot;super_bingo&quot;}, {420420,1343,99393,0.3,&quot;addict_bingo&quot;}]</td></tr><tr><td>3748743</td><td>[{1234,123,0,1.0,&quot;cheater_bingo&quot;}, {69420,34,93,0.039,&quot;loser_bingo&quot;}]</td></tr></tbody></table></div>"
      ],
      "text/plain": [
       "shape: (2, 2)\n",
       "┌──────────┬───────────────────────────────────┐\n",
       "│ owner_id ┆ bingos                            │\n",
       "│ ---      ┆ ---                               │\n",
       "│ i64      ┆ list[struct[5]]                   │\n",
       "╞══════════╪═══════════════════════════════════╡\n",
       "│ 837483   ┆ [{6969,12,9,0.8,\"super_bingo\"}, … │\n",
       "│ 3748743  ┆ [{1234,123,0,1.0,\"cheater_bingo\"… │\n",
       "└──────────┴───────────────────────────────────┘"
      ]
     },
     "execution_count": 27,
     "metadata": {},
     "output_type": "execute_result"
    }
   ],
   "source": [
    "bingos_to_bongos = bingos_to_bongos.group_by(\"owner_id\").agg(\n",
    "    pl.struct(pl.all().exclude(\"owner_id\")).alias(\"bingos\")\n",
    ")\n",
    "bingos_to_bongos.collect()"
   ]
  },
  {
   "cell_type": "code",
   "execution_count": 28,
   "metadata": {},
   "outputs": [
    {
     "data": {
      "text/html": [
       "<div><style>\n",
       ".dataframe > thead > tr,\n",
       ".dataframe > tbody > tr {\n",
       "  text-align: right;\n",
       "  white-space: pre-wrap;\n",
       "}\n",
       "</style>\n",
       "<small>shape: (2, 8)</small><table border=\"1\" class=\"dataframe\"><thead><tr><th>owner_id</th><th>bingos</th><th>bingo_ids</th><th>owner_name</th><th>weight</th><th>length</th><th>width</th><th>depth</th></tr><tr><td>i64</td><td>list[struct[5]]</td><td>list[i64]</td><td>str</td><td>i64</td><td>f64</td><td>f64</td><td>f64</td></tr></thead><tbody><tr><td>837483</td><td>[{6969,12,9,0.8,&quot;super_bingo&quot;}, {420420,1343,99393,0.3,&quot;addict_bingo&quot;}]</td><td>[6969, 420420]</td><td>&quot;isaac&quot;</td><td>3948</td><td>384.0</td><td>3483.34</td><td>9893.38</td></tr><tr><td>3748743</td><td>[{1234,123,0,1.0,&quot;cheater_bingo&quot;}, {69420,34,93,0.039,&quot;loser_bingo&quot;}]</td><td>[1234, 69420]</td><td>&quot;joe&quot;</td><td>34</td><td>384.234</td><td>3483.0</td><td>8377.38</td></tr></tbody></table></div>"
      ],
      "text/plain": [
       "shape: (2, 8)\n",
       "┌──────────┬──────────────────┬────────────────┬────────────┬────────┬─────────┬─────────┬─────────┐\n",
       "│ owner_id ┆ bingos           ┆ bingo_ids      ┆ owner_name ┆ weight ┆ length  ┆ width   ┆ depth   │\n",
       "│ ---      ┆ ---              ┆ ---            ┆ ---        ┆ ---    ┆ ---     ┆ ---     ┆ ---     │\n",
       "│ i64      ┆ list[struct[5]]  ┆ list[i64]      ┆ str        ┆ i64    ┆ f64     ┆ f64     ┆ f64     │\n",
       "╞══════════╪══════════════════╪════════════════╪════════════╪════════╪═════════╪═════════╪═════════╡\n",
       "│ 837483   ┆ [{6969,12,9,0.8, ┆ [6969, 420420] ┆ isaac      ┆ 3948   ┆ 384.0   ┆ 3483.34 ┆ 9893.38 │\n",
       "│          ┆ \"super_bingo\"},  ┆                ┆            ┆        ┆         ┆         ┆         │\n",
       "│          ┆ …                ┆                ┆            ┆        ┆         ┆         ┆         │\n",
       "│ 3748743  ┆ [{1234,123,0,1.0 ┆ [1234, 69420]  ┆ joe        ┆ 34     ┆ 384.234 ┆ 3483.0  ┆ 8377.38 │\n",
       "│          ┆ ,\"cheater_bingo\" ┆                ┆            ┆        ┆         ┆         ┆         │\n",
       "│          ┆ …                ┆                ┆            ┆        ┆         ┆         ┆         │\n",
       "└──────────┴──────────────────┴────────────────┴────────────┴────────┴─────────┴─────────┴─────────┘"
      ]
     },
     "execution_count": 28,
     "metadata": {},
     "output_type": "execute_result"
    }
   ],
   "source": [
    "bingos_to_bongos = bingos_to_bongos.join(bongos, on=\"owner_id\")\n",
    "bingos_to_bongos.collect()"
   ]
  },
  {
   "cell_type": "code",
   "execution_count": 29,
   "metadata": {},
   "outputs": [
    {
     "data": {
      "text/html": [
       "<div><style>\n",
       ".dataframe > thead > tr,\n",
       ".dataframe > tbody > tr {\n",
       "  text-align: right;\n",
       "  white-space: pre-wrap;\n",
       "}\n",
       "</style>\n",
       "<small>shape: (2, 7)</small><table border=\"1\" class=\"dataframe\"><thead><tr><th>owner_id</th><th>bingos</th><th>owner_name</th><th>weight</th><th>length</th><th>width</th><th>depth</th></tr><tr><td>i64</td><td>list[struct[5]]</td><td>str</td><td>i64</td><td>f64</td><td>f64</td><td>f64</td></tr></thead><tbody><tr><td>837483</td><td>[{6969,12,9,0.8,&quot;super_bingo&quot;}, {420420,1343,99393,0.3,&quot;addict_bingo&quot;}]</td><td>&quot;isaac&quot;</td><td>3948</td><td>384.0</td><td>3483.34</td><td>9893.38</td></tr><tr><td>3748743</td><td>[{1234,123,0,1.0,&quot;cheater_bingo&quot;}, {69420,34,93,0.039,&quot;loser_bingo&quot;}]</td><td>&quot;joe&quot;</td><td>34</td><td>384.234</td><td>3483.0</td><td>8377.38</td></tr></tbody></table></div>"
      ],
      "text/plain": [
       "shape: (2, 7)\n",
       "┌──────────┬───────────────────────────────────┬────────────┬────────┬─────────┬─────────┬─────────┐\n",
       "│ owner_id ┆ bingos                            ┆ owner_name ┆ weight ┆ length  ┆ width   ┆ depth   │\n",
       "│ ---      ┆ ---                               ┆ ---        ┆ ---    ┆ ---     ┆ ---     ┆ ---     │\n",
       "│ i64      ┆ list[struct[5]]                   ┆ str        ┆ i64    ┆ f64     ┆ f64     ┆ f64     │\n",
       "╞══════════╪═══════════════════════════════════╪════════════╪════════╪═════════╪═════════╪═════════╡\n",
       "│ 837483   ┆ [{6969,12,9,0.8,\"super_bingo\"}, … ┆ isaac      ┆ 3948   ┆ 384.0   ┆ 3483.34 ┆ 9893.38 │\n",
       "│ 3748743  ┆ [{1234,123,0,1.0,\"cheater_bingo\"… ┆ joe        ┆ 34     ┆ 384.234 ┆ 3483.0  ┆ 8377.38 │\n",
       "└──────────┴───────────────────────────────────┴────────────┴────────┴─────────┴─────────┴─────────┘"
      ]
     },
     "execution_count": 29,
     "metadata": {},
     "output_type": "execute_result"
    }
   ],
   "source": [
    "bingos_to_bongos = bingos_to_bongos.drop(\"bingo_ids\")\n",
    "bingos_to_bongos.collect()"
   ]
  },
  {
   "cell_type": "code",
   "execution_count": 31,
   "metadata": {},
   "outputs": [],
   "source": [
    "bingos_to_bongos.collect().write_json(\n",
    "    \"bingos_to_bongos.json\", row_oriented=True, pretty=True\n",
    ")"
   ]
  },
  {
   "cell_type": "code",
   "execution_count": 32,
   "metadata": {},
   "outputs": [
    {
     "data": {
      "text/plain": [
       "[{'owner_id': 837483,\n",
       "  'bingos': [{'id': 6969,\n",
       "    'wins': 12,\n",
       "    'losses': 9,\n",
       "    'happyness': 0.8,\n",
       "    'chart_name': 'super_bingo'},\n",
       "   {'id': 420420,\n",
       "    'wins': 1343,\n",
       "    'losses': 99393,\n",
       "    'happyness': 0.3,\n",
       "    'chart_name': 'addict_bingo'}],\n",
       "  'owner_name': 'isaac',\n",
       "  'weight': 3948,\n",
       "  'length': 384.0,\n",
       "  'width': 3483.34,\n",
       "  'depth': 9893.38},\n",
       " {'owner_id': 3748743,\n",
       "  'bingos': [{'id': 1234,\n",
       "    'wins': 123,\n",
       "    'losses': 0,\n",
       "    'happyness': 1.0,\n",
       "    'chart_name': 'cheater_bingo'},\n",
       "   {'id': 69420,\n",
       "    'wins': 34,\n",
       "    'losses': 93,\n",
       "    'happyness': 0.039,\n",
       "    'chart_name': 'loser_bingo'}],\n",
       "  'owner_name': 'joe',\n",
       "  'weight': 34,\n",
       "  'length': 384.234,\n",
       "  'width': 3483.0,\n",
       "  'depth': 8377.38}]"
      ]
     },
     "execution_count": 32,
     "metadata": {},
     "output_type": "execute_result"
    }
   ],
   "source": [
    "bingos_to_bongos_json_obj = bingos_to_bongos.collect().to_dicts()\n",
    "bingos_to_bongos_json_obj"
   ]
  },
  {
   "cell_type": "code",
   "execution_count": 33,
   "metadata": {},
   "outputs": [
    {
     "data": {
      "text/plain": [
       "MyJsonData(bingos=[Bingo(wins=12, losses=9, happyness=0.8, chart_name='super_bingo'), Bingo(wins=34, losses=93, happyness=0.039, chart_name='loser_bingo'), Bingo(wins=123, losses=0, happyness=1.0, chart_name='cheater_bingo'), Bingo(wins=1343, losses=99393, happyness=0.3, chart_name='addict_bingo')], bongos=[Bongo(owner_name='isaac', owner_id=837483, weight=3948.0, length=384.0, width=3483.34, depth=9893.38), Bongo(owner_name='joe', owner_id=3748743, weight=34.0, length=384.234, width=3483.0, depth=8377.38)])"
      ]
     },
     "execution_count": 33,
     "metadata": {},
     "output_type": "execute_result"
    }
   ],
   "source": [
    "MyJsonData.model_validate(json_obj)"
   ]
  },
  {
   "cell_type": "code",
   "execution_count": 1,
   "metadata": {},
   "outputs": [
    {
     "name": "stdout",
     "output_type": "stream",
     "text": [
      "0 bogos\n",
      "1 bingos\n",
      "2 bongies\n",
      "3 logos\n",
      "4 chungus\n"
     ]
    }
   ],
   "source": [
    "arr = [\"bogos\", \"bingos\", \"bongies\", \"logos\", \"chungus\"]\n",
    "for i, element in enumerate(arr):\n",
    "    print(i, element)"
   ]
  },
  {
   "cell_type": "code",
   "execution_count": 2,
   "metadata": {},
   "outputs": [
    {
     "name": "stdout",
     "output_type": "stream",
     "text": [
      "0 bogos\n",
      "1 bingos\n",
      "2 bongies\n",
      "3 logos\n",
      "4 chungus\n"
     ]
    }
   ],
   "source": [
    "for i in range(len(arr)):\n",
    "    print(i, arr[i])"
   ]
  },
  {
   "cell_type": "code",
   "execution_count": 5,
   "metadata": {},
   "outputs": [
    {
     "name": "stdout",
     "output_type": "stream",
     "text": [
      "(0, 'i')\n",
      "(1, 'g')\n",
      "(2, 'n')\n",
      "(3, 'i')\n",
      "(4, 'b')\n"
     ]
    }
   ],
   "source": [
    "stran = \"bingi\"\n",
    "reversed_strang = reversed(stran)\n",
    "for char in enumerate(reversed_strang):\n",
    "    print(char)"
   ]
  },
  {
   "cell_type": "code",
   "execution_count": 6,
   "metadata": {},
   "outputs": [
    {
     "data": {
      "text/plain": [
       "['bogos', 'bongies', 'logos', 'chungus']"
      ]
     },
     "execution_count": 6,
     "metadata": {},
     "output_type": "execute_result"
    }
   ],
   "source": [
    "def words_without(words: list[str], target: str) -> list[str]:\n",
    "    return list(filter(lambda x: x != target, words))\n",
    "\n",
    "\n",
    "words = [\"bogos\", \"bingos\", \"bongies\", \"logos\", \"chungus\"]\n",
    "words_without(words, \"bingos\")"
   ]
  },
  {
   "cell_type": "code",
   "execution_count": 2,
   "metadata": {},
   "outputs": [
    {
     "data": {
      "text/plain": [
       "False"
      ]
     },
     "execution_count": 2,
     "metadata": {},
     "output_type": "execute_result"
    }
   ],
   "source": [
    "mask = {2, 3, 34, 12, 52}\n",
    "\n",
    "\n",
    "def has_23(nums: list[int]) -> bool:\n",
    "    num_in_mask = map(mask.__contains__, nums)\n",
    "    return any(num_in_mask)\n",
    "\n",
    "\n",
    "has_23([1, 6, 9, 39])"
   ]
  }
 ],
 "metadata": {
  "kernelspec": {
   "display_name": "sandbox-hjO1OKQq-py3.12",
   "language": "python",
   "name": "python3"
  },
  "language_info": {
   "codemirror_mode": {
    "name": "ipython",
    "version": 3
   },
   "file_extension": ".py",
   "mimetype": "text/x-python",
   "name": "python",
   "nbconvert_exporter": "python",
   "pygments_lexer": "ipython3",
   "version": "3.12.1"
  }
 },
 "nbformat": 4,
 "nbformat_minor": 2
}
