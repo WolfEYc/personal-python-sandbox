{
 "cells": [
  {
   "cell_type": "code",
   "execution_count": 103,
   "metadata": {},
   "outputs": [
    {
     "data": {
      "text/plain": [
       "<itertools.islice at 0x1175000e0>"
      ]
     },
     "execution_count": 103,
     "metadata": {},
     "output_type": "execute_result"
    }
   ],
   "source": [
    "from itertools import islice\n",
    "\n",
    "a = map(lambda x: x - 1, range(10))\n",
    "slice_of_a = islice(a, 5)\n",
    "slice_of_a"
   ]
  },
  {
   "cell_type": "code",
   "execution_count": 104,
   "metadata": {},
   "outputs": [
    {
     "data": {
      "text/plain": [
       "[-1, 0, 1, 2, 3]"
      ]
     },
     "execution_count": 104,
     "metadata": {},
     "output_type": "execute_result"
    }
   ],
   "source": [
    "list(slice_of_a)"
   ]
  },
  {
   "cell_type": "code",
   "execution_count": 105,
   "metadata": {},
   "outputs": [
    {
     "data": {
      "text/html": [
       "<div><style>\n",
       ".dataframe > thead > tr,\n",
       ".dataframe > tbody > tr {\n",
       "  text-align: right;\n",
       "  white-space: pre-wrap;\n",
       "}\n",
       "</style>\n",
       "<small>shape: (10, 1)</small><table border=\"1\" class=\"dataframe\"><thead><tr><th>a</th></tr><tr><td>i64</td></tr></thead><tbody><tr><td>1</td></tr><tr><td>2</td></tr><tr><td>3</td></tr><tr><td>4</td></tr><tr><td>5</td></tr><tr><td>6</td></tr><tr><td>7</td></tr><tr><td>8</td></tr><tr><td>9</td></tr><tr><td>10</td></tr></tbody></table></div>"
      ],
      "text/plain": [
       "shape: (10, 1)\n",
       "┌─────┐\n",
       "│ a   │\n",
       "│ --- │\n",
       "│ i64 │\n",
       "╞═════╡\n",
       "│ 1   │\n",
       "│ 2   │\n",
       "│ 3   │\n",
       "│ 4   │\n",
       "│ …   │\n",
       "│ 7   │\n",
       "│ 8   │\n",
       "│ 9   │\n",
       "│ 10  │\n",
       "└─────┘"
      ]
     },
     "execution_count": 105,
     "metadata": {},
     "output_type": "execute_result"
    }
   ],
   "source": [
    "import polars as pl\n",
    "\n",
    "df = pl.DataFrame({\"a\": [1, 2, 3, 4, 5, 6, 7, 8, 9, 10]})\n",
    "df"
   ]
  },
  {
   "cell_type": "code",
   "execution_count": 106,
   "metadata": {},
   "outputs": [
    {
     "data": {
      "text/html": [
       "<div><style>\n",
       ".dataframe > thead > tr,\n",
       ".dataframe > tbody > tr {\n",
       "  text-align: right;\n",
       "  white-space: pre-wrap;\n",
       "}\n",
       "</style>\n",
       "<small>shape: (5, 1)</small><table border=\"1\" class=\"dataframe\"><thead><tr><th>a</th></tr><tr><td>null</td></tr></thead><tbody><tr><td>null</td></tr><tr><td>null</td></tr><tr><td>null</td></tr><tr><td>null</td></tr><tr><td>null</td></tr></tbody></table></div>"
      ],
      "text/plain": [
       "shape: (5, 1)\n",
       "┌──────┐\n",
       "│ a    │\n",
       "│ ---  │\n",
       "│ null │\n",
       "╞══════╡\n",
       "│ null │\n",
       "│ null │\n",
       "│ null │\n",
       "│ null │\n",
       "│ null │\n",
       "└──────┘"
      ]
     },
     "execution_count": 106,
     "metadata": {},
     "output_type": "execute_result"
    }
   ],
   "source": [
    "df2 = pl.DataFrame({\"a\": [None, None, None, None, None]}, schema={\"a\": pl.Null})\n",
    "df2"
   ]
  },
  {
   "cell_type": "code",
   "execution_count": 107,
   "metadata": {},
   "outputs": [
    {
     "data": {
      "text/html": [
       "<div><style>\n",
       ".dataframe > thead > tr,\n",
       ".dataframe > tbody > tr {\n",
       "  text-align: right;\n",
       "  white-space: pre-wrap;\n",
       "}\n",
       "</style>\n",
       "<small>shape: (15, 1)</small><table border=\"1\" class=\"dataframe\"><thead><tr><th>a</th></tr><tr><td>i64</td></tr></thead><tbody><tr><td>null</td></tr><tr><td>null</td></tr><tr><td>null</td></tr><tr><td>null</td></tr><tr><td>null</td></tr><tr><td>1</td></tr><tr><td>2</td></tr><tr><td>3</td></tr><tr><td>4</td></tr><tr><td>5</td></tr><tr><td>6</td></tr><tr><td>7</td></tr><tr><td>8</td></tr><tr><td>9</td></tr><tr><td>10</td></tr></tbody></table></div>"
      ],
      "text/plain": [
       "shape: (15, 1)\n",
       "┌──────┐\n",
       "│ a    │\n",
       "│ ---  │\n",
       "│ i64  │\n",
       "╞══════╡\n",
       "│ null │\n",
       "│ null │\n",
       "│ null │\n",
       "│ null │\n",
       "│ …    │\n",
       "│ 7    │\n",
       "│ 8    │\n",
       "│ 9    │\n",
       "│ 10   │\n",
       "└──────┘"
      ]
     },
     "execution_count": 107,
     "metadata": {},
     "output_type": "execute_result"
    }
   ],
   "source": [
    "df3 = pl.concat([df2, df], how=\"diagonal_relaxed\")\n",
    "df3"
   ]
  },
  {
   "cell_type": "code",
   "execution_count": 108,
   "metadata": {},
   "outputs": [],
   "source": [
    "def get_join_table(\n",
    "    left: pl.LazyFrame,\n",
    "    right: pl.LazyFrame,\n",
    "    left_on: set[str],\n",
    "    right_pkey: str,\n",
    ") -> pl.LazyFrame:\n",
    "    left_on = left_on.intersection(left.columns)\n",
    "    left_join_table = left.select(left_on)\n",
    "    joins = map(\n",
    "        lambda x: left_join_table.join(\n",
    "            right, left_on=x, right_on=right_pkey, how=\"inner\"\n",
    "        ),\n",
    "        left_on,\n",
    "    )\n",
    "\n",
    "    left_join_table = pl.concat(joins)\n",
    "\n",
    "    return left_join_table"
   ]
  },
  {
   "cell_type": "code",
   "execution_count": 109,
   "metadata": {},
   "outputs": [
    {
     "data": {
      "text/html": [
       "<div><style>\n",
       ".dataframe > thead > tr,\n",
       ".dataframe > tbody > tr {\n",
       "  text-align: right;\n",
       "  white-space: pre-wrap;\n",
       "}\n",
       "</style>\n",
       "<small>shape: (14, 5)</small><table border=\"1\" class=\"dataframe\"><thead><tr><th>a</th><th>aa</th><th>borrow</th><th>b</th><th>b_right</th></tr><tr><td>i64</td><td>i64</td><td>str</td><td>str</td><td>str</td></tr></thead><tbody><tr><td>1</td><td>11</td><td>&quot;38393939&quot;</td><td>&quot;cat&quot;</td><td>&quot;eeeeee&quot;</td></tr><tr><td>1</td><td>11</td><td>&quot;38393939&quot;</td><td>&quot;dog&quot;</td><td>&quot;eeeeee&quot;</td></tr><tr><td>2</td><td>22</td><td>&quot;43243434&quot;</td><td>&quot;bean&quot;</td><td>&quot;000000&quot;</td></tr><tr><td>2</td><td>22</td><td>&quot;43243434&quot;</td><td>&quot;soup&quot;</td><td>&quot;000000&quot;</td></tr><tr><td>3</td><td>33</td><td>&quot;barto&quot;</td><td>&quot;cat&quot;</td><td>null</td></tr><tr><td>3</td><td>33</td><td>&quot;barto&quot;</td><td>&quot;dog&quot;</td><td>null</td></tr><tr><td>4</td><td>4</td><td>&quot;beano&quot;</td><td>&quot;bean&quot;</td><td>&quot;bean&quot;</td></tr><tr><td>5</td><td>5</td><td>&quot;super&quot;</td><td>&quot;soup&quot;</td><td>&quot;soup&quot;</td></tr><tr><td>6</td><td>6</td><td>&quot;blyat&quot;</td><td>&quot;cat&quot;</td><td>&quot;cat&quot;</td></tr><tr><td>7</td><td>7</td><td>&quot;blyat&quot;</td><td>&quot;dog&quot;</td><td>&quot;dog&quot;</td></tr><tr><td>8</td><td>8</td><td>&quot;blyat&quot;</td><td>&quot;bean&quot;</td><td>&quot;bean&quot;</td></tr><tr><td>9</td><td>9</td><td>&quot;blyat&quot;</td><td>&quot;soup&quot;</td><td>&quot;soup&quot;</td></tr><tr><td>10</td><td>10</td><td>&quot;blyat&quot;</td><td>&quot;cat&quot;</td><td>&quot;cat&quot;</td></tr><tr><td>11</td><td>null</td><td>&quot;blyat&quot;</td><td>&quot;eeeeee&quot;</td><td>null</td></tr></tbody></table></div>"
      ],
      "text/plain": [
       "shape: (14, 5)\n",
       "┌─────┬──────┬──────────┬────────┬─────────┐\n",
       "│ a   ┆ aa   ┆ borrow   ┆ b      ┆ b_right │\n",
       "│ --- ┆ ---  ┆ ---      ┆ ---    ┆ ---     │\n",
       "│ i64 ┆ i64  ┆ str      ┆ str    ┆ str     │\n",
       "╞═════╪══════╪══════════╪════════╪═════════╡\n",
       "│ 1   ┆ 11   ┆ 38393939 ┆ cat    ┆ eeeeee  │\n",
       "│ 1   ┆ 11   ┆ 38393939 ┆ dog    ┆ eeeeee  │\n",
       "│ 2   ┆ 22   ┆ 43243434 ┆ bean   ┆ 000000  │\n",
       "│ 2   ┆ 22   ┆ 43243434 ┆ soup   ┆ 000000  │\n",
       "│ …   ┆ …    ┆ …        ┆ …      ┆ …       │\n",
       "│ 8   ┆ 8    ┆ blyat    ┆ bean   ┆ bean    │\n",
       "│ 9   ┆ 9    ┆ blyat    ┆ soup   ┆ soup    │\n",
       "│ 10  ┆ 10   ┆ blyat    ┆ cat    ┆ cat     │\n",
       "│ 11  ┆ null ┆ blyat    ┆ eeeeee ┆ null    │\n",
       "└─────┴──────┴──────────┴────────┴─────────┘"
      ]
     },
     "execution_count": 109,
     "metadata": {},
     "output_type": "execute_result"
    }
   ],
   "source": [
    "df1 = pl.LazyFrame(\n",
    "    {\n",
    "        \"a\": [1, 2, 3, 4, 5, 6, 7, 8, 9, 10, 11],\n",
    "        \"aa\": [11, 22, 33, 4, 5, 6, 7, 8, 9, 10, None],\n",
    "        \"borrow\": [\n",
    "            \"38393939\",\n",
    "            \"43243434\",\n",
    "            \"barto\",\n",
    "            \"beano\",\n",
    "            \"super\",\n",
    "            \"blyat\",\n",
    "            \"blyat\",\n",
    "            \"blyat\",\n",
    "            \"blyat\",\n",
    "            \"blyat\",\n",
    "            \"blyat\",\n",
    "        ],\n",
    "    }\n",
    ")\n",
    "\n",
    "df2 = pl.LazyFrame(\n",
    "    {\n",
    "        \"bean\": [1, 1, 2, 2, 3, 3, 4, 5, 6, 7, 8, 9, 10, 11, 22],\n",
    "        \"b\": [\n",
    "            \"cat\",\n",
    "            \"dog\",\n",
    "            \"bean\",\n",
    "            \"soup\",\n",
    "            \"cat\",\n",
    "            \"dog\",\n",
    "            \"bean\",\n",
    "            \"soup\",\n",
    "            \"cat\",\n",
    "            \"dog\",\n",
    "            \"bean\",\n",
    "            \"soup\",\n",
    "            \"cat\",\n",
    "            \"eeeeee\",\n",
    "            \"000000\",\n",
    "        ],\n",
    "    },\n",
    ")\n",
    "\n",
    "# df2 = df2.group_by(\"bean\").agg(\"b\")\n",
    "\n",
    "df3 = df1.join(df2, left_on=\"a\", right_on=\"bean\", how=\"left\")\n",
    "df3 = df3.join(df2, left_on=\"aa\", right_on=\"bean\", how=\"left\")\n",
    "df3.collect()"
   ]
  },
  {
   "cell_type": "code",
   "execution_count": 110,
   "metadata": {},
   "outputs": [
    {
     "data": {
      "text/html": [
       "<div><style>\n",
       ".dataframe > thead > tr,\n",
       ".dataframe > tbody > tr {\n",
       "  text-align: right;\n",
       "  white-space: pre-wrap;\n",
       "}\n",
       "</style>\n",
       "<small>shape: (23, 3)</small><table border=\"1\" class=\"dataframe\"><thead><tr><th>aa</th><th>a</th><th>b</th></tr><tr><td>i64</td><td>i64</td><td>str</td></tr></thead><tbody><tr><td>4</td><td>4</td><td>&quot;bean&quot;</td></tr><tr><td>5</td><td>5</td><td>&quot;soup&quot;</td></tr><tr><td>6</td><td>6</td><td>&quot;cat&quot;</td></tr><tr><td>7</td><td>7</td><td>&quot;dog&quot;</td></tr><tr><td>8</td><td>8</td><td>&quot;bean&quot;</td></tr><tr><td>9</td><td>9</td><td>&quot;soup&quot;</td></tr><tr><td>10</td><td>10</td><td>&quot;cat&quot;</td></tr><tr><td>11</td><td>1</td><td>&quot;eeeeee&quot;</td></tr><tr><td>22</td><td>2</td><td>&quot;000000&quot;</td></tr><tr><td>11</td><td>1</td><td>&quot;cat&quot;</td></tr><tr><td>11</td><td>1</td><td>&quot;dog&quot;</td></tr><tr><td>22</td><td>2</td><td>&quot;bean&quot;</td></tr><tr><td>22</td><td>2</td><td>&quot;soup&quot;</td></tr><tr><td>33</td><td>3</td><td>&quot;cat&quot;</td></tr><tr><td>33</td><td>3</td><td>&quot;dog&quot;</td></tr><tr><td>4</td><td>4</td><td>&quot;bean&quot;</td></tr><tr><td>5</td><td>5</td><td>&quot;soup&quot;</td></tr><tr><td>6</td><td>6</td><td>&quot;cat&quot;</td></tr><tr><td>7</td><td>7</td><td>&quot;dog&quot;</td></tr><tr><td>8</td><td>8</td><td>&quot;bean&quot;</td></tr><tr><td>9</td><td>9</td><td>&quot;soup&quot;</td></tr><tr><td>10</td><td>10</td><td>&quot;cat&quot;</td></tr><tr><td>null</td><td>11</td><td>&quot;eeeeee&quot;</td></tr></tbody></table></div>"
      ],
      "text/plain": [
       "shape: (23, 3)\n",
       "┌──────┬─────┬────────┐\n",
       "│ aa   ┆ a   ┆ b      │\n",
       "│ ---  ┆ --- ┆ ---    │\n",
       "│ i64  ┆ i64 ┆ str    │\n",
       "╞══════╪═════╪════════╡\n",
       "│ 4    ┆ 4   ┆ bean   │\n",
       "│ 5    ┆ 5   ┆ soup   │\n",
       "│ 6    ┆ 6   ┆ cat    │\n",
       "│ 7    ┆ 7   ┆ dog    │\n",
       "│ …    ┆ …   ┆ …      │\n",
       "│ 8    ┆ 8   ┆ bean   │\n",
       "│ 9    ┆ 9   ┆ soup   │\n",
       "│ 10   ┆ 10  ┆ cat    │\n",
       "│ null ┆ 11  ┆ eeeeee │\n",
       "└──────┴─────┴────────┘"
      ]
     },
     "execution_count": 110,
     "metadata": {},
     "output_type": "execute_result"
    }
   ],
   "source": [
    "join_table = get_join_table(df1, df2, {\"a\", \"aa\"}, \"bean\")\n",
    "join_table.collect()"
   ]
  },
  {
   "cell_type": "code",
   "execution_count": 111,
   "metadata": {},
   "outputs": [
    {
     "data": {
      "text/html": [
       "<div><style>\n",
       ".dataframe > thead > tr,\n",
       ".dataframe > tbody > tr {\n",
       "  text-align: right;\n",
       "  white-space: pre-wrap;\n",
       "}\n",
       "</style>\n",
       "<small>shape: (11, 4)</small><table border=\"1\" class=\"dataframe\"><thead><tr><th>a</th><th>aa</th><th>borrow</th><th>b</th></tr><tr><td>i64</td><td>i64</td><td>str</td><td>list[str]</td></tr></thead><tbody><tr><td>1</td><td>11</td><td>&quot;38393939&quot;</td><td>[&quot;eeeeee&quot;, &quot;cat&quot;, &quot;dog&quot;]</td></tr><tr><td>2</td><td>22</td><td>&quot;43243434&quot;</td><td>[&quot;000000&quot;, &quot;bean&quot;, &quot;soup&quot;]</td></tr><tr><td>3</td><td>33</td><td>&quot;barto&quot;</td><td>[&quot;cat&quot;, &quot;dog&quot;]</td></tr><tr><td>4</td><td>4</td><td>&quot;beano&quot;</td><td>[&quot;bean&quot;, &quot;bean&quot;]</td></tr><tr><td>5</td><td>5</td><td>&quot;super&quot;</td><td>[&quot;soup&quot;, &quot;soup&quot;]</td></tr><tr><td>6</td><td>6</td><td>&quot;blyat&quot;</td><td>[&quot;cat&quot;, &quot;cat&quot;]</td></tr><tr><td>7</td><td>7</td><td>&quot;blyat&quot;</td><td>[&quot;dog&quot;, &quot;dog&quot;]</td></tr><tr><td>8</td><td>8</td><td>&quot;blyat&quot;</td><td>[&quot;bean&quot;, &quot;bean&quot;]</td></tr><tr><td>9</td><td>9</td><td>&quot;blyat&quot;</td><td>[&quot;soup&quot;, &quot;soup&quot;]</td></tr><tr><td>10</td><td>10</td><td>&quot;blyat&quot;</td><td>[&quot;cat&quot;, &quot;cat&quot;]</td></tr><tr><td>11</td><td>null</td><td>&quot;blyat&quot;</td><td>[&quot;eeeeee&quot;]</td></tr></tbody></table></div>"
      ],
      "text/plain": [
       "shape: (11, 4)\n",
       "┌─────┬──────┬──────────┬────────────────────────────┐\n",
       "│ a   ┆ aa   ┆ borrow   ┆ b                          │\n",
       "│ --- ┆ ---  ┆ ---      ┆ ---                        │\n",
       "│ i64 ┆ i64  ┆ str      ┆ list[str]                  │\n",
       "╞═════╪══════╪══════════╪════════════════════════════╡\n",
       "│ 1   ┆ 11   ┆ 38393939 ┆ [\"eeeeee\", \"cat\", \"dog\"]   │\n",
       "│ 2   ┆ 22   ┆ 43243434 ┆ [\"000000\", \"bean\", \"soup\"] │\n",
       "│ 3   ┆ 33   ┆ barto    ┆ [\"cat\", \"dog\"]             │\n",
       "│ 4   ┆ 4    ┆ beano    ┆ [\"bean\", \"bean\"]           │\n",
       "│ …   ┆ …    ┆ …        ┆ …                          │\n",
       "│ 8   ┆ 8    ┆ blyat    ┆ [\"bean\", \"bean\"]           │\n",
       "│ 9   ┆ 9    ┆ blyat    ┆ [\"soup\", \"soup\"]           │\n",
       "│ 10  ┆ 10   ┆ blyat    ┆ [\"cat\", \"cat\"]             │\n",
       "│ 11  ┆ null ┆ blyat    ┆ [\"eeeeee\"]                 │\n",
       "└─────┴──────┴──────────┴────────────────────────────┘"
      ]
     },
     "execution_count": 111,
     "metadata": {},
     "output_type": "execute_result"
    }
   ],
   "source": [
    "join_table = join_table.group_by(\"a\").agg(\"b\")\n",
    "df1 = df1.join(join_table, on=\"a\", how=\"left\")\n",
    "df1.collect()"
   ]
  }
 ],
 "metadata": {
  "kernelspec": {
   "display_name": "sandbox-hjO1OKQq-py3.12",
   "language": "python",
   "name": "python3"
  },
  "language_info": {
   "codemirror_mode": {
    "name": "ipython",
    "version": 3
   },
   "file_extension": ".py",
   "mimetype": "text/x-python",
   "name": "python",
   "nbconvert_exporter": "python",
   "pygments_lexer": "ipython3",
   "version": "3.12.1"
  }
 },
 "nbformat": 4,
 "nbformat_minor": 2
}
