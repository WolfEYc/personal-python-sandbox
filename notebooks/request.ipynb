{
 "cells": [
  {
   "cell_type": "code",
   "execution_count": 22,
   "metadata": {},
   "outputs": [],
   "source": [
    "from asyncio import sleep\n",
    "\n",
    "import httpx\n",
    "\n",
    "url = \"https://purchase.wolfeycode.com\"\n",
    "client = httpx.AsyncClient(base_url=url)\n",
    "\n",
    "\n",
    "async def get_page(page_num: int):\n",
    "    print(f\"getting page {page_num} ...\")\n",
    "    querystring = {\"page\": page_num}\n",
    "    res = await client.get(\"/purchase\", params=querystring)\n",
    "    await sleep(3 + page_num)\n",
    "    print(f\"got page {page_num}\")\n",
    "    res_json = res.json()\n",
    "    purchases = res_json[\"purchases\"]\n",
    "    return purchases"
   ]
  },
  {
   "cell_type": "code",
   "execution_count": 28,
   "metadata": {},
   "outputs": [
    {
     "name": "stdout",
     "output_type": "stream",
     "text": [
      "getting page 0 ...\n",
      "getting page 1 ...\n",
      "got page 0\n",
      "got page 1\n"
     ]
    },
    {
     "data": {
      "text/html": [
       "<div><style>\n",
       ".dataframe > thead > tr,\n",
       ".dataframe > tbody > tr {\n",
       "  text-align: right;\n",
       "  white-space: pre-wrap;\n",
       "}\n",
       "</style>\n",
       "<small>shape: (60, 9)</small><table border=\"1\" class=\"dataframe\"><thead><tr><th>account_number</th><th>merchant_category_code</th><th>merchant_name</th><th>merchant_number</th><th>merchant_state</th><th>post_date</th><th>purchase_amount</th><th>purchase_datetime</th><th>purchase_number</th></tr><tr><td>i64</td><td>i64</td><td>str</td><td>str</td><td>str</td><td>str</td><td>str</td><td>str</td><td>i64</td></tr></thead><tbody><tr><td>26669</td><td>5541</td><td>&quot;SHELL SERVICE …</td><td>&quot;00000000025746…</td><td>&quot;OH&quot;</td><td>&quot;2021-04-11&quot;</td><td>&quot;-12.00&quot;</td><td>&quot;2021-04-10T14:…</td><td>16</td></tr><tr><td>37466</td><td>5411</td><td>&quot;WHOLEFDS MTH#1…</td><td>&quot;00004740504800…</td><td>&quot;OH&quot;</td><td>&quot;2021-04-11&quot;</td><td>&quot;-88.12&quot;</td><td>&quot;2021-04-10T12:…</td><td>164</td></tr><tr><td>38256</td><td>5411</td><td>&quot;SPROUTS FARMER…</td><td>&quot;00000000057636…</td><td>&quot;OH&quot;</td><td>&quot;2021-04-11&quot;</td><td>&quot;-25.22&quot;</td><td>&quot;2021-04-10T12:…</td><td>5</td></tr><tr><td>38256</td><td>5411</td><td>&quot;SAFEWAY #1566 …</td><td>&quot;00000000045900…</td><td>&quot;OH&quot;</td><td>&quot;2021-04-11&quot;</td><td>&quot;-2.83&quot;</td><td>&quot;2021-04-10T10:…</td><td>4</td></tr><tr><td>38256</td><td>5411</td><td>&quot;SPROUTS FARMER…</td><td>&quot;00000000057636…</td><td>&quot;OH&quot;</td><td>&quot;2021-04-11&quot;</td><td>&quot;-80.65&quot;</td><td>&quot;2021-04-10T07:…</td><td>3</td></tr><tr><td>38256</td><td>5411</td><td>&quot;SAFEWAY #1566 …</td><td>&quot;00000000045900…</td><td>&quot;OH&quot;</td><td>&quot;2021-04-11&quot;</td><td>&quot;-146.56&quot;</td><td>&quot;2021-04-10T07:…</td><td>2</td></tr><tr><td>26603</td><td>5812</td><td>&quot;DOORDASH DASHP…</td><td>&quot;1VKWOGBF44BU45…</td><td>&quot;NY&quot;</td><td>&quot;2021-04-10&quot;</td><td>&quot;-9.99&quot;</td><td>&quot;2021-04-10T01:…</td><td>47</td></tr><tr><td>17478</td><td>4789</td><td>&quot;HOURCAR.ORG SA…</td><td>&quot;Z1VT06DY82I44G…</td><td>&quot;AR&quot;</td><td>&quot;2021-04-10&quot;</td><td>&quot;-48.18&quot;</td><td>&quot;2021-04-09T22:…</td><td>1</td></tr><tr><td>26995</td><td>8398</td><td>&quot;FBPAY American…</td><td>&quot;52702100020498…</td><td>&quot;NY&quot;</td><td>&quot;2021-04-10&quot;</td><td>&quot;-45.00&quot;</td><td>&quot;2021-04-09T21:…</td><td>18</td></tr><tr><td>35903</td><td>5999</td><td>&quot;KICKFURTHER.CO…</td><td>&quot;64QIF4W7QVYGWL…</td><td>&quot;CA&quot;</td><td>&quot;2021-04-10&quot;</td><td>&quot;-1663.71&quot;</td><td>&quot;2021-04-09T21:…</td><td>1</td></tr><tr><td>31092</td><td>5411</td><td>&quot;WM SUPERC Wal-…</td><td>&quot;900004484&quot;</td><td>&quot;IL&quot;</td><td>&quot;2021-04-11&quot;</td><td>&quot;-9.63&quot;</td><td>&quot;2021-04-09T20:…</td><td>2</td></tr><tr><td>20253</td><td>5814</td><td>&quot;ANDY&#x27;S FROZEN …</td><td>&quot;00049622383788…</td><td>&quot;MN&quot;</td><td>&quot;2021-04-10&quot;</td><td>&quot;-14.79&quot;</td><td>&quot;2021-04-09T19:…</td><td>2</td></tr><tr><td>&hellip;</td><td>&hellip;</td><td>&hellip;</td><td>&hellip;</td><td>&hellip;</td><td>&hellip;</td><td>&hellip;</td><td>&hellip;</td><td>&hellip;</td></tr><tr><td>22969</td><td>5814</td><td>&quot;BURGER KING #2…</td><td>&quot;456207380993&quot;</td><td>&quot;NC&quot;</td><td>&quot;2021-04-09&quot;</td><td>&quot;-8.17&quot;</td><td>&quot;2021-04-09T08:…</td><td>5</td></tr><tr><td>26995</td><td>5541</td><td>&quot;SHELL SERVICE …</td><td>&quot;00000000040752…</td><td>&quot;NY&quot;</td><td>&quot;2021-04-10&quot;</td><td>&quot;-2.13&quot;</td><td>&quot;2021-04-09T08:…</td><td>17</td></tr><tr><td>27486</td><td>5814</td><td>&quot;PANERA BREAD #…</td><td>&quot;14700000807600…</td><td>&quot;OR&quot;</td><td>&quot;2021-04-10&quot;</td><td>&quot;-29.85&quot;</td><td>&quot;2021-04-09T08:…</td><td>17</td></tr><tr><td>16068</td><td>5999</td><td>&quot;SQ *SMOKEY BEA…</td><td>&quot;24266100005336…</td><td>&quot;NY&quot;</td><td>&quot;2021-04-10&quot;</td><td>&quot;-17.18&quot;</td><td>&quot;2021-04-09T08:…</td><td>17</td></tr><tr><td>38303</td><td>5814</td><td>&quot;MCDONALD&#x27;S F21…</td><td>&quot;14478000000000…</td><td>&quot;SC&quot;</td><td>&quot;2021-04-10&quot;</td><td>&quot;-15.38&quot;</td><td>&quot;2021-04-09T08:…</td><td>2</td></tr><tr><td>21152</td><td>5200</td><td>&quot;LOWE&#x27;S #1720 L…</td><td>&quot;175000000985&quot;</td><td>&quot;NJ&quot;</td><td>&quot;2021-04-10&quot;</td><td>&quot;-24.24&quot;</td><td>&quot;2021-04-09T08:…</td><td>7</td></tr><tr><td>21152</td><td>5814</td><td>&quot;SQ *THE LOKOMO…</td><td>&quot;24266100005336…</td><td>&quot;NJ&quot;</td><td>&quot;2021-04-10&quot;</td><td>&quot;-7.96&quot;</td><td>&quot;2021-04-09T07:…</td><td>6</td></tr><tr><td>33717</td><td>5411</td><td>&quot;FRESH THYME #3…</td><td>&quot;222220371237&quot;</td><td>&quot;CA&quot;</td><td>&quot;2021-04-10&quot;</td><td>&quot;-20.63&quot;</td><td>&quot;2021-04-09T07:…</td><td>113</td></tr><tr><td>14829</td><td>5968</td><td>&quot;LINKEDIN-629*8…</td><td>&quot;21907300021815…</td><td>&quot;TX&quot;</td><td>&quot;2021-04-10&quot;</td><td>&quot;-32.65&quot;</td><td>&quot;2021-04-09T06:…</td><td>31</td></tr><tr><td>16090</td><td>7801</td><td>&quot;FANDUEL BETFAI…</td><td>&quot;00039570810451…</td><td>&quot;CA&quot;</td><td>&quot;2021-04-10&quot;</td><td>&quot;-400.00&quot;</td><td>&quot;2021-04-09T06:…</td><td>2</td></tr><tr><td>31094</td><td>5542</td><td>&quot;CHEVRON 030858…</td><td>&quot;55100000004700…</td><td>&quot;NJ&quot;</td><td>&quot;2021-04-10&quot;</td><td>&quot;-21.41&quot;</td><td>&quot;2021-04-09T06:…</td><td>131</td></tr><tr><td>16392</td><td>5542</td><td>&quot;BUC-EE&#x27;S #44 1…</td><td>&quot;800000075525&quot;</td><td>&quot;IL&quot;</td><td>&quot;2021-04-11&quot;</td><td>&quot;-20.00&quot;</td><td>&quot;2021-04-09T05:…</td><td>1</td></tr></tbody></table></div>"
      ],
      "text/plain": [
       "shape: (60, 9)\n",
       "┌───────────┬───────────┬───────────┬───────────┬───┬───────────┬───────────┬───────────┬──────────┐\n",
       "│ account_n ┆ merchant_ ┆ merchant_ ┆ merchant_ ┆ … ┆ post_date ┆ purchase_ ┆ purchase_ ┆ purchase │\n",
       "│ umber     ┆ category_ ┆ name      ┆ number    ┆   ┆ ---       ┆ amount    ┆ datetime  ┆ _number  │\n",
       "│ ---       ┆ code      ┆ ---       ┆ ---       ┆   ┆ str       ┆ ---       ┆ ---       ┆ ---      │\n",
       "│ i64       ┆ ---       ┆ str       ┆ str       ┆   ┆           ┆ str       ┆ str       ┆ i64      │\n",
       "│           ┆ i64       ┆           ┆           ┆   ┆           ┆           ┆           ┆          │\n",
       "╞═══════════╪═══════════╪═══════════╪═══════════╪═══╪═══════════╪═══════════╪═══════════╪══════════╡\n",
       "│ 26669     ┆ 5541      ┆ SHELL     ┆ 000000000 ┆ … ┆ 2021-04-1 ┆ -12.00    ┆ 2021-04-1 ┆ 16       │\n",
       "│           ┆           ┆ SERVICE   ┆ 257469    ┆   ┆ 1         ┆           ┆ 0T14:39:2 ┆          │\n",
       "│           ┆           ┆ STATION   ┆           ┆   ┆           ┆           ┆ 6         ┆          │\n",
       "│           ┆           ┆ GRAPEVINE ┆           ┆   ┆           ┆           ┆           ┆          │\n",
       "│ 37466     ┆ 5411      ┆ WHOLEFDS  ┆ 000047405 ┆ … ┆ 2021-04-1 ┆ -88.12    ┆ 2021-04-1 ┆ 164      │\n",
       "│           ┆           ┆ MTH#106   ┆ 048002    ┆   ┆ 1         ┆           ┆ 0T12:41:5 ┆          │\n",
       "│           ┆           ┆ 515       ┆           ┆   ┆           ┆           ┆ 1         ┆          │\n",
       "│           ┆           ┆ ELHOUSTON ┆           ┆   ┆           ┆           ┆           ┆          │\n",
       "│ 38256     ┆ 5411      ┆ SPROUTS   ┆ 000000000 ┆ … ┆ 2021-04-1 ┆ -25.22    ┆ 2021-04-1 ┆ 5        │\n",
       "│           ┆           ┆ FARMERS   ┆ 576366    ┆   ┆ 1         ┆           ┆ 0T12:17:5 ┆          │\n",
       "│           ┆           ┆ MKT #15CH ┆           ┆   ┆           ┆           ┆ 8         ┆          │\n",
       "│           ┆           ┆ ANDLER    ┆           ┆   ┆           ┆           ┆           ┆          │\n",
       "│ 38256     ┆ 5411      ┆ SAFEWAY   ┆ 000000000 ┆ … ┆ 2021-04-1 ┆ -2.83     ┆ 2021-04-1 ┆ 4        │\n",
       "│           ┆           ┆ #1566     ┆ 459004    ┆   ┆ 1         ┆           ┆ 0T10:14:2 ┆          │\n",
       "│           ┆           ┆ CHANDLER  ┆           ┆   ┆           ┆           ┆ 5         ┆          │\n",
       "│ …         ┆ …         ┆ …         ┆ …         ┆ … ┆ …         ┆ …         ┆ …         ┆ …        │\n",
       "│ 14829     ┆ 5968      ┆ LINKEDIN- ┆ 219073000 ┆ … ┆ 2021-04-1 ┆ -32.65    ┆ 2021-04-0 ┆ 31       │\n",
       "│           ┆           ┆ 629*84962 ┆ 218152    ┆   ┆ 0         ┆           ┆ 9T06:32:1 ┆          │\n",
       "│           ┆           ┆ 43 LNKD.I ┆           ┆   ┆           ┆           ┆ 9         ┆          │\n",
       "│           ┆           ┆ N/BIL…    ┆           ┆   ┆           ┆           ┆           ┆          │\n",
       "│ 16090     ┆ 7801      ┆ FANDUEL   ┆ 000395708 ┆ … ┆ 2021-04-1 ┆ -400.00   ┆ 2021-04-0 ┆ 2        │\n",
       "│           ┆           ┆ BETFAIR   ┆ 104515    ┆   ┆ 0         ┆           ┆ 9T06:29:1 ┆          │\n",
       "│           ┆           ┆ INC 877-6 ┆           ┆   ┆           ┆           ┆ 4         ┆          │\n",
       "│           ┆           ┆ 890662    ┆           ┆   ┆           ┆           ┆           ┆          │\n",
       "│ 31094     ┆ 5542      ┆ CHEVRON   ┆ 551000000 ┆ … ┆ 2021-04-1 ┆ -21.41    ┆ 2021-04-0 ┆ 131      │\n",
       "│           ┆           ┆ 0308583   ┆ 047002    ┆   ┆ 0         ┆           ┆ 9T06:28:1 ┆          │\n",
       "│           ┆           ┆ HOUSTON   ┆           ┆   ┆           ┆           ┆ 7         ┆          │\n",
       "│ 16392     ┆ 5542      ┆ BUC-EE'S  ┆ 800000075 ┆ … ┆ 2021-04-1 ┆ -20.00    ┆ 2021-04-0 ┆ 1        │\n",
       "│           ┆           ┆ #44 1550  ┆ 525       ┆   ┆ 1         ┆           ┆ 9T05:03:5 ┆          │\n",
       "│           ┆           ┆ CENT      ┆           ┆   ┆           ┆           ┆ 9         ┆          │\n",
       "│           ┆           ┆ MELISSA   ┆           ┆   ┆           ┆           ┆           ┆          │\n",
       "└───────────┴───────────┴───────────┴───────────┴───┴───────────┴───────────┴───────────┴──────────┘"
      ]
     },
     "execution_count": 28,
     "metadata": {},
     "output_type": "execute_result"
    }
   ],
   "source": [
    "import asyncio\n",
    "from itertools import chain\n",
    "\n",
    "import polars as pl\n",
    "\n",
    "page_zero_job = get_page(0)\n",
    "page_one_job = get_page(1)\n",
    "\n",
    "page_zero, page_one = await asyncio.gather(page_zero_job, page_one_job)\n",
    "\n",
    "both_responses = chain(page_zero, page_one)\n",
    "purchase_lf = pl.LazyFrame(both_responses)\n",
    "\n",
    "\n",
    "purchase_lf.collect()"
   ]
  },
  {
   "cell_type": "code",
   "execution_count": 24,
   "metadata": {},
   "outputs": [
    {
     "data": {
      "text/html": [
       "<div><style>\n",
       ".dataframe > thead > tr,\n",
       ".dataframe > tbody > tr {\n",
       "  text-align: right;\n",
       "  white-space: pre-wrap;\n",
       "}\n",
       "</style>\n",
       "<small>shape: (60, 9)</small><table border=\"1\" class=\"dataframe\"><thead><tr><th>account_number</th><th>merchant_category_code</th><th>merchant_name</th><th>merchant_number</th><th>merchant_state</th><th>post_date</th><th>purchase_amount</th><th>purchase_datetime</th><th>purchase_number</th></tr><tr><td>i64</td><td>i64</td><td>str</td><td>str</td><td>str</td><td>str</td><td>f32</td><td>str</td><td>i64</td></tr></thead><tbody><tr><td>26669</td><td>5541</td><td>&quot;SHELL SERVICE …</td><td>&quot;00000000025746…</td><td>&quot;OH&quot;</td><td>&quot;2021-04-11&quot;</td><td>-12.0</td><td>&quot;2021-04-10T14:…</td><td>16</td></tr><tr><td>37466</td><td>5411</td><td>&quot;WHOLEFDS MTH#1…</td><td>&quot;00004740504800…</td><td>&quot;OH&quot;</td><td>&quot;2021-04-11&quot;</td><td>-88.120003</td><td>&quot;2021-04-10T12:…</td><td>164</td></tr><tr><td>38256</td><td>5411</td><td>&quot;SPROUTS FARMER…</td><td>&quot;00000000057636…</td><td>&quot;OH&quot;</td><td>&quot;2021-04-11&quot;</td><td>-25.219999</td><td>&quot;2021-04-10T12:…</td><td>5</td></tr><tr><td>38256</td><td>5411</td><td>&quot;SAFEWAY #1566 …</td><td>&quot;00000000045900…</td><td>&quot;OH&quot;</td><td>&quot;2021-04-11&quot;</td><td>-2.83</td><td>&quot;2021-04-10T10:…</td><td>4</td></tr><tr><td>38256</td><td>5411</td><td>&quot;SPROUTS FARMER…</td><td>&quot;00000000057636…</td><td>&quot;OH&quot;</td><td>&quot;2021-04-11&quot;</td><td>-80.650002</td><td>&quot;2021-04-10T07:…</td><td>3</td></tr><tr><td>38256</td><td>5411</td><td>&quot;SAFEWAY #1566 …</td><td>&quot;00000000045900…</td><td>&quot;OH&quot;</td><td>&quot;2021-04-11&quot;</td><td>-146.559998</td><td>&quot;2021-04-10T07:…</td><td>2</td></tr><tr><td>26603</td><td>5812</td><td>&quot;DOORDASH DASHP…</td><td>&quot;1VKWOGBF44BU45…</td><td>&quot;NY&quot;</td><td>&quot;2021-04-10&quot;</td><td>-9.99</td><td>&quot;2021-04-10T01:…</td><td>47</td></tr><tr><td>17478</td><td>4789</td><td>&quot;HOURCAR.ORG SA…</td><td>&quot;Z1VT06DY82I44G…</td><td>&quot;AR&quot;</td><td>&quot;2021-04-10&quot;</td><td>-48.18</td><td>&quot;2021-04-09T22:…</td><td>1</td></tr><tr><td>26995</td><td>8398</td><td>&quot;FBPAY American…</td><td>&quot;52702100020498…</td><td>&quot;NY&quot;</td><td>&quot;2021-04-10&quot;</td><td>-45.0</td><td>&quot;2021-04-09T21:…</td><td>18</td></tr><tr><td>35903</td><td>5999</td><td>&quot;KICKFURTHER.CO…</td><td>&quot;64QIF4W7QVYGWL…</td><td>&quot;CA&quot;</td><td>&quot;2021-04-10&quot;</td><td>-1663.709961</td><td>&quot;2021-04-09T21:…</td><td>1</td></tr><tr><td>31092</td><td>5411</td><td>&quot;WM SUPERC Wal-…</td><td>&quot;900004484&quot;</td><td>&quot;IL&quot;</td><td>&quot;2021-04-11&quot;</td><td>-9.63</td><td>&quot;2021-04-09T20:…</td><td>2</td></tr><tr><td>20253</td><td>5814</td><td>&quot;ANDY&#x27;S FROZEN …</td><td>&quot;00049622383788…</td><td>&quot;MN&quot;</td><td>&quot;2021-04-10&quot;</td><td>-14.79</td><td>&quot;2021-04-09T19:…</td><td>2</td></tr><tr><td>&hellip;</td><td>&hellip;</td><td>&hellip;</td><td>&hellip;</td><td>&hellip;</td><td>&hellip;</td><td>&hellip;</td><td>&hellip;</td><td>&hellip;</td></tr><tr><td>22969</td><td>5814</td><td>&quot;BURGER KING #2…</td><td>&quot;456207380993&quot;</td><td>&quot;NC&quot;</td><td>&quot;2021-04-09&quot;</td><td>-8.17</td><td>&quot;2021-04-09T08:…</td><td>5</td></tr><tr><td>26995</td><td>5541</td><td>&quot;SHELL SERVICE …</td><td>&quot;00000000040752…</td><td>&quot;NY&quot;</td><td>&quot;2021-04-10&quot;</td><td>-2.13</td><td>&quot;2021-04-09T08:…</td><td>17</td></tr><tr><td>27486</td><td>5814</td><td>&quot;PANERA BREAD #…</td><td>&quot;14700000807600…</td><td>&quot;OR&quot;</td><td>&quot;2021-04-10&quot;</td><td>-29.85</td><td>&quot;2021-04-09T08:…</td><td>17</td></tr><tr><td>16068</td><td>5999</td><td>&quot;SQ *SMOKEY BEA…</td><td>&quot;24266100005336…</td><td>&quot;NY&quot;</td><td>&quot;2021-04-10&quot;</td><td>-17.18</td><td>&quot;2021-04-09T08:…</td><td>17</td></tr><tr><td>38303</td><td>5814</td><td>&quot;MCDONALD&#x27;S F21…</td><td>&quot;14478000000000…</td><td>&quot;SC&quot;</td><td>&quot;2021-04-10&quot;</td><td>-15.38</td><td>&quot;2021-04-09T08:…</td><td>2</td></tr><tr><td>21152</td><td>5200</td><td>&quot;LOWE&#x27;S #1720 L…</td><td>&quot;175000000985&quot;</td><td>&quot;NJ&quot;</td><td>&quot;2021-04-10&quot;</td><td>-24.24</td><td>&quot;2021-04-09T08:…</td><td>7</td></tr><tr><td>21152</td><td>5814</td><td>&quot;SQ *THE LOKOMO…</td><td>&quot;24266100005336…</td><td>&quot;NJ&quot;</td><td>&quot;2021-04-10&quot;</td><td>-7.96</td><td>&quot;2021-04-09T07:…</td><td>6</td></tr><tr><td>33717</td><td>5411</td><td>&quot;FRESH THYME #3…</td><td>&quot;222220371237&quot;</td><td>&quot;CA&quot;</td><td>&quot;2021-04-10&quot;</td><td>-20.629999</td><td>&quot;2021-04-09T07:…</td><td>113</td></tr><tr><td>14829</td><td>5968</td><td>&quot;LINKEDIN-629*8…</td><td>&quot;21907300021815…</td><td>&quot;TX&quot;</td><td>&quot;2021-04-10&quot;</td><td>-32.650002</td><td>&quot;2021-04-09T06:…</td><td>31</td></tr><tr><td>16090</td><td>7801</td><td>&quot;FANDUEL BETFAI…</td><td>&quot;00039570810451…</td><td>&quot;CA&quot;</td><td>&quot;2021-04-10&quot;</td><td>-400.0</td><td>&quot;2021-04-09T06:…</td><td>2</td></tr><tr><td>31094</td><td>5542</td><td>&quot;CHEVRON 030858…</td><td>&quot;55100000004700…</td><td>&quot;NJ&quot;</td><td>&quot;2021-04-10&quot;</td><td>-21.41</td><td>&quot;2021-04-09T06:…</td><td>131</td></tr><tr><td>16392</td><td>5542</td><td>&quot;BUC-EE&#x27;S #44 1…</td><td>&quot;800000075525&quot;</td><td>&quot;IL&quot;</td><td>&quot;2021-04-11&quot;</td><td>-20.0</td><td>&quot;2021-04-09T05:…</td><td>1</td></tr></tbody></table></div>"
      ],
      "text/plain": [
       "shape: (60, 9)\n",
       "┌───────────┬───────────┬───────────┬───────────┬───┬───────────┬───────────┬───────────┬──────────┐\n",
       "│ account_n ┆ merchant_ ┆ merchant_ ┆ merchant_ ┆ … ┆ post_date ┆ purchase_ ┆ purchase_ ┆ purchase │\n",
       "│ umber     ┆ category_ ┆ name      ┆ number    ┆   ┆ ---       ┆ amount    ┆ datetime  ┆ _number  │\n",
       "│ ---       ┆ code      ┆ ---       ┆ ---       ┆   ┆ str       ┆ ---       ┆ ---       ┆ ---      │\n",
       "│ i64       ┆ ---       ┆ str       ┆ str       ┆   ┆           ┆ f32       ┆ str       ┆ i64      │\n",
       "│           ┆ i64       ┆           ┆           ┆   ┆           ┆           ┆           ┆          │\n",
       "╞═══════════╪═══════════╪═══════════╪═══════════╪═══╪═══════════╪═══════════╪═══════════╪══════════╡\n",
       "│ 26669     ┆ 5541      ┆ SHELL     ┆ 000000000 ┆ … ┆ 2021-04-1 ┆ -12.0     ┆ 2021-04-1 ┆ 16       │\n",
       "│           ┆           ┆ SERVICE   ┆ 257469    ┆   ┆ 1         ┆           ┆ 0T14:39:2 ┆          │\n",
       "│           ┆           ┆ STATION   ┆           ┆   ┆           ┆           ┆ 6         ┆          │\n",
       "│           ┆           ┆ GRAPEVINE ┆           ┆   ┆           ┆           ┆           ┆          │\n",
       "│ 37466     ┆ 5411      ┆ WHOLEFDS  ┆ 000047405 ┆ … ┆ 2021-04-1 ┆ -88.12000 ┆ 2021-04-1 ┆ 164      │\n",
       "│           ┆           ┆ MTH#106   ┆ 048002    ┆   ┆ 1         ┆ 3         ┆ 0T12:41:5 ┆          │\n",
       "│           ┆           ┆ 515       ┆           ┆   ┆           ┆           ┆ 1         ┆          │\n",
       "│           ┆           ┆ ELHOUSTON ┆           ┆   ┆           ┆           ┆           ┆          │\n",
       "│ 38256     ┆ 5411      ┆ SPROUTS   ┆ 000000000 ┆ … ┆ 2021-04-1 ┆ -25.21999 ┆ 2021-04-1 ┆ 5        │\n",
       "│           ┆           ┆ FARMERS   ┆ 576366    ┆   ┆ 1         ┆ 9         ┆ 0T12:17:5 ┆          │\n",
       "│           ┆           ┆ MKT #15CH ┆           ┆   ┆           ┆           ┆ 8         ┆          │\n",
       "│           ┆           ┆ ANDLER    ┆           ┆   ┆           ┆           ┆           ┆          │\n",
       "│ 38256     ┆ 5411      ┆ SAFEWAY   ┆ 000000000 ┆ … ┆ 2021-04-1 ┆ -2.83     ┆ 2021-04-1 ┆ 4        │\n",
       "│           ┆           ┆ #1566     ┆ 459004    ┆   ┆ 1         ┆           ┆ 0T10:14:2 ┆          │\n",
       "│           ┆           ┆ CHANDLER  ┆           ┆   ┆           ┆           ┆ 5         ┆          │\n",
       "│ …         ┆ …         ┆ …         ┆ …         ┆ … ┆ …         ┆ …         ┆ …         ┆ …        │\n",
       "│ 14829     ┆ 5968      ┆ LINKEDIN- ┆ 219073000 ┆ … ┆ 2021-04-1 ┆ -32.65000 ┆ 2021-04-0 ┆ 31       │\n",
       "│           ┆           ┆ 629*84962 ┆ 218152    ┆   ┆ 0         ┆ 2         ┆ 9T06:32:1 ┆          │\n",
       "│           ┆           ┆ 43 LNKD.I ┆           ┆   ┆           ┆           ┆ 9         ┆          │\n",
       "│           ┆           ┆ N/BIL…    ┆           ┆   ┆           ┆           ┆           ┆          │\n",
       "│ 16090     ┆ 7801      ┆ FANDUEL   ┆ 000395708 ┆ … ┆ 2021-04-1 ┆ -400.0    ┆ 2021-04-0 ┆ 2        │\n",
       "│           ┆           ┆ BETFAIR   ┆ 104515    ┆   ┆ 0         ┆           ┆ 9T06:29:1 ┆          │\n",
       "│           ┆           ┆ INC 877-6 ┆           ┆   ┆           ┆           ┆ 4         ┆          │\n",
       "│           ┆           ┆ 890662    ┆           ┆   ┆           ┆           ┆           ┆          │\n",
       "│ 31094     ┆ 5542      ┆ CHEVRON   ┆ 551000000 ┆ … ┆ 2021-04-1 ┆ -21.41    ┆ 2021-04-0 ┆ 131      │\n",
       "│           ┆           ┆ 0308583   ┆ 047002    ┆   ┆ 0         ┆           ┆ 9T06:28:1 ┆          │\n",
       "│           ┆           ┆ HOUSTON   ┆           ┆   ┆           ┆           ┆ 7         ┆          │\n",
       "│ 16392     ┆ 5542      ┆ BUC-EE'S  ┆ 800000075 ┆ … ┆ 2021-04-1 ┆ -20.0     ┆ 2021-04-0 ┆ 1        │\n",
       "│           ┆           ┆ #44 1550  ┆ 525       ┆   ┆ 1         ┆           ┆ 9T05:03:5 ┆          │\n",
       "│           ┆           ┆ CENT      ┆           ┆   ┆           ┆           ┆ 9         ┆          │\n",
       "│           ┆           ┆ MELISSA   ┆           ┆   ┆           ┆           ┆           ┆          │\n",
       "└───────────┴───────────┴───────────┴───────────┴───┴───────────┴───────────┴───────────┴──────────┘"
      ]
     },
     "execution_count": 24,
     "metadata": {},
     "output_type": "execute_result"
    }
   ],
   "source": [
    "purchase_lf = purchase_lf.with_columns(pl.col(\"purchase_amount\").cast(pl.Float32))\n",
    "purchase_lf.collect()"
   ]
  },
  {
   "cell_type": "code",
   "execution_count": 25,
   "metadata": {},
   "outputs": [],
   "source": [
    "from typing import Callable, Optional\n",
    "\n",
    "\n",
    "def get_agg(attr_str: str) -> Optional[Callable[..., pl.Expr]]:\n",
    "    return getattr(pl, attr_str, None)"
   ]
  },
  {
   "cell_type": "code",
   "execution_count": 26,
   "metadata": {},
   "outputs": [
    {
     "data": {
      "text/html": [
       "<div><style>\n",
       ".dataframe > thead > tr,\n",
       ".dataframe > tbody > tr {\n",
       "  text-align: right;\n",
       "  white-space: pre-wrap;\n",
       "}\n",
       "</style>\n",
       "<small>shape: (55, 2)</small><table border=\"1\" class=\"dataframe\"><thead><tr><th>merchant_number</th><th>purchase_amount</th></tr><tr><td>str</td><td>f32</td></tr></thead><tbody><tr><td>&quot;64QIF4W7QVYGWL…</td><td>-1663.709961</td></tr><tr><td>&quot;00039570810451…</td><td>-400.0</td></tr><tr><td>&quot;00037204881988…</td><td>-172.809998</td></tr><tr><td>&quot;00000000045900…</td><td>-149.389999</td></tr><tr><td>&quot;4445900003510&quot;</td><td>-130.899994</td></tr><tr><td>&quot;00000000518648…</td><td>-106.440002</td></tr><tr><td>&quot;00000000057636…</td><td>-105.870003</td></tr><tr><td>&quot;00044517720199…</td><td>-95.43</td></tr><tr><td>&quot;00004740504800…</td><td>-88.120003</td></tr><tr><td>&quot;00073702953488…</td><td>-74.860001</td></tr><tr><td>&quot;72000038867430…</td><td>-71.790001</td></tr><tr><td>&quot;24266100005336…</td><td>-67.139999</td></tr><tr><td>&hellip;</td><td>&hellip;</td></tr><tr><td>&quot;34150300000000…</td><td>-9.77</td></tr><tr><td>&quot;28702700000000…</td><td>-9.7</td></tr><tr><td>&quot;900004484&quot;</td><td>-9.63</td></tr><tr><td>&quot;69440700000000…</td><td>-9.55</td></tr><tr><td>&quot;62968300000000…</td><td>-9.19</td></tr><tr><td>&quot;4445197802850&quot;</td><td>-9.04</td></tr><tr><td>&quot;456207380993&quot;</td><td>-8.17</td></tr><tr><td>&quot;4445027959767&quot;</td><td>-6.0</td></tr><tr><td>&quot;4445033758292&quot;</td><td>-5.89</td></tr><tr><td>&quot;4445039610738&quot;</td><td>-5.39</td></tr><tr><td>&quot;00000000040752…</td><td>-2.13</td></tr><tr><td>&quot;00039004812300…</td><td>-1.45</td></tr></tbody></table></div>"
      ],
      "text/plain": [
       "shape: (55, 2)\n",
       "┌─────────────────┬─────────────────┐\n",
       "│ merchant_number ┆ purchase_amount │\n",
       "│ ---             ┆ ---             │\n",
       "│ str             ┆ f32             │\n",
       "╞═════════════════╪═════════════════╡\n",
       "│ 64QIF4W7QVYGWLB ┆ -1663.709961    │\n",
       "│ 000395708104515 ┆ -400.0          │\n",
       "│ 000372048819885 ┆ -172.809998     │\n",
       "│ 000000000459004 ┆ -149.389999     │\n",
       "│ …               ┆ …               │\n",
       "│ 4445033758292   ┆ -5.89           │\n",
       "│ 4445039610738   ┆ -5.39           │\n",
       "│ 000000000407527 ┆ -2.13           │\n",
       "│ 000390048123001 ┆ -1.45           │\n",
       "└─────────────────┴─────────────────┘"
      ]
     },
     "execution_count": 26,
     "metadata": {},
     "output_type": "execute_result"
    }
   ],
   "source": [
    "aggfn = get_agg(\"sum\")\n",
    "\n",
    "if aggfn is None:\n",
    "    raise ValueError(\"aggfn is None\")\n",
    "\n",
    "(\n",
    "    purchase_lf.group_by(\"merchant_number\")\n",
    "    .agg(aggfn(\"purchase_amount\"))\n",
    "    .sort(\"purchase_amount\")\n",
    "    .collect()\n",
    ")\n",
    "# time,"
   ]
  },
  {
   "cell_type": "code",
   "execution_count": 27,
   "metadata": {},
   "outputs": [
    {
     "ename": "NameError",
     "evalue": "name 'requests' is not defined",
     "output_type": "error",
     "traceback": [
      "\u001b[0;31m---------------------------------------------------------------------------\u001b[0m",
      "\u001b[0;31mNameError\u001b[0m                                 Traceback (most recent call last)",
      "Cell \u001b[0;32mIn[27], line 1\u001b[0m\n\u001b[0;32m----> 1\u001b[0m account_json \u001b[38;5;241m=\u001b[39m \u001b[43mrequests\u001b[49m\u001b[38;5;241m.\u001b[39mget(\n\u001b[1;32m      2\u001b[0m     \u001b[38;5;124m\"\u001b[39m\u001b[38;5;124mhttps://purchase.wolfeycode.com/account\u001b[39m\u001b[38;5;124m\"\u001b[39m, params\u001b[38;5;241m=\u001b[39m{\u001b[38;5;124m\"\u001b[39m\u001b[38;5;124mpage\u001b[39m\u001b[38;5;124m\"\u001b[39m: \u001b[38;5;241m0\u001b[39m}\n\u001b[1;32m      3\u001b[0m )\u001b[38;5;241m.\u001b[39mjson()\n\u001b[1;32m      5\u001b[0m account_lf \u001b[38;5;241m=\u001b[39m pl\u001b[38;5;241m.\u001b[39mLazyFrame(account_json)\n\u001b[1;32m      6\u001b[0m account_lf\u001b[38;5;241m.\u001b[39mcollect()\n",
      "\u001b[0;31mNameError\u001b[0m: name 'requests' is not defined"
     ]
    }
   ],
   "source": [
    "account_json = requests.get(\n",
    "    \"https://purchase.wolfeycode.com/account\", params={\"page\": 0}\n",
    ").json()\n",
    "\n",
    "account_lf = pl.LazyFrame(account_json)\n",
    "account_lf.collect()"
   ]
  },
  {
   "cell_type": "code",
   "execution_count": null,
   "metadata": {},
   "outputs": [
    {
     "data": {
      "text/html": [
       "<div><style>\n",
       ".dataframe > thead > tr,\n",
       ".dataframe > tbody > tr {\n",
       "  text-align: right;\n",
       "  white-space: pre-wrap;\n",
       "}\n",
       "</style>\n",
       "<small>shape: (30, 13)</small><table border=\"1\" class=\"dataframe\"><thead><tr><th>account_number</th><th>account_state</th><th>city</th><th>dob</th><th>email_address</th><th>first_name</th><th>last_name</th><th>mobile_number</th><th>ssn</th><th>street_address</th><th>unit</th><th>zip</th><th>eof</th></tr><tr><td>i64</td><td>str</td><td>str</td><td>str</td><td>str</td><td>str</td><td>str</td><td>str</td><td>str</td><td>str</td><td>i64</td><td>i64</td><td>bool</td></tr></thead><tbody><tr><td>37226</td><td>&quot;NY&quot;</td><td>&quot;Middle Island&quot;</td><td>&quot;1965-12-12&quot;</td><td>&quot;amaclead@gmail…</td><td>&quot;Maclead&quot;</td><td>&quot;Abel&quot;</td><td>&quot;2158741229&quot;</td><td>&quot;282-99-7138&quot;</td><td>&quot;37275 St  Rt 1…</td><td>null</td><td>11953</td><td>false</td></tr><tr><td>33555</td><td>&quot;NY&quot;</td><td>&quot;Middle Island&quot;</td><td>&quot;1965-12-12&quot;</td><td>&quot;mabel99@gmail.…</td><td>&quot;Monica&quot;</td><td>&quot;Abel&quot;</td><td>&quot;2158741229&quot;</td><td>&quot;282-99-2555&quot;</td><td>&quot;13727 St  Rt 1…</td><td>null</td><td>11953</td><td>false</td></tr><tr><td>17079</td><td>&quot;NJ&quot;</td><td>&quot;Dunellen&quot;</td><td>&quot;1993-01-31&quot;</td><td>&quot;albina@glick.c…</td><td>&quot;Glick&quot;</td><td>&quot;Albina&quot;</td><td>&quot;2017096245&quot;</td><td>&quot;798-85-9268&quot;</td><td>&quot;4 Ralph Ct&quot;</td><td>null</td><td>8812</td><td>false</td></tr><tr><td>19820</td><td>&quot;CO&quot;</td><td>&quot;Boulder&quot;</td><td>&quot;1990-06-01&quot;</td><td>&quot;alease@buemi.c…</td><td>&quot;Buemi&quot;</td><td>&quot;Alease&quot;</td><td>&quot;5047105840&quot;</td><td>&quot;335-82-1590&quot;</td><td>&quot;4 Webbs Chapel…</td><td>null</td><td>80303</td><td>false</td></tr><tr><td>30881</td><td>&quot;NJ&quot;</td><td>&quot;Middlesex&quot;</td><td>&quot;1949-08-29&quot;</td><td>&quot;alisha@slusars…</td><td>&quot;Slusarski&quot;</td><td>&quot;Alisha&quot;</td><td>&quot;5189667987&quot;</td><td>&quot;537-64-6119&quot;</td><td>&quot;3273 State St&quot;</td><td>null</td><td>8846</td><td>false</td></tr><tr><td>26603</td><td>&quot;NY&quot;</td><td>&quot;New York&quot;</td><td>&quot;1942-01-22&quot;</td><td>&quot;asergi@gmail.c…</td><td>&quot;Sergi&quot;</td><td>&quot;Alishia&quot;</td><td>&quot;7329247882&quot;</td><td>&quot;981-71-5987&quot;</td><td>&quot;2742 Distribut…</td><td>null</td><td>10025</td><td>false</td></tr><tr><td>33152</td><td>&quot;WI&quot;</td><td>&quot;Stevens Point&quot;</td><td>&quot;1985-02-24&quot;</td><td>&quot;allene_iturbid…</td><td>&quot;Iturbide&quot;</td><td>&quot;Allene&quot;</td><td>&quot;7326583154&quot;</td><td>&quot;771-35-1835&quot;</td><td>&quot;1 Central Ave&quot;</td><td>null</td><td>54481</td><td>false</td></tr><tr><td>36453</td><td>&quot;PA&quot;</td><td>&quot;Jenkintown&quot;</td><td>&quot;1954-10-18&quot;</td><td>&quot;amber_monarrez…</td><td>&quot;Monarrez&quot;</td><td>&quot;Amber&quot;</td><td>&quot;5169686051&quot;</td><td>&quot;544-01-9522&quot;</td><td>&quot;14288 Foster A…</td><td>4121</td><td>19046</td><td>false</td></tr><tr><td>26777</td><td>&quot;OH&quot;</td><td>&quot;Columbus&quot;</td><td>&quot;1975-01-10&quot;</td><td>&quot;ammie@corrio.c…</td><td>&quot;Corrio&quot;</td><td>&quot;Ammie&quot;</td><td>&quot;9363363951&quot;</td><td>&quot;865-62-8550&quot;</td><td>&quot;74874 Atlantic…</td><td>null</td><td>43215</td><td>false</td></tr><tr><td>14889</td><td>&quot;HI&quot;</td><td>&quot;Honolulu&quot;</td><td>&quot;1969-05-25&quot;</td><td>&quot;angella.cetta@…</td><td>&quot;Cetta&quot;</td><td>&quot;Angella&quot;</td><td>&quot;5108287047&quot;</td><td>&quot;914-77-5912&quot;</td><td>&quot;185 Blackstone…</td><td>null</td><td>96817</td><td>false</td></tr><tr><td>33168</td><td>&quot;MA&quot;</td><td>&quot;Concord&quot;</td><td>&quot;1977-09-19&quot;</td><td>&quot;annabelle.boor…</td><td>&quot;Boord&quot;</td><td>&quot;Annabelle&quot;</td><td>&quot;5106779785&quot;</td><td>&quot;245-76-3666&quot;</td><td>&quot;523 Marquette …</td><td>null</td><td>1742</td><td>false</td></tr><tr><td>32764</td><td>&quot;LA&quot;</td><td>&quot;New Orleans&quot;</td><td>&quot;1944-12-15&quot;</td><td>&quot;arlene_klusman…</td><td>&quot;Klusman&quot;</td><td>&quot;Arlene&quot;</td><td>&quot;7032353937&quot;</td><td>&quot;726-39-2318&quot;</td><td>&quot;3 Secor Rd&quot;</td><td>null</td><td>70112</td><td>false</td></tr><tr><td>&hellip;</td><td>&hellip;</td><td>&hellip;</td><td>&hellip;</td><td>&hellip;</td><td>&hellip;</td><td>&hellip;</td><td>&hellip;</td><td>&hellip;</td><td>&hellip;</td><td>&hellip;</td><td>&hellip;</td><td>&hellip;</td></tr><tr><td>35903</td><td>&quot;CA&quot;</td><td>&quot;Gardena&quot;</td><td>&quot;1975-06-26&quot;</td><td>&quot;benton.skursky…</td><td>&quot;Skursky&quot;</td><td>&quot;Benton&quot;</td><td>&quot;4195444900&quot;</td><td>&quot;289-76-4017&quot;</td><td>&quot;47939 Porter A…</td><td>null</td><td>90248</td><td>false</td></tr><tr><td>34454</td><td>&quot;TX&quot;</td><td>&quot;Conroe&quot;</td><td>&quot;1955-04-13&quot;</td><td>&quot;bfigeroa@aol.c…</td><td>&quot;Figeroa&quot;</td><td>&quot;Bernardo&quot;</td><td>&quot;2125824976&quot;</td><td>&quot;858-14-2437&quot;</td><td>&quot;386 9th Ave N&quot;</td><td>null</td><td>77301</td><td>false</td></tr><tr><td>37385</td><td>&quot;PA&quot;</td><td>&quot;Aston&quot;</td><td>&quot;1959-03-17&quot;</td><td>&quot;bette_nicka@co…</td><td>&quot;Nicka&quot;</td><td>&quot;Bette&quot;</td><td>&quot;8158282147&quot;</td><td>&quot;550-22-5793&quot;</td><td>&quot;6 S 33rd St&quot;</td><td>null</td><td>19014</td><td>false</td></tr><tr><td>32218</td><td>&quot;PA&quot;</td><td>&quot;Philadelphia&quot;</td><td>&quot;1988-11-21&quot;</td><td>&quot;bmalet@yahoo.c…</td><td>&quot;Malet&quot;</td><td>&quot;Blair&quot;</td><td>&quot;6083367444&quot;</td><td>&quot;952-98-9755&quot;</td><td>&quot;209 Decker Dr&quot;</td><td>null</td><td>19132</td><td>false</td></tr><tr><td>30808</td><td>&quot;RI&quot;</td><td>&quot;Providence&quot;</td><td>&quot;1958-12-27&quot;</td><td>&quot;bpugh@aol.com&quot;</td><td>&quot;Pugh&quot;</td><td>&quot;Blondell&quot;</td><td>&quot;2152119589&quot;</td><td>&quot;820-76-3572&quot;</td><td>&quot;201 Hawk Ct&quot;</td><td>null</td><td>2904</td><td>false</td></tr><tr><td>23991</td><td>&quot;CA&quot;</td><td>&quot;San Carlos&quot;</td><td>&quot;1989-06-04&quot;</td><td>&quot;brhym@rhym.com…</td><td>&quot;Rhym&quot;</td><td>&quot;Bobbye&quot;</td><td>&quot;9192259345&quot;</td><td>&quot;802-79-3430&quot;</td><td>&quot;30 W 80th St&quot;</td><td>1995</td><td>94070</td><td>false</td></tr><tr><td>19444</td><td>&quot;NY&quot;</td><td>&quot;Bronx&quot;</td><td>&quot;1970-10-01&quot;</td><td>&quot;bok.isaacs@aol…</td><td>&quot;Isaacs&quot;</td><td>&quot;Bok&quot;</td><td>&quot;3217494981&quot;</td><td>&quot;335-29-2756&quot;</td><td>&quot;6 Gilson St&quot;</td><td>null</td><td>10468</td><td>false</td></tr><tr><td>31957</td><td>&quot;HI&quot;</td><td>&quot;Honolulu&quot;</td><td>&quot;1965-05-01&quot;</td><td>&quot;brandon_callar…</td><td>&quot;Callaro&quot;</td><td>&quot;Brandon&quot;</td><td>&quot;8052753566&quot;</td><td>&quot;750-37-1076&quot;</td><td>&quot;7 Benton Dr&quot;</td><td>null</td><td>96819</td><td>false</td></tr><tr><td>36620</td><td>&quot;NY&quot;</td><td>&quot;New York&quot;</td><td>&quot;1963-10-21&quot;</td><td>&quot;bbolognia@yaho…</td><td>&quot;Bolognia&quot;</td><td>&quot;Brock&quot;</td><td>&quot;2159079111&quot;</td><td>&quot;619-36-4722&quot;</td><td>&quot;4486 W O St&quot;</td><td>1</td><td>10003</td><td>false</td></tr><tr><td>30942</td><td>&quot;TX&quot;</td><td>&quot;Waco&quot;</td><td>&quot;1952-06-05&quot;</td><td>&quot;bulah_padilla@…</td><td>&quot;Padilla&quot;</td><td>&quot;Bulah&quot;</td><td>&quot;9516453605&quot;</td><td>&quot;863-85-5959&quot;</td><td>&quot;8927 Vandever …</td><td>null</td><td>76707</td><td>false</td></tr><tr><td>14829</td><td>&quot;TX&quot;</td><td>&quot;Laredo&quot;</td><td>&quot;1976-03-25&quot;</td><td>&quot;calbares@gmail…</td><td>&quot;Albares&quot;</td><td>&quot;Cammy&quot;</td><td>&quot;4407808425&quot;</td><td>&quot;431-08-6477&quot;</td><td>&quot;56 E Morehead …</td><td>null</td><td>78045</td><td>false</td></tr><tr><td>17478</td><td>&quot;AR&quot;</td><td>&quot;Little Rock&quot;</td><td>&quot;1963-08-07&quot;</td><td>&quot;cdeleo@deleo.c…</td><td>&quot;Deleo&quot;</td><td>&quot;Carin&quot;</td><td>&quot;5162121915&quot;</td><td>&quot;688-43-5741&quot;</td><td>&quot;1844 Southern …</td><td>null</td><td>72202</td><td>false</td></tr></tbody></table></div>"
      ],
      "text/plain": [
       "shape: (30, 13)\n",
       "┌──────────────┬──────────────┬──────────────┬────────────┬───┬─────────────┬──────┬───────┬───────┐\n",
       "│ account_numb ┆ account_stat ┆ city         ┆ dob        ┆ … ┆ street_addr ┆ unit ┆ zip   ┆ eof   │\n",
       "│ er           ┆ e            ┆ ---          ┆ ---        ┆   ┆ ess         ┆ ---  ┆ ---   ┆ ---   │\n",
       "│ ---          ┆ ---          ┆ str          ┆ str        ┆   ┆ ---         ┆ i64  ┆ i64   ┆ bool  │\n",
       "│ i64          ┆ str          ┆              ┆            ┆   ┆ str         ┆      ┆       ┆       │\n",
       "╞══════════════╪══════════════╪══════════════╪════════════╪═══╪═════════════╪══════╪═══════╪═══════╡\n",
       "│ 37226        ┆ NY           ┆ Middle       ┆ 1965-12-12 ┆ … ┆ 37275 St    ┆ null ┆ 11953 ┆ false │\n",
       "│              ┆              ┆ Island       ┆            ┆   ┆ Rt 17m M    ┆      ┆       ┆       │\n",
       "│ 33555        ┆ NY           ┆ Middle       ┆ 1965-12-12 ┆ … ┆ 13727 St    ┆ null ┆ 11953 ┆ false │\n",
       "│              ┆              ┆ Island       ┆            ┆   ┆ Rt 17m M    ┆      ┆       ┆       │\n",
       "│ 17079        ┆ NJ           ┆ Dunellen     ┆ 1993-01-31 ┆ … ┆ 4 Ralph Ct  ┆ null ┆ 8812  ┆ false │\n",
       "│ 19820        ┆ CO           ┆ Boulder      ┆ 1990-06-01 ┆ … ┆ 4 Webbs     ┆ null ┆ 80303 ┆ false │\n",
       "│              ┆              ┆              ┆            ┆   ┆ Chapel Rd   ┆      ┆       ┆       │\n",
       "│ …            ┆ …            ┆ …            ┆ …          ┆ … ┆ …           ┆ …    ┆ …     ┆ …     │\n",
       "│ 36620        ┆ NY           ┆ New York     ┆ 1963-10-21 ┆ … ┆ 4486 W O St ┆ 1    ┆ 10003 ┆ false │\n",
       "│ 30942        ┆ TX           ┆ Waco         ┆ 1952-06-05 ┆ … ┆ 8927        ┆ null ┆ 76707 ┆ false │\n",
       "│              ┆              ┆              ┆            ┆   ┆ Vandever    ┆      ┆       ┆       │\n",
       "│              ┆              ┆              ┆            ┆   ┆ Ave         ┆      ┆       ┆       │\n",
       "│ 14829        ┆ TX           ┆ Laredo       ┆ 1976-03-25 ┆ … ┆ 56 E        ┆ null ┆ 78045 ┆ false │\n",
       "│              ┆              ┆              ┆            ┆   ┆ Morehead St ┆      ┆       ┆       │\n",
       "│ 17478        ┆ AR           ┆ Little Rock  ┆ 1963-08-07 ┆ … ┆ 1844        ┆ null ┆ 72202 ┆ false │\n",
       "│              ┆              ┆              ┆            ┆   ┆ Southern    ┆      ┆       ┆       │\n",
       "│              ┆              ┆              ┆            ┆   ┆ Blvd        ┆      ┆       ┆       │\n",
       "└──────────────┴──────────────┴──────────────┴────────────┴───┴─────────────┴──────┴───────┴───────┘"
      ]
     },
     "execution_count": 26,
     "metadata": {},
     "output_type": "execute_result"
    }
   ],
   "source": [
    "account_lf = account_lf.unnest(\"accounts\")\n",
    "account_lf.collect()"
   ]
  },
  {
   "cell_type": "code",
   "execution_count": null,
   "metadata": {},
   "outputs": [
    {
     "data": {
      "text/html": [
       "<div><style>\n",
       ".dataframe > thead > tr,\n",
       ".dataframe > tbody > tr {\n",
       "  text-align: right;\n",
       "  white-space: pre-wrap;\n",
       "}\n",
       "</style>\n",
       "<small>shape: (24, 1)</small><table border=\"1\" class=\"dataframe\"><thead><tr><th>account_number</th></tr><tr><td>i64</td></tr></thead><tbody><tr><td>36717</td></tr><tr><td>14328</td></tr><tr><td>20253</td></tr><tr><td>16068</td></tr><tr><td>31010</td></tr><tr><td>20908</td></tr><tr><td>31815</td></tr><tr><td>19505</td></tr><tr><td>20759</td></tr><tr><td>32489</td></tr><tr><td>26995</td></tr><tr><td>17478</td></tr><tr><td>35934</td></tr><tr><td>32240</td></tr><tr><td>33717</td></tr><tr><td>35903</td></tr><tr><td>37466</td></tr><tr><td>26669</td></tr><tr><td>31092</td></tr><tr><td>29162</td></tr><tr><td>26045</td></tr><tr><td>22965</td></tr><tr><td>38256</td></tr><tr><td>26603</td></tr></tbody></table></div>"
      ],
      "text/plain": [
       "shape: (24, 1)\n",
       "┌────────────────┐\n",
       "│ account_number │\n",
       "│ ---            │\n",
       "│ i64            │\n",
       "╞════════════════╡\n",
       "│ 36717          │\n",
       "│ 14328          │\n",
       "│ 20253          │\n",
       "│ 16068          │\n",
       "│ …              │\n",
       "│ 26045          │\n",
       "│ 22965          │\n",
       "│ 38256          │\n",
       "│ 26603          │\n",
       "└────────────────┘"
      ]
     },
     "execution_count": 27,
     "metadata": {},
     "output_type": "execute_result"
    }
   ],
   "source": [
    "purchase_lf.select(pl.col(\"account_number\")).unique().collect()"
   ]
  },
  {
   "cell_type": "code",
   "execution_count": null,
   "metadata": {},
   "outputs": [
    {
     "data": {
      "text/html": [
       "<div><style>\n",
       ".dataframe > thead > tr,\n",
       ".dataframe > tbody > tr {\n",
       "  text-align: right;\n",
       "  white-space: pre-wrap;\n",
       "}\n",
       "</style>\n",
       "<small>shape: (10, 2)</small><table border=\"1\" class=\"dataframe\"><thead><tr><th>account_number</th><th>sum_purchase_amount</th></tr><tr><td>i64</td><td>f32</td></tr></thead><tbody><tr><td>35903</td><td>1663.709961</td></tr><tr><td>38256</td><td>255.259995</td></tr><tr><td>20908</td><td>172.809998</td></tr><tr><td>33717</td><td>132.139999</td></tr><tr><td>22965</td><td>124.010002</td></tr><tr><td>20759</td><td>106.440002</td></tr><tr><td>37466</td><td>88.120003</td></tr><tr><td>19505</td><td>65.230003</td></tr><tr><td>14328</td><td>59.990002</td></tr><tr><td>17478</td><td>48.18</td></tr></tbody></table></div>"
      ],
      "text/plain": [
       "shape: (10, 2)\n",
       "┌────────────────┬─────────────────────┐\n",
       "│ account_number ┆ sum_purchase_amount │\n",
       "│ ---            ┆ ---                 │\n",
       "│ i64            ┆ f32                 │\n",
       "╞════════════════╪═════════════════════╡\n",
       "│ 35903          ┆ 1663.709961         │\n",
       "│ 38256          ┆ 255.259995          │\n",
       "│ 20908          ┆ 172.809998          │\n",
       "│ 33717          ┆ 132.139999          │\n",
       "│ …              ┆ …                   │\n",
       "│ 37466          ┆ 88.120003           │\n",
       "│ 19505          ┆ 65.230003           │\n",
       "│ 14328          ┆ 59.990002           │\n",
       "│ 17478          ┆ 48.18               │\n",
       "└────────────────┴─────────────────────┘"
      ]
     },
     "execution_count": 28,
     "metadata": {},
     "output_type": "execute_result"
    }
   ],
   "source": [
    "top_purchasing_accounts = (\n",
    "    purchase_lf.group_by(\"account_number\")\n",
    "    .agg(pl.col(\"purchase_amount\").abs().sum().alias(\"sum_purchase_amount\"))\n",
    "    .top_k(10, by=\"sum_purchase_amount\")\n",
    "    .collect()\n",
    ")\n",
    "top_purchasing_accounts"
   ]
  },
  {
   "cell_type": "code",
   "execution_count": null,
   "metadata": {},
   "outputs": [
    {
     "data": {
      "text/plain": [
       "<Axes: xlabel='account_number', ylabel='sum_purchase_amount'>"
      ]
     },
     "execution_count": 29,
     "metadata": {},
     "output_type": "execute_result"
    },
    {
     "data": {
      "image/png": "[encoded data removed]",
      "text/plain": [
       "<Figure size 640x480 with 1 Axes>"
      ]
     },
     "metadata": {},
     "output_type": "display_data"
    }
   ],
   "source": [
    "import seaborn as sns\n",
    "\n",
    "sns.barplot(\n",
    "    top_purchasing_accounts,\n",
    "    x=\"account_number\",\n",
    "    y=\"sum_purchase_amount\",\n",
    "    order=top_purchasing_accounts.get_column(\"account_number\"),\n",
    ")"
   ]
  }
 ],
 "metadata": {
  "kernelspec": {
   "display_name": "Python 3",
   "language": "python",
   "name": "python3"
  },
  "language_info": {
   "codemirror_mode": {
    "name": "ipython",
    "version": 3
   },
   "file_extension": ".py",
   "mimetype": "text/x-python",
   "name": "python",
   "nbconvert_exporter": "python",
   "pygments_lexer": "ipython3",
   "version": "3.12.2"
  }
 },
 "nbformat": 4,
 "nbformat_minor": 2
}
