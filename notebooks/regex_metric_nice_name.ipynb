{
 "cells": [
  {
   "cell_type": "code",
   "execution_count": 139,
   "metadata": {},
   "outputs": [
    {
     "data": {
      "text/html": [
       "<div><style>\n",
       ".dataframe > thead > tr,\n",
       ".dataframe > tbody > tr {\n",
       "  text-align: right;\n",
       "  white-space: pre-wrap;\n",
       "}\n",
       "</style>\n",
       "<small>shape: (6, 3)</small><table border=\"1\" class=\"dataframe\"><thead><tr><th>metric_nice_name</th><th>timestamp</th><th>value</th></tr><tr><td>str</td><td>datetime[μs]</td><td>f64</td></tr></thead><tbody><tr><td>&quot;WaterTank3Volu…</td><td>2024-05-08 22:37:11.659769</td><td>10.0</td></tr><tr><td>&quot;WaterTank3Capa…</td><td>2024-05-08 22:37:11.659771</td><td>100.0</td></tr><tr><td>&quot;OilTank2Level&quot;</td><td>2024-05-08 22:37:11.659771</td><td>20.0</td></tr><tr><td>&quot;OilTank2Volume…</td><td>2024-05-08 22:37:11.659771</td><td>30.0</td></tr><tr><td>&quot;ChemicalTankLe…</td><td>2024-04-29 22:37:11.659771</td><td>40.0</td></tr><tr><td>&quot;ChemicalTankCa…</td><td>2024-04-29 22:37:11.659775</td><td>50.0</td></tr></tbody></table></div>"
      ],
      "text/plain": [
       "shape: (6, 3)\n",
       "┌──────────────────────────┬────────────────────────────┬───────┐\n",
       "│ metric_nice_name         ┆ timestamp                  ┆ value │\n",
       "│ ---                      ┆ ---                        ┆ ---   │\n",
       "│ str                      ┆ datetime[μs]               ┆ f64   │\n",
       "╞══════════════════════════╪════════════════════════════╪═══════╡\n",
       "│ WaterTank3Volume-Current ┆ 2024-05-08 22:37:11.659769 ┆ 10.0  │\n",
       "│ WaterTank3Capacity       ┆ 2024-05-08 22:37:11.659771 ┆ 100.0 │\n",
       "│ OilTank2Level            ┆ 2024-05-08 22:37:11.659771 ┆ 20.0  │\n",
       "│ OilTank2Volume-Current   ┆ 2024-05-08 22:37:11.659771 ┆ 30.0  │\n",
       "│ ChemicalTankLevel        ┆ 2024-04-29 22:37:11.659771 ┆ 40.0  │\n",
       "│ ChemicalTankCapacity     ┆ 2024-04-29 22:37:11.659775 ┆ 50.0  │\n",
       "└──────────────────────────┴────────────────────────────┴───────┘"
      ]
     },
     "execution_count": 139,
     "metadata": {},
     "output_type": "execute_result"
    }
   ],
   "source": [
    "from datetime import datetime, timedelta\n",
    "\n",
    "import polars as pl\n",
    "\n",
    "df = pl.DataFrame(\n",
    "    {\n",
    "        \"metric_nice_name\": [\n",
    "            \"WaterTank3Volume-Current\",\n",
    "            \"WaterTank3Capacity\",\n",
    "            \"OilTank2Level\",\n",
    "            \"OilTank2Volume-Current\",\n",
    "            \"ChemicalTankLevel\",\n",
    "            \"ChemicalTankCapacity\",\n",
    "        ],\n",
    "        \"timestamp\": [\n",
    "            datetime.now(),\n",
    "            datetime.now(),\n",
    "            datetime.now(),\n",
    "            datetime.now(),\n",
    "            datetime.now() - timedelta(days=9),\n",
    "            datetime.now() - timedelta(days=9),\n",
    "        ],\n",
    "        \"value\": [10.0, 100, 20, 30, 40, 50],\n",
    "    }\n",
    ")\n",
    "df"
   ]
  },
  {
   "cell_type": "code",
   "execution_count": 140,
   "metadata": {},
   "outputs": [
    {
     "data": {
      "text/html": [
       "<div><style>\n",
       ".dataframe > thead > tr,\n",
       ".dataframe > tbody > tr {\n",
       "  text-align: right;\n",
       "  white-space: pre-wrap;\n",
       "}\n",
       "</style>\n",
       "<small>shape: (6, 4)</small><table border=\"1\" class=\"dataframe\"><thead><tr><th>metric_nice_name</th><th>timestamp</th><th>value</th><th>tank_capture_groups</th></tr><tr><td>str</td><td>datetime[μs]</td><td>f64</td><td>struct[3]</td></tr></thead><tbody><tr><td>&quot;WaterTank3Volu…</td><td>2024-05-08 22:37:11.659769</td><td>10.0</td><td>{&quot;Water&quot;,&quot;3&quot;,&quot;Volume-Current&quot;}</td></tr><tr><td>&quot;WaterTank3Capa…</td><td>2024-05-08 22:37:11.659771</td><td>100.0</td><td>{&quot;Water&quot;,&quot;3&quot;,&quot;Capacity&quot;}</td></tr><tr><td>&quot;OilTank2Level&quot;</td><td>2024-05-08 22:37:11.659771</td><td>20.0</td><td>{&quot;Oil&quot;,&quot;2&quot;,&quot;Level&quot;}</td></tr><tr><td>&quot;OilTank2Volume…</td><td>2024-05-08 22:37:11.659771</td><td>30.0</td><td>{&quot;Oil&quot;,&quot;2&quot;,&quot;Volume-Current&quot;}</td></tr><tr><td>&quot;ChemicalTankLe…</td><td>2024-04-29 22:37:11.659771</td><td>40.0</td><td>{&quot;Chemical&quot;,&quot;&quot;,&quot;Level&quot;}</td></tr><tr><td>&quot;ChemicalTankCa…</td><td>2024-04-29 22:37:11.659775</td><td>50.0</td><td>{&quot;Chemical&quot;,&quot;&quot;,&quot;Capacity&quot;}</td></tr></tbody></table></div>"
      ],
      "text/plain": [
       "shape: (6, 4)\n",
       "┌──────────────────────────┬────────────────────────────┬───────┬────────────────────────────────┐\n",
       "│ metric_nice_name         ┆ timestamp                  ┆ value ┆ tank_capture_groups            │\n",
       "│ ---                      ┆ ---                        ┆ ---   ┆ ---                            │\n",
       "│ str                      ┆ datetime[μs]               ┆ f64   ┆ struct[3]                      │\n",
       "╞══════════════════════════╪════════════════════════════╪═══════╪════════════════════════════════╡\n",
       "│ WaterTank3Volume-Current ┆ 2024-05-08 22:37:11.659769 ┆ 10.0  ┆ {\"Water\",\"3\",\"Volume-Current\"} │\n",
       "│ WaterTank3Capacity       ┆ 2024-05-08 22:37:11.659771 ┆ 100.0 ┆ {\"Water\",\"3\",\"Capacity\"}       │\n",
       "│ OilTank2Level            ┆ 2024-05-08 22:37:11.659771 ┆ 20.0  ┆ {\"Oil\",\"2\",\"Level\"}            │\n",
       "│ OilTank2Volume-Current   ┆ 2024-05-08 22:37:11.659771 ┆ 30.0  ┆ {\"Oil\",\"2\",\"Volume-Current\"}   │\n",
       "│ ChemicalTankLevel        ┆ 2024-04-29 22:37:11.659771 ┆ 40.0  ┆ {\"Chemical\",\"\",\"Level\"}        │\n",
       "│ ChemicalTankCapacity     ┆ 2024-04-29 22:37:11.659775 ┆ 50.0  ┆ {\"Chemical\",\"\",\"Capacity\"}     │\n",
       "└──────────────────────────┴────────────────────────────┴───────┴────────────────────────────────┘"
      ]
     },
     "execution_count": 140,
     "metadata": {},
     "output_type": "execute_result"
    }
   ],
   "source": [
    "tank_type_col = \"tank_type\"\n",
    "tank_number_col = \"tank_number\"\n",
    "metric_measurement_col = \"metric_measurement\"\n",
    "\n",
    "tank_types = [\"Oil\", \"Water\", \"Chemical\"]\n",
    "metric_measurements = [\"Level\", \"Volume-Current\", \"ID\", \"Capacity\"]\n",
    "metric_measurements_regex = \"|\".join(metric_measurements)\n",
    "tank_types_regex = \"|\".join(tank_types)\n",
    "\n",
    "regexi = f\"(?<{tank_type_col}>{tank_types_regex})Tank(?<{tank_number_col}>[0-9]*)(?<{metric_measurement_col}>{metric_measurements_regex})\"\n",
    "df = df.with_columns(\n",
    "    pl.col(\"metric_nice_name\").str.extract_groups(regexi).alias(\"tank_capture_groups\")\n",
    ")\n",
    "df"
   ]
  },
  {
   "cell_type": "code",
   "execution_count": 141,
   "metadata": {},
   "outputs": [
    {
     "data": {
      "text/html": [
       "<div><style>\n",
       ".dataframe > thead > tr,\n",
       ".dataframe > tbody > tr {\n",
       "  text-align: right;\n",
       "  white-space: pre-wrap;\n",
       "}\n",
       "</style>\n",
       "<small>shape: (6, 6)</small><table border=\"1\" class=\"dataframe\"><thead><tr><th>metric_nice_name</th><th>timestamp</th><th>value</th><th>tank_type</th><th>tank_number</th><th>metric_measurement</th></tr><tr><td>str</td><td>datetime[μs]</td><td>f64</td><td>str</td><td>str</td><td>str</td></tr></thead><tbody><tr><td>&quot;WaterTank3Volu…</td><td>2024-05-08 22:37:11.659769</td><td>10.0</td><td>&quot;Water&quot;</td><td>&quot;3&quot;</td><td>&quot;Volume-Current…</td></tr><tr><td>&quot;WaterTank3Capa…</td><td>2024-05-08 22:37:11.659771</td><td>100.0</td><td>&quot;Water&quot;</td><td>&quot;3&quot;</td><td>&quot;Capacity&quot;</td></tr><tr><td>&quot;OilTank2Level&quot;</td><td>2024-05-08 22:37:11.659771</td><td>20.0</td><td>&quot;Oil&quot;</td><td>&quot;2&quot;</td><td>&quot;Level&quot;</td></tr><tr><td>&quot;OilTank2Volume…</td><td>2024-05-08 22:37:11.659771</td><td>30.0</td><td>&quot;Oil&quot;</td><td>&quot;2&quot;</td><td>&quot;Volume-Current…</td></tr><tr><td>&quot;ChemicalTankLe…</td><td>2024-04-29 22:37:11.659771</td><td>40.0</td><td>&quot;Chemical&quot;</td><td>&quot;&quot;</td><td>&quot;Level&quot;</td></tr><tr><td>&quot;ChemicalTankCa…</td><td>2024-04-29 22:37:11.659775</td><td>50.0</td><td>&quot;Chemical&quot;</td><td>&quot;&quot;</td><td>&quot;Capacity&quot;</td></tr></tbody></table></div>"
      ],
      "text/plain": [
       "shape: (6, 6)\n",
       "┌─────────────────────────┬─────────────────┬───────┬───────────┬─────────────┬────────────────────┐\n",
       "│ metric_nice_name        ┆ timestamp       ┆ value ┆ tank_type ┆ tank_number ┆ metric_measurement │\n",
       "│ ---                     ┆ ---             ┆ ---   ┆ ---       ┆ ---         ┆ ---                │\n",
       "│ str                     ┆ datetime[μs]    ┆ f64   ┆ str       ┆ str         ┆ str                │\n",
       "╞═════════════════════════╪═════════════════╪═══════╪═══════════╪═════════════╪════════════════════╡\n",
       "│ WaterTank3Volume-Curren ┆ 2024-05-08      ┆ 10.0  ┆ Water     ┆ 3           ┆ Volume-Current     │\n",
       "│ t                       ┆ 22:37:11.659769 ┆       ┆           ┆             ┆                    │\n",
       "│ WaterTank3Capacity      ┆ 2024-05-08      ┆ 100.0 ┆ Water     ┆ 3           ┆ Capacity           │\n",
       "│                         ┆ 22:37:11.659771 ┆       ┆           ┆             ┆                    │\n",
       "│ OilTank2Level           ┆ 2024-05-08      ┆ 20.0  ┆ Oil       ┆ 2           ┆ Level              │\n",
       "│                         ┆ 22:37:11.659771 ┆       ┆           ┆             ┆                    │\n",
       "│ OilTank2Volume-Current  ┆ 2024-05-08      ┆ 30.0  ┆ Oil       ┆ 2           ┆ Volume-Current     │\n",
       "│                         ┆ 22:37:11.659771 ┆       ┆           ┆             ┆                    │\n",
       "│ ChemicalTankLevel       ┆ 2024-04-29      ┆ 40.0  ┆ Chemical  ┆             ┆ Level              │\n",
       "│                         ┆ 22:37:11.659771 ┆       ┆           ┆             ┆                    │\n",
       "│ ChemicalTankCapacity    ┆ 2024-04-29      ┆ 50.0  ┆ Chemical  ┆             ┆ Capacity           │\n",
       "│                         ┆ 22:37:11.659775 ┆       ┆           ┆             ┆                    │\n",
       "└─────────────────────────┴─────────────────┴───────┴───────────┴─────────────┴────────────────────┘"
      ]
     },
     "execution_count": 141,
     "metadata": {},
     "output_type": "execute_result"
    }
   ],
   "source": [
    "df = df.unnest(\"tank_capture_groups\")\n",
    "df"
   ]
  },
  {
   "cell_type": "code",
   "execution_count": 142,
   "metadata": {},
   "outputs": [
    {
     "data": {
      "text/html": [
       "<div><style>\n",
       ".dataframe > thead > tr,\n",
       ".dataframe > tbody > tr {\n",
       "  text-align: right;\n",
       "  white-space: pre-wrap;\n",
       "}\n",
       "</style>\n",
       "<small>shape: (6, 6)</small><table border=\"1\" class=\"dataframe\"><thead><tr><th>metric_nice_name</th><th>timestamp</th><th>value</th><th>tank_type</th><th>tank_number</th><th>metric_measurement</th></tr><tr><td>str</td><td>datetime[μs]</td><td>f64</td><td>str</td><td>u8</td><td>str</td></tr></thead><tbody><tr><td>&quot;WaterTank3Volu…</td><td>2024-05-08 22:37:11.659769</td><td>10.0</td><td>&quot;Water&quot;</td><td>3</td><td>&quot;Volume-Current…</td></tr><tr><td>&quot;WaterTank3Capa…</td><td>2024-05-08 22:37:11.659771</td><td>100.0</td><td>&quot;Water&quot;</td><td>3</td><td>&quot;Capacity&quot;</td></tr><tr><td>&quot;OilTank2Level&quot;</td><td>2024-05-08 22:37:11.659771</td><td>20.0</td><td>&quot;Oil&quot;</td><td>2</td><td>&quot;Level&quot;</td></tr><tr><td>&quot;OilTank2Volume…</td><td>2024-05-08 22:37:11.659771</td><td>30.0</td><td>&quot;Oil&quot;</td><td>2</td><td>&quot;Volume-Current…</td></tr><tr><td>&quot;ChemicalTankLe…</td><td>2024-04-29 22:37:11.659771</td><td>40.0</td><td>&quot;Chemical&quot;</td><td>null</td><td>&quot;Level&quot;</td></tr><tr><td>&quot;ChemicalTankCa…</td><td>2024-04-29 22:37:11.659775</td><td>50.0</td><td>&quot;Chemical&quot;</td><td>null</td><td>&quot;Capacity&quot;</td></tr></tbody></table></div>"
      ],
      "text/plain": [
       "shape: (6, 6)\n",
       "┌─────────────────────────┬─────────────────┬───────┬───────────┬─────────────┬────────────────────┐\n",
       "│ metric_nice_name        ┆ timestamp       ┆ value ┆ tank_type ┆ tank_number ┆ metric_measurement │\n",
       "│ ---                     ┆ ---             ┆ ---   ┆ ---       ┆ ---         ┆ ---                │\n",
       "│ str                     ┆ datetime[μs]    ┆ f64   ┆ str       ┆ u8          ┆ str                │\n",
       "╞═════════════════════════╪═════════════════╪═══════╪═══════════╪═════════════╪════════════════════╡\n",
       "│ WaterTank3Volume-Curren ┆ 2024-05-08      ┆ 10.0  ┆ Water     ┆ 3           ┆ Volume-Current     │\n",
       "│ t                       ┆ 22:37:11.659769 ┆       ┆           ┆             ┆                    │\n",
       "│ WaterTank3Capacity      ┆ 2024-05-08      ┆ 100.0 ┆ Water     ┆ 3           ┆ Capacity           │\n",
       "│                         ┆ 22:37:11.659771 ┆       ┆           ┆             ┆                    │\n",
       "│ OilTank2Level           ┆ 2024-05-08      ┆ 20.0  ┆ Oil       ┆ 2           ┆ Level              │\n",
       "│                         ┆ 22:37:11.659771 ┆       ┆           ┆             ┆                    │\n",
       "│ OilTank2Volume-Current  ┆ 2024-05-08      ┆ 30.0  ┆ Oil       ┆ 2           ┆ Volume-Current     │\n",
       "│                         ┆ 22:37:11.659771 ┆       ┆           ┆             ┆                    │\n",
       "│ ChemicalTankLevel       ┆ 2024-04-29      ┆ 40.0  ┆ Chemical  ┆ null        ┆ Level              │\n",
       "│                         ┆ 22:37:11.659771 ┆       ┆           ┆             ┆                    │\n",
       "│ ChemicalTankCapacity    ┆ 2024-04-29      ┆ 50.0  ┆ Chemical  ┆ null        ┆ Capacity           │\n",
       "│                         ┆ 22:37:11.659775 ┆       ┆           ┆             ┆                    │\n",
       "└─────────────────────────┴─────────────────┴───────┴───────────┴─────────────┴────────────────────┘"
      ]
     },
     "execution_count": 142,
     "metadata": {},
     "output_type": "execute_result"
    }
   ],
   "source": [
    "df = df.with_columns(pl.col(tank_number_col).cast(pl.UInt8, strict=False))\n",
    "df"
   ]
  },
  {
   "cell_type": "code",
   "execution_count": 143,
   "metadata": {},
   "outputs": [
    {
     "data": {
      "text/html": [
       "<div><style>\n",
       ".dataframe > thead > tr,\n",
       ".dataframe > tbody > tr {\n",
       "  text-align: right;\n",
       "  white-space: pre-wrap;\n",
       "}\n",
       "</style>\n",
       "<small>shape: (5, 6)</small><table border=\"1\" class=\"dataframe\"><thead><tr><th>metric_nice_name</th><th>timestamp</th><th>value</th><th>tank_type</th><th>tank_number</th><th>metric_measurement</th></tr><tr><td>str</td><td>datetime[μs]</td><td>f64</td><td>str</td><td>u8</td><td>str</td></tr></thead><tbody><tr><td>&quot;WaterTank3Volu…</td><td>2024-05-08 22:37:11.659769</td><td>10.0</td><td>&quot;Water&quot;</td><td>3</td><td>&quot;Volume-Current…</td></tr><tr><td>&quot;WaterTank3Capa…</td><td>2024-05-08 22:37:11.659771</td><td>100.0</td><td>&quot;Water&quot;</td><td>3</td><td>&quot;Capacity&quot;</td></tr><tr><td>&quot;OilTank2Level&quot;</td><td>2024-05-08 22:37:11.659771</td><td>20.0</td><td>&quot;Oil&quot;</td><td>2</td><td>&quot;Level&quot;</td></tr><tr><td>&quot;OilTank2Volume…</td><td>2024-05-08 22:37:11.659771</td><td>30.0</td><td>&quot;Oil&quot;</td><td>2</td><td>&quot;Volume-Current…</td></tr><tr><td>&quot;ChemicalTankCa…</td><td>2024-04-29 22:37:11.659775</td><td>50.0</td><td>&quot;Chemical&quot;</td><td>null</td><td>&quot;Capacity&quot;</td></tr></tbody></table></div>"
      ],
      "text/plain": [
       "shape: (5, 6)\n",
       "┌─────────────────────────┬─────────────────┬───────┬───────────┬─────────────┬────────────────────┐\n",
       "│ metric_nice_name        ┆ timestamp       ┆ value ┆ tank_type ┆ tank_number ┆ metric_measurement │\n",
       "│ ---                     ┆ ---             ┆ ---   ┆ ---       ┆ ---         ┆ ---                │\n",
       "│ str                     ┆ datetime[μs]    ┆ f64   ┆ str       ┆ u8          ┆ str                │\n",
       "╞═════════════════════════╪═════════════════╪═══════╪═══════════╪═════════════╪════════════════════╡\n",
       "│ WaterTank3Volume-Curren ┆ 2024-05-08      ┆ 10.0  ┆ Water     ┆ 3           ┆ Volume-Current     │\n",
       "│ t                       ┆ 22:37:11.659769 ┆       ┆           ┆             ┆                    │\n",
       "│ WaterTank3Capacity      ┆ 2024-05-08      ┆ 100.0 ┆ Water     ┆ 3           ┆ Capacity           │\n",
       "│                         ┆ 22:37:11.659771 ┆       ┆           ┆             ┆                    │\n",
       "│ OilTank2Level           ┆ 2024-05-08      ┆ 20.0  ┆ Oil       ┆ 2           ┆ Level              │\n",
       "│                         ┆ 22:37:11.659771 ┆       ┆           ┆             ┆                    │\n",
       "│ OilTank2Volume-Current  ┆ 2024-05-08      ┆ 30.0  ┆ Oil       ┆ 2           ┆ Volume-Current     │\n",
       "│                         ┆ 22:37:11.659771 ┆       ┆           ┆             ┆                    │\n",
       "│ ChemicalTankCapacity    ┆ 2024-04-29      ┆ 50.0  ┆ Chemical  ┆ null        ┆ Capacity           │\n",
       "│                         ┆ 22:37:11.659775 ┆       ┆           ┆             ┆                    │\n",
       "└─────────────────────────┴─────────────────┴───────┴───────────┴─────────────┴────────────────────┘"
      ]
     },
     "execution_count": 143,
     "metadata": {},
     "output_type": "execute_result"
    }
   ],
   "source": [
    "rt_metrics = [\"Level\", \"Volume-Current\"]\n",
    "\n",
    "cutoff_datetime = datetime.now() - timedelta(days=7)\n",
    "df = df.filter(\n",
    "    pl.col(metric_measurement_col).is_in(rt_metrics).not_()\n",
    "    | pl.col(\"timestamp\").gt(cutoff_datetime)\n",
    ")\n",
    "df"
   ]
  },
  {
   "cell_type": "code",
   "execution_count": 144,
   "metadata": {},
   "outputs": [
    {
     "data": {
      "text/html": [
       "<div><style>\n",
       ".dataframe > thead > tr,\n",
       ".dataframe > tbody > tr {\n",
       "  text-align: right;\n",
       "  white-space: pre-wrap;\n",
       "}\n",
       "</style>\n",
       "<small>shape: (3, 7)</small><table border=\"1\" class=\"dataframe\"><thead><tr><th>tank_type</th><th>tank_number</th><th>Level</th><th>Volume-Current</th><th>ID</th><th>Capacity</th><th>timestamp</th></tr><tr><td>str</td><td>u8</td><td>f64</td><td>f64</td><td>f64</td><td>f64</td><td>datetime[μs]</td></tr></thead><tbody><tr><td>&quot;Water&quot;</td><td>3</td><td>null</td><td>10.0</td><td>null</td><td>100.0</td><td>2024-05-08 22:37:11.659769</td></tr><tr><td>&quot;Oil&quot;</td><td>2</td><td>20.0</td><td>30.0</td><td>null</td><td>null</td><td>2024-05-08 22:37:11.659771</td></tr><tr><td>&quot;Chemical&quot;</td><td>null</td><td>null</td><td>null</td><td>null</td><td>50.0</td><td>null</td></tr></tbody></table></div>"
      ],
      "text/plain": [
       "shape: (3, 7)\n",
       "┌───────────┬─────────────┬───────┬────────────────┬──────┬──────────┬────────────────────────────┐\n",
       "│ tank_type ┆ tank_number ┆ Level ┆ Volume-Current ┆ ID   ┆ Capacity ┆ timestamp                  │\n",
       "│ ---       ┆ ---         ┆ ---   ┆ ---            ┆ ---  ┆ ---      ┆ ---                        │\n",
       "│ str       ┆ u8          ┆ f64   ┆ f64            ┆ f64  ┆ f64      ┆ datetime[μs]               │\n",
       "╞═══════════╪═════════════╪═══════╪════════════════╪══════╪══════════╪════════════════════════════╡\n",
       "│ Water     ┆ 3           ┆ null  ┆ 10.0           ┆ null ┆ 100.0    ┆ 2024-05-08 22:37:11.659769 │\n",
       "│ Oil       ┆ 2           ┆ 20.0  ┆ 30.0           ┆ null ┆ null     ┆ 2024-05-08 22:37:11.659771 │\n",
       "│ Chemical  ┆ null        ┆ null  ┆ null           ┆ null ┆ 50.0     ┆ null                       │\n",
       "└───────────┴─────────────┴───────┴────────────────┴──────┴──────────┴────────────────────────────┘"
      ]
     },
     "execution_count": 144,
     "metadata": {},
     "output_type": "execute_result"
    }
   ],
   "source": [
    "tank_aggs = [\n",
    "    pl.col(\"value\")\n",
    "    .filter(pl.col(metric_measurement_col) == metric)\n",
    "    .first()\n",
    "    .alias(metric)\n",
    "    for metric in metric_measurements\n",
    "]\n",
    "tank_aggs.append(\n",
    "    pl.col(\"timestamp\").filter(pl.col(metric_measurement_col).is_in(rt_metrics)).first()\n",
    ")\n",
    "df = df.group_by([tank_type_col, tank_number_col]).agg(tank_aggs)\n",
    "df"
   ]
  }
 ],
 "metadata": {
  "kernelspec": {
   "display_name": "sandbox-iEFdomZc-py3.12",
   "language": "python",
   "name": "python3"
  },
  "language_info": {
   "codemirror_mode": {
    "name": "ipython",
    "version": 3
   },
   "file_extension": ".py",
   "mimetype": "text/x-python",
   "name": "python",
   "nbconvert_exporter": "python",
   "pygments_lexer": "ipython3",
   "version": "3.12.3"
  }
 },
 "nbformat": 4,
 "nbformat_minor": 2
}
