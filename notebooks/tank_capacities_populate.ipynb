{
 "cells": [
  {
   "cell_type": "code",
   "execution_count": 21,
   "metadata": {},
   "outputs": [
    {
     "data": {
      "text/html": [
       "<div><style>\n",
       ".dataframe > thead > tr,\n",
       ".dataframe > tbody > tr {\n",
       "  text-align: right;\n",
       "  white-space: pre-wrap;\n",
       "}\n",
       "</style>\n",
       "<small>shape: (21, 2)</small><table border=\"1\" class=\"dataframe\"><thead><tr><th>source_key</th><th>division_id</th></tr><tr><td>str</td><td>i64</td></tr></thead><tbody><tr><td>&quot;6941901&quot;</td><td>5</td></tr><tr><td>&quot;6941902&quot;</td><td>5</td></tr><tr><td>&quot;6941903&quot;</td><td>5</td></tr><tr><td>&quot;6941903&quot;</td><td>5</td></tr><tr><td>&quot;69419W1&quot;</td><td>5</td></tr><tr><td>&hellip;</td><td>&hellip;</td></tr><tr><td>&quot;98750W2&quot;</td><td>12</td></tr><tr><td>&quot;110009W2&quot;</td><td>26</td></tr><tr><td>&quot;9875001&quot;</td><td>12</td></tr><tr><td>&quot;9875002&quot;</td><td>12</td></tr><tr><td>&quot;9875003&quot;</td><td>12</td></tr></tbody></table></div>"
      ],
      "text/plain": [
       "shape: (21, 2)\n",
       "┌────────────┬─────────────┐\n",
       "│ source_key ┆ division_id │\n",
       "│ ---        ┆ ---         │\n",
       "│ str        ┆ i64         │\n",
       "╞════════════╪═════════════╡\n",
       "│ 6941901    ┆ 5           │\n",
       "│ 6941902    ┆ 5           │\n",
       "│ 6941903    ┆ 5           │\n",
       "│ 6941903    ┆ 5           │\n",
       "│ 69419W1    ┆ 5           │\n",
       "│ …          ┆ …           │\n",
       "│ 98750W2    ┆ 12          │\n",
       "│ 110009W2   ┆ 26          │\n",
       "│ 9875001    ┆ 12          │\n",
       "│ 9875002    ┆ 12          │\n",
       "│ 9875003    ┆ 12          │\n",
       "└────────────┴─────────────┘"
      ]
     },
     "execution_count": 21,
     "metadata": {},
     "output_type": "execute_result"
    }
   ],
   "source": [
    "from api.db import DB\n",
    "\n",
    "GET_SCADAS = \"\"\"--sql\n",
    "WITH\n",
    "    capacity_scadas AS (\n",
    "        SELECT DISTINCT\n",
    "            source_key\n",
    "        FROM sdm_dba.data_catalog\n",
    "        WHERE\n",
    "            metric_nice_name ~ 'Tank[0-9]+Capacity'\n",
    "    )\n",
    "SELECT source_key, division_id\n",
    "FROM sdm_dba.data_catalog\n",
    "WHERE\n",
    "    metric_nice_name ~ 'Tank[0-9]+Level'\n",
    "    AND source_key NOT IN(\n",
    "        SELECT source_key\n",
    "        FROM capacity_scadas\n",
    "    );\n",
    "\"\"\"\n",
    "\n",
    "res = await DB.fetch(GET_SCADAS)\n",
    "if res is None:\n",
    "    raise ValueError(\"No SCADAs found\")\n",
    "df = res\n",
    "df"
   ]
  },
  {
   "cell_type": "code",
   "execution_count": 22,
   "metadata": {},
   "outputs": [
    {
     "data": {
      "text/plain": [
       "21"
      ]
     },
     "execution_count": 22,
     "metadata": {},
     "output_type": "execute_result"
    }
   ],
   "source": [
    "row_count = df.height\n",
    "row_count"
   ]
  },
  {
   "cell_type": "code",
   "execution_count": 23,
   "metadata": {},
   "outputs": [
    {
     "data": {
      "text/html": [
       "<div><style>\n",
       ".dataframe > thead > tr,\n",
       ".dataframe > tbody > tr {\n",
       "  text-align: right;\n",
       "  white-space: pre-wrap;\n",
       "}\n",
       "</style>\n",
       "<small>shape: (21,)</small><table border=\"1\" class=\"dataframe\"><thead><tr><th>tanksize</th></tr><tr><td>f64</td></tr></thead><tbody><tr><td>694.857471</td></tr><tr><td>789.174369</td></tr><tr><td>467.055232</td></tr><tr><td>470.865867</td></tr><tr><td>574.152953</td></tr><tr><td>&hellip;</td></tr><tr><td>753.741052</td></tr><tr><td>778.986218</td></tr><tr><td>414.215531</td></tr><tr><td>915.221376</td></tr><tr><td>444.464422</td></tr></tbody></table></div>"
      ],
      "text/plain": [
       "shape: (21,)\n",
       "Series: 'tanksize' [f64]\n",
       "[\n",
       "\t694.857471\n",
       "\t789.174369\n",
       "\t467.055232\n",
       "\t470.865867\n",
       "\t574.152953\n",
       "\t…\n",
       "\t753.741052\n",
       "\t778.986218\n",
       "\t414.215531\n",
       "\t915.221376\n",
       "\t444.464422\n",
       "]"
      ]
     },
     "execution_count": 23,
     "metadata": {},
     "output_type": "execute_result"
    }
   ],
   "source": [
    "import random\n",
    "\n",
    "import polars as pl\n",
    "\n",
    "pl.Config.set_tbl_rows(50)\n",
    "\n",
    "lower_range = 400\n",
    "upper_range = 1000\n",
    "random_tank_sizes = map(\n",
    "    lambda _: random.uniform(lower_range, upper_range), range(row_count)\n",
    ")\n",
    "random_tank_sizes = pl.Series(\n",
    "    name=\"tanksize\", values=random_tank_sizes, dtype=pl.Float64\n",
    ")\n",
    "random_tank_sizes"
   ]
  },
  {
   "cell_type": "code",
   "execution_count": 24,
   "metadata": {},
   "outputs": [
    {
     "data": {
      "text/html": [
       "<div><style>\n",
       ".dataframe > thead > tr,\n",
       ".dataframe > tbody > tr {\n",
       "  text-align: right;\n",
       "  white-space: pre-wrap;\n",
       "}\n",
       "</style>\n",
       "<small>shape: (21, 3)</small><table border=\"1\" class=\"dataframe\"><thead><tr><th>source_key</th><th>division_id</th><th>tanksize</th></tr><tr><td>str</td><td>i64</td><td>f64</td></tr></thead><tbody><tr><td>&quot;6941901&quot;</td><td>5</td><td>694.857471</td></tr><tr><td>&quot;6941902&quot;</td><td>5</td><td>789.174369</td></tr><tr><td>&quot;6941903&quot;</td><td>5</td><td>467.055232</td></tr><tr><td>&quot;6941903&quot;</td><td>5</td><td>470.865867</td></tr><tr><td>&quot;69419W1&quot;</td><td>5</td><td>574.152953</td></tr><tr><td>&hellip;</td><td>&hellip;</td><td>&hellip;</td></tr><tr><td>&quot;98750W2&quot;</td><td>12</td><td>753.741052</td></tr><tr><td>&quot;110009W2&quot;</td><td>26</td><td>778.986218</td></tr><tr><td>&quot;9875001&quot;</td><td>12</td><td>414.215531</td></tr><tr><td>&quot;9875002&quot;</td><td>12</td><td>915.221376</td></tr><tr><td>&quot;9875003&quot;</td><td>12</td><td>444.464422</td></tr></tbody></table></div>"
      ],
      "text/plain": [
       "shape: (21, 3)\n",
       "┌────────────┬─────────────┬────────────┐\n",
       "│ source_key ┆ division_id ┆ tanksize   │\n",
       "│ ---        ┆ ---         ┆ ---        │\n",
       "│ str        ┆ i64         ┆ f64        │\n",
       "╞════════════╪═════════════╪════════════╡\n",
       "│ 6941901    ┆ 5           ┆ 694.857471 │\n",
       "│ 6941902    ┆ 5           ┆ 789.174369 │\n",
       "│ 6941903    ┆ 5           ┆ 467.055232 │\n",
       "│ 6941903    ┆ 5           ┆ 470.865867 │\n",
       "│ 69419W1    ┆ 5           ┆ 574.152953 │\n",
       "│ …          ┆ …           ┆ …          │\n",
       "│ 98750W2    ┆ 12          ┆ 753.741052 │\n",
       "│ 110009W2   ┆ 26          ┆ 778.986218 │\n",
       "│ 9875001    ┆ 12          ┆ 414.215531 │\n",
       "│ 9875002    ┆ 12          ┆ 915.221376 │\n",
       "│ 9875003    ┆ 12          ┆ 444.464422 │\n",
       "└────────────┴─────────────┴────────────┘"
      ]
     },
     "execution_count": 24,
     "metadata": {},
     "output_type": "execute_result"
    }
   ],
   "source": [
    "df = df.with_columns(random_tank_sizes)\n",
    "df"
   ]
  },
  {
   "cell_type": "code",
   "execution_count": 25,
   "metadata": {},
   "outputs": [
    {
     "data": {
      "text/html": [
       "<div><style>\n",
       ".dataframe > thead > tr,\n",
       ".dataframe > tbody > tr {\n",
       "  text-align: right;\n",
       "  white-space: pre-wrap;\n",
       "}\n",
       "</style>\n",
       "<small>shape: (21, 3)</small><table border=\"1\" class=\"dataframe\"><thead><tr><th>scadaid</th><th>division_id</th><th>tanksize</th></tr><tr><td>str</td><td>i64</td><td>f64</td></tr></thead><tbody><tr><td>&quot;6941901&quot;</td><td>5</td><td>694.857471</td></tr><tr><td>&quot;6941902&quot;</td><td>5</td><td>789.174369</td></tr><tr><td>&quot;6941903&quot;</td><td>5</td><td>467.055232</td></tr><tr><td>&quot;6941903&quot;</td><td>5</td><td>470.865867</td></tr><tr><td>&quot;69419W1&quot;</td><td>5</td><td>574.152953</td></tr><tr><td>&hellip;</td><td>&hellip;</td><td>&hellip;</td></tr><tr><td>&quot;98750W2&quot;</td><td>12</td><td>753.741052</td></tr><tr><td>&quot;110009W2&quot;</td><td>26</td><td>778.986218</td></tr><tr><td>&quot;9875001&quot;</td><td>12</td><td>414.215531</td></tr><tr><td>&quot;9875002&quot;</td><td>12</td><td>915.221376</td></tr><tr><td>&quot;9875003&quot;</td><td>12</td><td>444.464422</td></tr></tbody></table></div>"
      ],
      "text/plain": [
       "shape: (21, 3)\n",
       "┌──────────┬─────────────┬────────────┐\n",
       "│ scadaid  ┆ division_id ┆ tanksize   │\n",
       "│ ---      ┆ ---         ┆ ---        │\n",
       "│ str      ┆ i64         ┆ f64        │\n",
       "╞══════════╪═════════════╪════════════╡\n",
       "│ 6941901  ┆ 5           ┆ 694.857471 │\n",
       "│ 6941902  ┆ 5           ┆ 789.174369 │\n",
       "│ 6941903  ┆ 5           ┆ 467.055232 │\n",
       "│ 6941903  ┆ 5           ┆ 470.865867 │\n",
       "│ 69419W1  ┆ 5           ┆ 574.152953 │\n",
       "│ …        ┆ …           ┆ …          │\n",
       "│ 98750W2  ┆ 12          ┆ 753.741052 │\n",
       "│ 110009W2 ┆ 26          ┆ 778.986218 │\n",
       "│ 9875001  ┆ 12          ┆ 414.215531 │\n",
       "│ 9875002  ┆ 12          ┆ 915.221376 │\n",
       "│ 9875003  ┆ 12          ┆ 444.464422 │\n",
       "└──────────┴─────────────┴────────────┘"
      ]
     },
     "execution_count": 25,
     "metadata": {},
     "output_type": "execute_result"
    }
   ],
   "source": [
    "df = df.rename({\"source_key\": \"scadaid\"})\n",
    "df"
   ]
  },
  {
   "cell_type": "code",
   "execution_count": 26,
   "metadata": {},
   "outputs": [
    {
     "data": {
      "text/html": [
       "<div><style>\n",
       ".dataframe > thead > tr,\n",
       ".dataframe > tbody > tr {\n",
       "  text-align: right;\n",
       "  white-space: pre-wrap;\n",
       "}\n",
       "</style>\n",
       "<small>shape: (20, 2)</small><table border=\"1\" class=\"dataframe\"><thead><tr><th>scadaid</th><th>division_id</th></tr><tr><td>str</td><td>i64</td></tr></thead><tbody><tr><td>&quot;6941901&quot;</td><td>5</td></tr><tr><td>&quot;6941902&quot;</td><td>5</td></tr><tr><td>&quot;6941903&quot;</td><td>5</td></tr><tr><td>&quot;69419W1&quot;</td><td>5</td></tr><tr><td>&quot;69419W2&quot;</td><td>5</td></tr><tr><td>&hellip;</td><td>&hellip;</td></tr><tr><td>&quot;98750W2&quot;</td><td>12</td></tr><tr><td>&quot;110009W2&quot;</td><td>26</td></tr><tr><td>&quot;9875001&quot;</td><td>12</td></tr><tr><td>&quot;9875002&quot;</td><td>12</td></tr><tr><td>&quot;9875003&quot;</td><td>12</td></tr></tbody></table></div>"
      ],
      "text/plain": [
       "shape: (20, 2)\n",
       "┌──────────┬─────────────┐\n",
       "│ scadaid  ┆ division_id │\n",
       "│ ---      ┆ ---         │\n",
       "│ str      ┆ i64         │\n",
       "╞══════════╪═════════════╡\n",
       "│ 6941901  ┆ 5           │\n",
       "│ 6941902  ┆ 5           │\n",
       "│ 6941903  ┆ 5           │\n",
       "│ 69419W1  ┆ 5           │\n",
       "│ 69419W2  ┆ 5           │\n",
       "│ …        ┆ …           │\n",
       "│ 98750W2  ┆ 12          │\n",
       "│ 110009W2 ┆ 26          │\n",
       "│ 9875001  ┆ 12          │\n",
       "│ 9875002  ┆ 12          │\n",
       "│ 9875003  ┆ 12          │\n",
       "└──────────┴─────────────┘"
      ]
     },
     "execution_count": 26,
     "metadata": {},
     "output_type": "execute_result"
    }
   ],
   "source": [
    "res = await DB.insert(df, \"tank.tank_metadata\", return_cols={\"scadaid\", \"division_id\"})\n",
    "res"
   ]
  }
 ],
 "metadata": {
  "kernelspec": {
   "display_name": "sandbox-iEFdomZc-py3.12",
   "language": "python",
   "name": "python3"
  },
  "language_info": {
   "codemirror_mode": {
    "name": "ipython",
    "version": 3
   },
   "file_extension": ".py",
   "mimetype": "text/x-python",
   "name": "python",
   "nbconvert_exporter": "python",
   "pygments_lexer": "ipython3",
   "version": "3.12.3"
  }
 },
 "nbformat": 4,
 "nbformat_minor": 2
}
