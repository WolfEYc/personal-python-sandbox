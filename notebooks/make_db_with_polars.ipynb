{
 "cells": [
  {
   "cell_type": "code",
   "execution_count": null,
   "metadata": {},
   "outputs": [],
   "source": [
    "import os\n",
    "\n",
    "from dotenv import load_dotenv\n",
    "\n",
    "load_dotenv()\n",
    "\n",
    "DB_URL = os.environ[\"DATABASE_URL\"]\n",
    "DB_URL"
   ]
  },
  {
   "cell_type": "code",
   "execution_count": null,
   "metadata": {},
   "outputs": [],
   "source": [
    "import polars as pl\n",
    "\n",
    "pl.Config.set_fmt_str_lengths(50)\n",
    "\n",
    "show_tables_sql = \"\"\"\n",
    "    SELECT *\n",
    "    FROM pg_catalog.pg_tables\n",
    "    WHERE schemaname != 'pg_catalog' AND \n",
    "        schemaname != 'information_schema'\n",
    "    \"\"\"\n",
    "\n",
    "pl.read_database_uri(query=show_tables_sql, uri=DB_URL, engine=\"adbc\")"
   ]
  },
  {
   "cell_type": "code",
   "execution_count": null,
   "metadata": {},
   "outputs": [],
   "source": [
    "from contextlib import asynccontextmanager\n",
    "\n",
    "import asyncpg\n",
    "\n",
    "\n",
    "async def create_pool() -> asyncpg.Pool:\n",
    "    pool = await asyncpg.create_pool(DB_URL)\n",
    "    if pool is None:\n",
    "        raise ValueError(\"Could not create connection pool\")\n",
    "    return pool\n",
    "\n",
    "\n",
    "pgpool = await create_pool()\n",
    "\n",
    "\n",
    "@asynccontextmanager\n",
    "async def lifespan():\n",
    "    yield\n",
    "    await pgpool.close()"
   ]
  },
  {
   "cell_type": "code",
   "execution_count": null,
   "metadata": {},
   "outputs": [],
   "source": [
    "items = pl.read_csv(\"../db/csvs/item.csv\").rows()\n",
    "\n",
    "await pgpool.copy_records_to_table(\"item\", records=items)"
   ]
  },
  {
   "cell_type": "code",
   "execution_count": null,
   "metadata": {},
   "outputs": [],
   "source": [
    "client = pl.read_csv(\"../db/csvs/client.csv\").with_columns(pl.col(\"dob\").cast(pl.Date))\n",
    "client"
   ]
  },
  {
   "cell_type": "code",
   "execution_count": null,
   "metadata": {},
   "outputs": [],
   "source": [
    "await pgpool.copy_records_to_table(\"client\", records=client.rows())"
   ]
  },
  {
   "cell_type": "code",
   "execution_count": null,
   "metadata": {},
   "outputs": [],
   "source": [
    "list = pl.read_csv(\"../db/csvs/list.csv\").rows()\n",
    "\n",
    "await pgpool.copy_records_to_table(\"list\", records=list)"
   ]
  },
  {
   "cell_type": "code",
   "execution_count": null,
   "metadata": {},
   "outputs": [],
   "source": [
    "item_in_list = pl.read_csv(\"../db/csvs/item_in_list.csv\").rows()\n",
    "\n",
    "await pgpool.copy_records_to_table(\"item_in_list\", records=item_in_list)"
   ]
  },
  {
   "cell_type": "code",
   "execution_count": null,
   "metadata": {},
   "outputs": [],
   "source": [
    "pl.read_database_uri(\n",
    "    query=\"SELECT * FROM item\",\n",
    "    uri=DB_URL,\n",
    "    engine=\"adbc\",\n",
    "    schema_overrides={\"price\": pl.Decimal(precision=10, scale=2)},\n",
    ")"
   ]
  },
  {
   "cell_type": "code",
   "execution_count": null,
   "metadata": {},
   "outputs": [],
   "source": [
    "query = \"\"\"\n",
    "SELECT AVG(li.quantity * i.price) AS total_price \n",
    "FROM item_in_list li \n",
    "JOIN item i ON li.item_id = i.id \n",
    "GROUP BY li.list_id\n",
    "\"\"\"\n",
    "\n",
    "pl.read_database_uri(\n",
    "    query=query,\n",
    "    uri=DB_URL,\n",
    "    engine=\"adbc\",\n",
    "    schema_overrides={\"total_price\": pl.Decimal(precision=10, scale=2)},\n",
    ")"
   ]
  },
  {
   "cell_type": "code",
   "execution_count": null,
   "metadata": {},
   "outputs": [],
   "source": [
    "import polars as pl\n",
    "\n",
    "pl.Config.set_fmt_str_lengths(50)\n",
    "\n",
    "show_tables_sql = \"\"\"\n",
    "    SELECT *\n",
    "    FROM pg_catalog.pg_tables\n",
    "    WHERE schemaname != 'pg_catalog' AND \n",
    "        schemaname != 'information_schema'\n",
    "    \"\"\"\n",
    "\n",
    "pl.read_database_uri(query=show_tables_sql, uri=DB_URL, engine=\"adbc\")"
   ]
  },
  {
   "cell_type": "code",
   "execution_count": 9,
   "metadata": {},
   "outputs": [
    {
     "ename": "UniqueViolationError",
     "evalue": "duplicate key value violates unique constraint \"item_pkey\"\nDETAIL:  Key (id)=(1965488) already exists.",
     "output_type": "error",
     "traceback": [
      "\u001b[0;31m---------------------------------------------------------------------------\u001b[0m",
      "\u001b[0;31mUniqueViolationError\u001b[0m                      Traceback (most recent call last)",
      "Cell \u001b[0;32mIn[9], line 3\u001b[0m\n\u001b[1;32m      1\u001b[0m items \u001b[38;5;241m=\u001b[39m pl\u001b[38;5;241m.\u001b[39mread_csv(\u001b[38;5;124m\"\u001b[39m\u001b[38;5;124m../db/csvs/item.csv\u001b[39m\u001b[38;5;124m\"\u001b[39m)\u001b[38;5;241m.\u001b[39mrows()\n\u001b[0;32m----> 3\u001b[0m \u001b[38;5;28;01mawait\u001b[39;00m pgpool\u001b[38;5;241m.\u001b[39mcopy_records_to_table(\u001b[38;5;124m\"\u001b[39m\u001b[38;5;124mitem\u001b[39m\u001b[38;5;124m\"\u001b[39m, records\u001b[38;5;241m=\u001b[39mitems)\n",
      "File \u001b[0;32m~/.cache/pypoetry/virtualenvs/sandbox-3A4Qvb5F-py3.12/lib/python3.12/site-packages/asyncpg/pool.py:768\u001b[0m, in \u001b[0;36mPool.copy_records_to_table\u001b[0;34m(self, table_name, records, columns, schema_name, timeout, where)\u001b[0m\n\u001b[1;32m    758\u001b[0m \u001b[38;5;250m\u001b[39m\u001b[38;5;124;03m\"\"\"Copy a list of records to the specified table using binary COPY.\u001b[39;00m\n\u001b[1;32m    759\u001b[0m \n\u001b[1;32m    760\u001b[0m \u001b[38;5;124;03mPool performs this operation using one of its connections.  Other than\u001b[39;00m\n\u001b[0;32m   (...)\u001b[0m\n\u001b[1;32m    765\u001b[0m \u001b[38;5;124;03m.. versionadded:: 0.24.0\u001b[39;00m\n\u001b[1;32m    766\u001b[0m \u001b[38;5;124;03m\"\"\"\u001b[39;00m\n\u001b[1;32m    767\u001b[0m \u001b[38;5;28;01masync\u001b[39;00m \u001b[38;5;28;01mwith\u001b[39;00m \u001b[38;5;28mself\u001b[39m\u001b[38;5;241m.\u001b[39macquire() \u001b[38;5;28;01mas\u001b[39;00m con:\n\u001b[0;32m--> 768\u001b[0m     \u001b[38;5;28;01mreturn\u001b[39;00m \u001b[38;5;28;01mawait\u001b[39;00m con\u001b[38;5;241m.\u001b[39mcopy_records_to_table(\n\u001b[1;32m    769\u001b[0m         table_name,\n\u001b[1;32m    770\u001b[0m         records\u001b[38;5;241m=\u001b[39mrecords,\n\u001b[1;32m    771\u001b[0m         columns\u001b[38;5;241m=\u001b[39mcolumns,\n\u001b[1;32m    772\u001b[0m         schema_name\u001b[38;5;241m=\u001b[39mschema_name,\n\u001b[1;32m    773\u001b[0m         timeout\u001b[38;5;241m=\u001b[39mtimeout,\n\u001b[1;32m    774\u001b[0m         where\u001b[38;5;241m=\u001b[39mwhere\n\u001b[1;32m    775\u001b[0m     )\n",
      "File \u001b[0;32m~/.cache/pypoetry/virtualenvs/sandbox-3A4Qvb5F-py3.12/lib/python3.12/site-packages/asyncpg/connection.py:1081\u001b[0m, in \u001b[0;36mConnection.copy_records_to_table\u001b[0;34m(self, table_name, records, columns, schema_name, timeout, where)\u001b[0m\n\u001b[1;32m   1076\u001b[0m opts \u001b[38;5;241m=\u001b[39m \u001b[38;5;124m'\u001b[39m\u001b[38;5;124m(FORMAT binary)\u001b[39m\u001b[38;5;124m'\u001b[39m\n\u001b[1;32m   1078\u001b[0m copy_stmt \u001b[38;5;241m=\u001b[39m \u001b[38;5;124m'\u001b[39m\u001b[38;5;124mCOPY \u001b[39m\u001b[38;5;132;01m{tab}\u001b[39;00m\u001b[38;5;132;01m{cols}\u001b[39;00m\u001b[38;5;124m FROM STDIN \u001b[39m\u001b[38;5;132;01m{opts}\u001b[39;00m\u001b[38;5;124m \u001b[39m\u001b[38;5;132;01m{cond}\u001b[39;00m\u001b[38;5;124m'\u001b[39m\u001b[38;5;241m.\u001b[39mformat(\n\u001b[1;32m   1079\u001b[0m     tab\u001b[38;5;241m=\u001b[39mtabname, cols\u001b[38;5;241m=\u001b[39mcols, opts\u001b[38;5;241m=\u001b[39mopts, cond\u001b[38;5;241m=\u001b[39mcond)\n\u001b[0;32m-> 1081\u001b[0m \u001b[38;5;28;01mreturn\u001b[39;00m \u001b[38;5;28;01mawait\u001b[39;00m \u001b[38;5;28mself\u001b[39m\u001b[38;5;241m.\u001b[39m_protocol\u001b[38;5;241m.\u001b[39mcopy_in(\n\u001b[1;32m   1082\u001b[0m     copy_stmt, \u001b[38;5;28;01mNone\u001b[39;00m, \u001b[38;5;28;01mNone\u001b[39;00m, records, intro_ps\u001b[38;5;241m.\u001b[39m_state, timeout)\n",
      "File \u001b[0;32m~/.cache/pypoetry/virtualenvs/sandbox-3A4Qvb5F-py3.12/lib/python3.12/site-packages/asyncpg/protocol/protocol.pyx:565\u001b[0m, in \u001b[0;36mcopy_in\u001b[0;34m()\u001b[0m\n",
      "\u001b[0;31mUniqueViolationError\u001b[0m: duplicate key value violates unique constraint \"item_pkey\"\nDETAIL:  Key (id)=(1965488) already exists."
     ]
    }
   ],
   "source": [
    "items = pl.read_csv(\"../db/csvs/item.csv\").rows()\n",
    "\n",
    "await pgpool.copy_records_to_table(\"item\", records=items)"
   ]
  },
  {
   "cell_type": "code",
   "execution_count": 12,
   "metadata": {},
   "outputs": [
    {
     "data": {
      "text/plain": [
       "'COPY 3'"
      ]
     },
     "execution_count": 12,
     "metadata": {},
     "output_type": "execute_result"
    }
   ],
   "source": [
    "await pgpool.copy_records_to_table(\"client\", records=client.rows())"
   ]
  },
  {
   "cell_type": "code",
   "execution_count": 14,
   "metadata": {},
   "outputs": [
    {
     "data": {
      "text/plain": [
       "'COPY 4'"
      ]
     },
     "execution_count": 14,
     "metadata": {},
     "output_type": "execute_result"
    }
   ],
   "source": [
    "item_in_list = pl.read_csv(\"../db/csvs/item_in_list.csv\").rows()\n",
    "\n",
    "await pgpool.copy_records_to_table(\"item_in_list\", records=item_in_list)"
   ]
  },
  {
   "cell_type": "code",
   "execution_count": 16,
   "metadata": {},
   "outputs": [
    {
     "ename": "ComputeError",
     "evalue": "Conversion from `str` to `decimal[10,2]` failed in column 'total_price' for 3 out of 3 values: [\"6.9900000000000000\", \"156.7800000000000000\", \"4789.9800000000000000\"]",
     "output_type": "error",
     "traceback": [
      "\u001b[0;31m---------------------------------------------------------------------------\u001b[0m",
      "\u001b[0;31mComputeError\u001b[0m                              Traceback (most recent call last)",
      "Cell \u001b[0;32mIn[16], line 8\u001b[0m\n\u001b[1;32m      1\u001b[0m query \u001b[38;5;241m=\u001b[39m \u001b[38;5;124m\"\"\"\u001b[39m\n\u001b[1;32m      2\u001b[0m \u001b[38;5;124mSELECT AVG(li.quantity * i.price) AS total_price \u001b[39m\n\u001b[1;32m      3\u001b[0m \u001b[38;5;124mFROM item_in_list li \u001b[39m\n\u001b[1;32m      4\u001b[0m \u001b[38;5;124mJOIN item i ON li.item_id = i.id \u001b[39m\n\u001b[1;32m      5\u001b[0m \u001b[38;5;124mGROUP BY li.list_id\u001b[39m\n\u001b[1;32m      6\u001b[0m \u001b[38;5;124m\"\"\"\u001b[39m\n\u001b[0;32m----> 8\u001b[0m \u001b[43mpl\u001b[49m\u001b[38;5;241;43m.\u001b[39;49m\u001b[43mread_database_uri\u001b[49m\u001b[43m(\u001b[49m\n\u001b[1;32m      9\u001b[0m \u001b[43m    \u001b[49m\u001b[43mquery\u001b[49m\u001b[38;5;241;43m=\u001b[39;49m\u001b[43mquery\u001b[49m\u001b[43m,\u001b[49m\n\u001b[1;32m     10\u001b[0m \u001b[43m    \u001b[49m\u001b[43muri\u001b[49m\u001b[38;5;241;43m=\u001b[39;49m\u001b[43mDB_URL\u001b[49m\u001b[43m,\u001b[49m\n\u001b[1;32m     11\u001b[0m \u001b[43m    \u001b[49m\u001b[43mengine\u001b[49m\u001b[38;5;241;43m=\u001b[39;49m\u001b[38;5;124;43m\"\u001b[39;49m\u001b[38;5;124;43madbc\u001b[39;49m\u001b[38;5;124;43m\"\u001b[39;49m\u001b[43m,\u001b[49m\n\u001b[1;32m     12\u001b[0m \u001b[43m    \u001b[49m\u001b[43mschema_overrides\u001b[49m\u001b[38;5;241;43m=\u001b[39;49m\u001b[43m{\u001b[49m\u001b[38;5;124;43m\"\u001b[39;49m\u001b[38;5;124;43mtotal_price\u001b[39;49m\u001b[38;5;124;43m\"\u001b[39;49m\u001b[43m:\u001b[49m\u001b[43m \u001b[49m\u001b[43mpl\u001b[49m\u001b[38;5;241;43m.\u001b[39;49m\u001b[43mDecimal\u001b[49m\u001b[43m(\u001b[49m\u001b[43mprecision\u001b[49m\u001b[38;5;241;43m=\u001b[39;49m\u001b[38;5;241;43m10\u001b[39;49m\u001b[43m,\u001b[49m\u001b[43m \u001b[49m\u001b[43mscale\u001b[49m\u001b[38;5;241;43m=\u001b[39;49m\u001b[38;5;241;43m2\u001b[39;49m\u001b[43m)\u001b[49m\u001b[43m}\u001b[49m\u001b[43m,\u001b[49m\n\u001b[1;32m     13\u001b[0m \u001b[43m)\u001b[49m\n",
      "File \u001b[0;32m~/.cache/pypoetry/virtualenvs/sandbox-3A4Qvb5F-py3.12/lib/python3.12/site-packages/polars/io/database.py:701\u001b[0m, in \u001b[0;36mread_database_uri\u001b[0;34m(query, uri, partition_on, partition_range, partition_num, protocol, engine, schema_overrides)\u001b[0m\n\u001b[1;32m    699\u001b[0m     \u001b[38;5;28;01mif\u001b[39;00m \u001b[38;5;129;01mnot\u001b[39;00m \u001b[38;5;28misinstance\u001b[39m(query, \u001b[38;5;28mstr\u001b[39m):\n\u001b[1;32m    700\u001b[0m         \u001b[38;5;28;01mraise\u001b[39;00m \u001b[38;5;167;01mValueError\u001b[39;00m(\u001b[38;5;124m\"\u001b[39m\u001b[38;5;124monly a single SQL query string is accepted for adbc\u001b[39m\u001b[38;5;124m\"\u001b[39m)\n\u001b[0;32m--> 701\u001b[0m     \u001b[38;5;28;01mreturn\u001b[39;00m \u001b[43m_read_sql_adbc\u001b[49m\u001b[43m(\u001b[49m\u001b[43mquery\u001b[49m\u001b[43m,\u001b[49m\u001b[43m \u001b[49m\u001b[43muri\u001b[49m\u001b[43m,\u001b[49m\u001b[43m \u001b[49m\u001b[43mschema_overrides\u001b[49m\u001b[43m)\u001b[49m\n\u001b[1;32m    702\u001b[0m \u001b[38;5;28;01melse\u001b[39;00m:\n\u001b[1;32m    703\u001b[0m     \u001b[38;5;28;01mraise\u001b[39;00m \u001b[38;5;167;01mValueError\u001b[39;00m(\n\u001b[1;32m    704\u001b[0m         \u001b[38;5;124mf\u001b[39m\u001b[38;5;124m\"\u001b[39m\u001b[38;5;124mengine must be one of \u001b[39m\u001b[38;5;130;01m{{\u001b[39;00m\u001b[38;5;124m'\u001b[39m\u001b[38;5;124mconnectorx\u001b[39m\u001b[38;5;124m'\u001b[39m\u001b[38;5;124m, \u001b[39m\u001b[38;5;124m'\u001b[39m\u001b[38;5;124madbc\u001b[39m\u001b[38;5;124m'\u001b[39m\u001b[38;5;130;01m}}\u001b[39;00m\u001b[38;5;124m, got \u001b[39m\u001b[38;5;132;01m{\u001b[39;00mengine\u001b[38;5;132;01m!r}\u001b[39;00m\u001b[38;5;124m\"\u001b[39m\n\u001b[1;32m    705\u001b[0m     )\n",
      "File \u001b[0;32m~/.cache/pypoetry/virtualenvs/sandbox-3A4Qvb5F-py3.12/lib/python3.12/site-packages/polars/io/database.py:748\u001b[0m, in \u001b[0;36m_read_sql_adbc\u001b[0;34m(query, connection_uri, schema_overrides)\u001b[0m\n\u001b[1;32m    746\u001b[0m     cursor\u001b[38;5;241m.\u001b[39mexecute(query)\n\u001b[1;32m    747\u001b[0m     tbl \u001b[38;5;241m=\u001b[39m cursor\u001b[38;5;241m.\u001b[39mfetch_arrow_table()\n\u001b[0;32m--> 748\u001b[0m \u001b[38;5;28;01mreturn\u001b[39;00m \u001b[43mfrom_arrow\u001b[49m\u001b[43m(\u001b[49m\u001b[43mtbl\u001b[49m\u001b[43m,\u001b[49m\u001b[43m \u001b[49m\u001b[43mschema_overrides\u001b[49m\u001b[38;5;241;43m=\u001b[39;49m\u001b[43mschema_overrides\u001b[49m\u001b[43m)\u001b[49m\n",
      "File \u001b[0;32m~/.cache/pypoetry/virtualenvs/sandbox-3A4Qvb5F-py3.12/lib/python3.12/site-packages/polars/convert.py:594\u001b[0m, in \u001b[0;36mfrom_arrow\u001b[0;34m(data, schema, schema_overrides, rechunk)\u001b[0m\n\u001b[1;32m    529\u001b[0m \u001b[38;5;250m\u001b[39m\u001b[38;5;124;03m\"\"\"\u001b[39;00m\n\u001b[1;32m    530\u001b[0m \u001b[38;5;124;03mCreate a DataFrame or Series from an Arrow Table or Array.\u001b[39;00m\n\u001b[1;32m    531\u001b[0m \n\u001b[0;32m   (...)\u001b[0m\n\u001b[1;32m    591\u001b[0m \n\u001b[1;32m    592\u001b[0m \u001b[38;5;124;03m\"\"\"\u001b[39;00m  \u001b[38;5;66;03m# noqa: W505\u001b[39;00m\n\u001b[1;32m    593\u001b[0m \u001b[38;5;28;01mif\u001b[39;00m \u001b[38;5;28misinstance\u001b[39m(data, pa\u001b[38;5;241m.\u001b[39mTable):\n\u001b[0;32m--> 594\u001b[0m     \u001b[38;5;28;01mreturn\u001b[39;00m \u001b[43mpl\u001b[49m\u001b[38;5;241;43m.\u001b[39;49m\u001b[43mDataFrame\u001b[49m\u001b[38;5;241;43m.\u001b[39;49m\u001b[43m_from_arrow\u001b[49m\u001b[43m(\u001b[49m\n\u001b[1;32m    595\u001b[0m \u001b[43m        \u001b[49m\u001b[43mdata\u001b[49m\u001b[38;5;241;43m=\u001b[39;49m\u001b[43mdata\u001b[49m\u001b[43m,\u001b[49m\u001b[43m \u001b[49m\u001b[43mrechunk\u001b[49m\u001b[38;5;241;43m=\u001b[39;49m\u001b[43mrechunk\u001b[49m\u001b[43m,\u001b[49m\u001b[43m \u001b[49m\u001b[43mschema\u001b[49m\u001b[38;5;241;43m=\u001b[39;49m\u001b[43mschema\u001b[49m\u001b[43m,\u001b[49m\u001b[43m \u001b[49m\u001b[43mschema_overrides\u001b[49m\u001b[38;5;241;43m=\u001b[39;49m\u001b[43mschema_overrides\u001b[49m\n\u001b[1;32m    596\u001b[0m \u001b[43m    \u001b[49m\u001b[43m)\u001b[49m\n\u001b[1;32m    597\u001b[0m \u001b[38;5;28;01melif\u001b[39;00m \u001b[38;5;28misinstance\u001b[39m(data, (pa\u001b[38;5;241m.\u001b[39mArray, pa\u001b[38;5;241m.\u001b[39mChunkedArray)):\n\u001b[1;32m    598\u001b[0m     name \u001b[38;5;241m=\u001b[39m \u001b[38;5;28mgetattr\u001b[39m(data, \u001b[38;5;124m\"\u001b[39m\u001b[38;5;124m_name\u001b[39m\u001b[38;5;124m\"\u001b[39m, \u001b[38;5;124m\"\u001b[39m\u001b[38;5;124m\"\u001b[39m) \u001b[38;5;129;01mor\u001b[39;00m \u001b[38;5;124m\"\u001b[39m\u001b[38;5;124m\"\u001b[39m\n",
      "File \u001b[0;32m~/.cache/pypoetry/virtualenvs/sandbox-3A4Qvb5F-py3.12/lib/python3.12/site-packages/polars/dataframe/frame.py:599\u001b[0m, in \u001b[0;36mDataFrame._from_arrow\u001b[0;34m(cls, data, schema, schema_overrides, rechunk)\u001b[0m\n\u001b[1;32m    562\u001b[0m \u001b[38;5;129m@classmethod\u001b[39m\n\u001b[1;32m    563\u001b[0m \u001b[38;5;28;01mdef\u001b[39;00m \u001b[38;5;21m_from_arrow\u001b[39m(\n\u001b[1;32m    564\u001b[0m     \u001b[38;5;28mcls\u001b[39m,\n\u001b[0;32m   (...)\u001b[0m\n\u001b[1;32m    569\u001b[0m     rechunk: \u001b[38;5;28mbool\u001b[39m \u001b[38;5;241m=\u001b[39m \u001b[38;5;28;01mTrue\u001b[39;00m,\n\u001b[1;32m    570\u001b[0m ) \u001b[38;5;241m-\u001b[39m\u001b[38;5;241m>\u001b[39m Self:\n\u001b[1;32m    571\u001b[0m \u001b[38;5;250m    \u001b[39m\u001b[38;5;124;03m\"\"\"\u001b[39;00m\n\u001b[1;32m    572\u001b[0m \u001b[38;5;124;03m    Construct a DataFrame from an Arrow table.\u001b[39;00m\n\u001b[1;32m    573\u001b[0m \n\u001b[0;32m   (...)\u001b[0m\n\u001b[1;32m    596\u001b[0m \n\u001b[1;32m    597\u001b[0m \u001b[38;5;124;03m    \"\"\"\u001b[39;00m\n\u001b[1;32m    598\u001b[0m     \u001b[38;5;28;01mreturn\u001b[39;00m \u001b[38;5;28mcls\u001b[39m\u001b[38;5;241m.\u001b[39m_from_pydf(\n\u001b[0;32m--> 599\u001b[0m         \u001b[43marrow_to_pydf\u001b[49m\u001b[43m(\u001b[49m\n\u001b[1;32m    600\u001b[0m \u001b[43m            \u001b[49m\u001b[43mdata\u001b[49m\u001b[43m,\u001b[49m\n\u001b[1;32m    601\u001b[0m \u001b[43m            \u001b[49m\u001b[43mschema\u001b[49m\u001b[38;5;241;43m=\u001b[39;49m\u001b[43mschema\u001b[49m\u001b[43m,\u001b[49m\n\u001b[1;32m    602\u001b[0m \u001b[43m            \u001b[49m\u001b[43mschema_overrides\u001b[49m\u001b[38;5;241;43m=\u001b[39;49m\u001b[43mschema_overrides\u001b[49m\u001b[43m,\u001b[49m\n\u001b[1;32m    603\u001b[0m \u001b[43m            \u001b[49m\u001b[43mrechunk\u001b[49m\u001b[38;5;241;43m=\u001b[39;49m\u001b[43mrechunk\u001b[49m\u001b[43m,\u001b[49m\n\u001b[1;32m    604\u001b[0m \u001b[43m        \u001b[49m\u001b[43m)\u001b[49m\n\u001b[1;32m    605\u001b[0m     )\n",
      "File \u001b[0;32m~/.cache/pypoetry/virtualenvs/sandbox-3A4Qvb5F-py3.12/lib/python3.12/site-packages/polars/utils/_construction.py:1564\u001b[0m, in \u001b[0;36marrow_to_pydf\u001b[0;34m(data, schema, schema_overrides, rechunk)\u001b[0m\n\u001b[1;32m   1561\u001b[0m     pydf \u001b[38;5;241m=\u001b[39m df\u001b[38;5;241m.\u001b[39m_df\n\u001b[1;32m   1563\u001b[0m \u001b[38;5;28;01mif\u001b[39;00m column_names \u001b[38;5;241m!=\u001b[39m original_schema \u001b[38;5;129;01mand\u001b[39;00m (schema_overrides \u001b[38;5;129;01mor\u001b[39;00m original_schema):\n\u001b[0;32m-> 1564\u001b[0m     pydf \u001b[38;5;241m=\u001b[39m \u001b[43m_post_apply_columns\u001b[49m\u001b[43m(\u001b[49m\n\u001b[1;32m   1565\u001b[0m \u001b[43m        \u001b[49m\u001b[43mpydf\u001b[49m\u001b[43m,\u001b[49m\u001b[43m \u001b[49m\u001b[43moriginal_schema\u001b[49m\u001b[43m,\u001b[49m\u001b[43m \u001b[49m\u001b[43mschema_overrides\u001b[49m\u001b[38;5;241;43m=\u001b[39;49m\u001b[43mschema_overrides\u001b[49m\n\u001b[1;32m   1566\u001b[0m \u001b[43m    \u001b[49m\u001b[43m)\u001b[49m\n\u001b[1;32m   1567\u001b[0m \u001b[38;5;28;01melif\u001b[39;00m schema_overrides:\n\u001b[1;32m   1568\u001b[0m     \u001b[38;5;28;01mfor\u001b[39;00m col, dtype \u001b[38;5;129;01min\u001b[39;00m \u001b[38;5;28mzip\u001b[39m(pydf\u001b[38;5;241m.\u001b[39mcolumns(), pydf\u001b[38;5;241m.\u001b[39mdtypes()):\n",
      "File \u001b[0;32m~/.cache/pypoetry/virtualenvs/sandbox-3A4Qvb5F-py3.12/lib/python3.12/site-packages/polars/utils/_construction.py:707\u001b[0m, in \u001b[0;36m_post_apply_columns\u001b[0;34m(pydf, columns, structs, schema_overrides)\u001b[0m\n\u001b[1;32m    705\u001b[0m     \u001b[38;5;28;01mif\u001b[39;00m column_subset:\n\u001b[1;32m    706\u001b[0m         pydf \u001b[38;5;241m=\u001b[39m pydf\u001b[38;5;241m.\u001b[39mselect([F\u001b[38;5;241m.\u001b[39mcol(col)\u001b[38;5;241m.\u001b[39m_pyexpr \u001b[38;5;28;01mfor\u001b[39;00m col \u001b[38;5;129;01min\u001b[39;00m column_subset])\n\u001b[0;32m--> 707\u001b[0m     pydf \u001b[38;5;241m=\u001b[39m \u001b[43mpydf\u001b[49m\u001b[38;5;241;43m.\u001b[39;49m\u001b[43mcollect\u001b[49m\u001b[43m(\u001b[49m\u001b[43m)\u001b[49m\n\u001b[1;32m    709\u001b[0m \u001b[38;5;28;01mreturn\u001b[39;00m pydf\n",
      "\u001b[0;31mComputeError\u001b[0m: Conversion from `str` to `decimal[10,2]` failed in column 'total_price' for 3 out of 3 values: [\"6.9900000000000000\", \"156.7800000000000000\", \"4789.9800000000000000\"]"
     ]
    }
   ],
   "source": [
    "query = \"\"\"\n",
    "SELECT AVG(li.quantity * i.price) AS total_price \n",
    "FROM item_in_list li \n",
    "JOIN item i ON li.item_id = i.id \n",
    "GROUP BY li.list_id\n",
    "\"\"\"\n",
    "\n",
    "pl.read_database_uri(\n",
    "    query=query,\n",
    "    uri=DB_URL,\n",
    "    engine=\"adbc\",\n",
    "    schema_overrides={\"total_price\": pl.Decimal(precision=10, scale=2)},\n",
    ")"
   ]
  }
 ],
 "metadata": {
  "kernelspec": {
   "display_name": ".venv",
   "language": "python",
   "name": "python3"
  },
  "language_info": {
   "codemirror_mode": {
    "name": "ipython",
    "version": 3
   },
   "file_extension": ".py",
   "mimetype": "text/x-python",
   "name": "python",
   "nbconvert_exporter": "python",
   "pygments_lexer": "ipython3",
   "version": "3.12.3"
  }
 },
 "nbformat": 4,
 "nbformat_minor": 2
}
